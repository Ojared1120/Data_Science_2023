{
 "cells": [
  {
   "cell_type": "code",
   "execution_count": 6,
   "metadata": {},
   "outputs": [
    {
     "name": "stdout",
     "output_type": "stream",
     "text": [
      "Requirement already satisfied: hvplot in c:\\users\\jared\\desktop\\coding\\personalizedaiemailing\\env\\lib\\site-packages (0.8.4)\n",
      "Requirement already satisfied: bokeh>=1.0.0 in c:\\users\\jared\\desktop\\coding\\personalizedaiemailing\\env\\lib\\site-packages (from hvplot) (3.2.0)\n",
      "Requirement already satisfied: colorcet>=2 in c:\\users\\jared\\desktop\\coding\\personalizedaiemailing\\env\\lib\\site-packages (from hvplot) (3.0.1)\n",
      "Requirement already satisfied: holoviews>=1.11.0 in c:\\users\\jared\\desktop\\coding\\personalizedaiemailing\\env\\lib\\site-packages (from hvplot) (1.16.2)\n",
      "Requirement already satisfied: pandas in c:\\users\\jared\\desktop\\coding\\personalizedaiemailing\\env\\lib\\site-packages (from hvplot) (2.0.3)\n",
      "Requirement already satisfied: numpy>=1.15 in c:\\users\\jared\\desktop\\coding\\personalizedaiemailing\\env\\lib\\site-packages (from hvplot) (1.25.1)\n",
      "Requirement already satisfied: packaging in c:\\users\\jared\\desktop\\coding\\personalizedaiemailing\\env\\lib\\site-packages (from hvplot) (23.1)\n",
      "Requirement already satisfied: panel>=0.11.0 in c:\\users\\jared\\desktop\\coding\\personalizedaiemailing\\env\\lib\\site-packages (from hvplot) (1.2.0)\n",
      "Requirement already satisfied: param>=1.9.0 in c:\\users\\jared\\desktop\\coding\\personalizedaiemailing\\env\\lib\\site-packages (from hvplot) (1.13.0)\n",
      "Requirement already satisfied: Jinja2>=2.9 in c:\\users\\jared\\desktop\\coding\\personalizedaiemailing\\env\\lib\\site-packages (from bokeh>=1.0.0->hvplot) (3.1.2)\n",
      "Requirement already satisfied: contourpy>=1 in c:\\users\\jared\\desktop\\coding\\personalizedaiemailing\\env\\lib\\site-packages (from bokeh>=1.0.0->hvplot) (1.1.0)\n",
      "Requirement already satisfied: pillow>=7.1.0 in c:\\users\\jared\\desktop\\coding\\personalizedaiemailing\\env\\lib\\site-packages (from bokeh>=1.0.0->hvplot) (10.0.0)\n",
      "Requirement already satisfied: PyYAML>=3.10 in c:\\users\\jared\\desktop\\coding\\personalizedaiemailing\\env\\lib\\site-packages (from bokeh>=1.0.0->hvplot) (6.0.1)\n",
      "Requirement already satisfied: tornado>=5.1 in c:\\users\\jared\\desktop\\coding\\personalizedaiemailing\\env\\lib\\site-packages (from bokeh>=1.0.0->hvplot) (6.3.2)\n",
      "Requirement already satisfied: xyzservices>=2021.09.1 in c:\\users\\jared\\desktop\\coding\\personalizedaiemailing\\env\\lib\\site-packages (from bokeh>=1.0.0->hvplot) (2023.7.0)\n",
      "Requirement already satisfied: pyct>=0.4.4 in c:\\users\\jared\\desktop\\coding\\personalizedaiemailing\\env\\lib\\site-packages (from colorcet>=2->hvplot) (0.5.0)\n",
      "Requirement already satisfied: pyviz-comms>=0.7.4 in c:\\users\\jared\\desktop\\coding\\personalizedaiemailing\\env\\lib\\site-packages (from holoviews>=1.11.0->hvplot) (2.3.2)\n",
      "Requirement already satisfied: python-dateutil>=2.8.2 in c:\\users\\jared\\desktop\\coding\\personalizedaiemailing\\env\\lib\\site-packages (from pandas->hvplot) (2.8.2)\n",
      "Requirement already satisfied: pytz>=2020.1 in c:\\users\\jared\\desktop\\coding\\personalizedaiemailing\\env\\lib\\site-packages (from pandas->hvplot) (2023.3)\n",
      "Requirement already satisfied: tzdata>=2022.1 in c:\\users\\jared\\desktop\\coding\\personalizedaiemailing\\env\\lib\\site-packages (from pandas->hvplot) (2023.3)\n",
      "Requirement already satisfied: markdown in c:\\users\\jared\\desktop\\coding\\personalizedaiemailing\\env\\lib\\site-packages (from panel>=0.11.0->hvplot) (3.4.3)\n",
      "Requirement already satisfied: markdown-it-py in c:\\users\\jared\\desktop\\coding\\personalizedaiemailing\\env\\lib\\site-packages (from panel>=0.11.0->hvplot) (3.0.0)\n",
      "Requirement already satisfied: linkify-it-py in c:\\users\\jared\\desktop\\coding\\personalizedaiemailing\\env\\lib\\site-packages (from panel>=0.11.0->hvplot) (2.0.2)\n",
      "Requirement already satisfied: mdit-py-plugins in c:\\users\\jared\\desktop\\coding\\personalizedaiemailing\\env\\lib\\site-packages (from panel>=0.11.0->hvplot) (0.4.0)\n",
      "Requirement already satisfied: requests in c:\\users\\jared\\desktop\\coding\\personalizedaiemailing\\env\\lib\\site-packages (from panel>=0.11.0->hvplot) (2.31.0)\n",
      "Requirement already satisfied: tqdm>=4.48.0 in c:\\users\\jared\\desktop\\coding\\personalizedaiemailing\\env\\lib\\site-packages (from panel>=0.11.0->hvplot) (4.65.0)\n",
      "Requirement already satisfied: bleach in c:\\users\\jared\\desktop\\coding\\personalizedaiemailing\\env\\lib\\site-packages (from panel>=0.11.0->hvplot) (6.0.0)\n",
      "Requirement already satisfied: typing-extensions in c:\\users\\jared\\desktop\\coding\\personalizedaiemailing\\env\\lib\\site-packages (from panel>=0.11.0->hvplot) (4.7.1)\n",
      "Requirement already satisfied: MarkupSafe>=2.0 in c:\\users\\jared\\desktop\\coding\\personalizedaiemailing\\env\\lib\\site-packages (from Jinja2>=2.9->bokeh>=1.0.0->hvplot) (2.1.3)\n",
      "Requirement already satisfied: six>=1.5 in c:\\users\\jared\\desktop\\coding\\personalizedaiemailing\\env\\lib\\site-packages (from python-dateutil>=2.8.2->pandas->hvplot) (1.16.0)\n",
      "Requirement already satisfied: colorama in c:\\users\\jared\\desktop\\coding\\personalizedaiemailing\\env\\lib\\site-packages (from tqdm>=4.48.0->panel>=0.11.0->hvplot) (0.4.6)\n",
      "Requirement already satisfied: webencodings in c:\\users\\jared\\desktop\\coding\\personalizedaiemailing\\env\\lib\\site-packages (from bleach->panel>=0.11.0->hvplot) (0.5.1)\n",
      "Requirement already satisfied: uc-micro-py in c:\\users\\jared\\desktop\\coding\\personalizedaiemailing\\env\\lib\\site-packages (from linkify-it-py->panel>=0.11.0->hvplot) (1.0.2)\n",
      "Requirement already satisfied: mdurl~=0.1 in c:\\users\\jared\\desktop\\coding\\personalizedaiemailing\\env\\lib\\site-packages (from markdown-it-py->panel>=0.11.0->hvplot) (0.1.2)\n",
      "Requirement already satisfied: charset-normalizer<4,>=2 in c:\\users\\jared\\desktop\\coding\\personalizedaiemailing\\env\\lib\\site-packages (from requests->panel>=0.11.0->hvplot) (3.2.0)\n",
      "Requirement already satisfied: idna<4,>=2.5 in c:\\users\\jared\\desktop\\coding\\personalizedaiemailing\\env\\lib\\site-packages (from requests->panel>=0.11.0->hvplot) (3.4)\n",
      "Requirement already satisfied: urllib3<3,>=1.21.1 in c:\\users\\jared\\desktop\\coding\\personalizedaiemailing\\env\\lib\\site-packages (from requests->panel>=0.11.0->hvplot) (1.26.16)\n",
      "Requirement already satisfied: certifi>=2017.4.17 in c:\\users\\jared\\desktop\\coding\\personalizedaiemailing\\env\\lib\\site-packages (from requests->panel>=0.11.0->hvplot) (2023.5.7)\n"
     ]
    }
   ],
   "source": [
    "!pip install hvplot"
   ]
  },
  {
   "cell_type": "code",
   "execution_count": 7,
   "metadata": {},
   "outputs": [
    {
     "data": {
      "application/javascript": "(function(root) {\n  function now() {\n    return new Date();\n  }\n\n  var force = true;\n  var py_version = '3.2.0'.replace('rc', '-rc.').replace('.dev', '-dev.');\n  var is_dev = py_version.indexOf(\"+\") !== -1 || py_version.indexOf(\"-\") !== -1;\n  var reloading = false;\n  var Bokeh = root.Bokeh;\n  var bokeh_loaded = Bokeh != null && (Bokeh.version === py_version || (Bokeh.versions !== undefined && Bokeh.versions.has(py_version)));\n\n  if (typeof (root._bokeh_timeout) === \"undefined\" || force) {\n    root._bokeh_timeout = Date.now() + 5000;\n    root._bokeh_failed_load = false;\n  }\n\n  function run_callbacks() {\n    try {\n      root._bokeh_onload_callbacks.forEach(function(callback) {\n        if (callback != null)\n          callback();\n      });\n    } finally {\n      delete root._bokeh_onload_callbacks;\n    }\n    console.debug(\"Bokeh: all callbacks have finished\");\n  }\n\n  function load_libs(css_urls, js_urls, js_modules, js_exports, callback) {\n    if (css_urls == null) css_urls = [];\n    if (js_urls == null) js_urls = [];\n    if (js_modules == null) js_modules = [];\n    if (js_exports == null) js_exports = {};\n\n    root._bokeh_onload_callbacks.push(callback);\n\n    if (root._bokeh_is_loading > 0) {\n      console.debug(\"Bokeh: BokehJS is being loaded, scheduling callback at\", now());\n      return null;\n    }\n    if (js_urls.length === 0 && js_modules.length === 0 && Object.keys(js_exports).length === 0) {\n      run_callbacks();\n      return null;\n    }\n    if (!reloading) {\n      console.debug(\"Bokeh: BokehJS not loaded, scheduling load and callback at\", now());\n    }\n\n    function on_load() {\n      root._bokeh_is_loading--;\n      if (root._bokeh_is_loading === 0) {\n        console.debug(\"Bokeh: all BokehJS libraries/stylesheets loaded\");\n        run_callbacks()\n      }\n    }\n    window._bokeh_on_load = on_load\n\n    function on_error() {\n      console.error(\"failed to load \" + url);\n    }\n\n    var skip = [];\n    if (window.requirejs) {\n      window.requirejs.config({'packages': {}, 'paths': {'jspanel': 'https://cdn.jsdelivr.net/npm/jspanel4@4.12.0/dist/jspanel', 'jspanel-modal': 'https://cdn.jsdelivr.net/npm/jspanel4@4.12.0/dist/extensions/modal/jspanel.modal', 'jspanel-tooltip': 'https://cdn.jsdelivr.net/npm/jspanel4@4.12.0/dist/extensions/tooltip/jspanel.tooltip', 'jspanel-hint': 'https://cdn.jsdelivr.net/npm/jspanel4@4.12.0/dist/extensions/hint/jspanel.hint', 'jspanel-layout': 'https://cdn.jsdelivr.net/npm/jspanel4@4.12.0/dist/extensions/layout/jspanel.layout', 'jspanel-contextmenu': 'https://cdn.jsdelivr.net/npm/jspanel4@4.12.0/dist/extensions/contextmenu/jspanel.contextmenu', 'jspanel-dock': 'https://cdn.jsdelivr.net/npm/jspanel4@4.12.0/dist/extensions/dock/jspanel.dock', 'gridstack': 'https://cdn.jsdelivr.net/npm/gridstack@7.2.3/dist/gridstack-all', 'notyf': 'https://cdn.jsdelivr.net/npm/notyf@3/notyf.min'}, 'shim': {'jspanel': {'exports': 'jsPanel'}, 'gridstack': {'exports': 'GridStack'}}});\n      require([\"jspanel\"], function(jsPanel) {\n\twindow.jsPanel = jsPanel\n\ton_load()\n      })\n      require([\"jspanel-modal\"], function() {\n\ton_load()\n      })\n      require([\"jspanel-tooltip\"], function() {\n\ton_load()\n      })\n      require([\"jspanel-hint\"], function() {\n\ton_load()\n      })\n      require([\"jspanel-layout\"], function() {\n\ton_load()\n      })\n      require([\"jspanel-contextmenu\"], function() {\n\ton_load()\n      })\n      require([\"jspanel-dock\"], function() {\n\ton_load()\n      })\n      require([\"gridstack\"], function(GridStack) {\n\twindow.GridStack = GridStack\n\ton_load()\n      })\n      require([\"notyf\"], function() {\n\ton_load()\n      })\n      root._bokeh_is_loading = css_urls.length + 9;\n    } else {\n      root._bokeh_is_loading = css_urls.length + js_urls.length + js_modules.length + Object.keys(js_exports).length;\n    }\n\n    var existing_stylesheets = []\n    var links = document.getElementsByTagName('link')\n    for (var i = 0; i < links.length; i++) {\n      var link = links[i]\n      if (link.href != null) {\n\texisting_stylesheets.push(link.href)\n      }\n    }\n    for (var i = 0; i < css_urls.length; i++) {\n      var url = css_urls[i];\n      if (existing_stylesheets.indexOf(url) !== -1) {\n\ton_load()\n\tcontinue;\n      }\n      const element = document.createElement(\"link\");\n      element.onload = on_load;\n      element.onerror = on_error;\n      element.rel = \"stylesheet\";\n      element.type = \"text/css\";\n      element.href = url;\n      console.debug(\"Bokeh: injecting link tag for BokehJS stylesheet: \", url);\n      document.body.appendChild(element);\n    }    if (((window['jsPanel'] !== undefined) && (!(window['jsPanel'] instanceof HTMLElement))) || window.requirejs) {\n      var urls = ['https://cdn.holoviz.org/panel/1.2.0/dist/bundled/floatpanel/jspanel4@4.12.0/dist/jspanel.js', 'https://cdn.holoviz.org/panel/1.2.0/dist/bundled/floatpanel/jspanel4@4.12.0/dist/extensions/modal/jspanel.modal.js', 'https://cdn.holoviz.org/panel/1.2.0/dist/bundled/floatpanel/jspanel4@4.12.0/dist/extensions/tooltip/jspanel.tooltip.js', 'https://cdn.holoviz.org/panel/1.2.0/dist/bundled/floatpanel/jspanel4@4.12.0/dist/extensions/hint/jspanel.hint.js', 'https://cdn.holoviz.org/panel/1.2.0/dist/bundled/floatpanel/jspanel4@4.12.0/dist/extensions/layout/jspanel.layout.js', 'https://cdn.holoviz.org/panel/1.2.0/dist/bundled/floatpanel/jspanel4@4.12.0/dist/extensions/contextmenu/jspanel.contextmenu.js', 'https://cdn.holoviz.org/panel/1.2.0/dist/bundled/floatpanel/jspanel4@4.12.0/dist/extensions/dock/jspanel.dock.js'];\n      for (var i = 0; i < urls.length; i++) {\n        skip.push(urls[i])\n      }\n    }    if (((window['GridStack'] !== undefined) && (!(window['GridStack'] instanceof HTMLElement))) || window.requirejs) {\n      var urls = ['https://cdn.holoviz.org/panel/1.2.0/dist/bundled/gridstack/gridstack@7.2.3/dist/gridstack-all.js'];\n      for (var i = 0; i < urls.length; i++) {\n        skip.push(urls[i])\n      }\n    }    if (((window['Notyf'] !== undefined) && (!(window['Notyf'] instanceof HTMLElement))) || window.requirejs) {\n      var urls = ['https://cdn.holoviz.org/panel/1.2.0/dist/bundled/notificationarea/notyf@3/notyf.min.js'];\n      for (var i = 0; i < urls.length; i++) {\n        skip.push(urls[i])\n      }\n    }    var existing_scripts = []\n    var scripts = document.getElementsByTagName('script')\n    for (var i = 0; i < scripts.length; i++) {\n      var script = scripts[i]\n      if (script.src != null) {\n\texisting_scripts.push(script.src)\n      }\n    }\n    for (var i = 0; i < js_urls.length; i++) {\n      var url = js_urls[i];\n      if (skip.indexOf(url) !== -1 || existing_scripts.indexOf(url) !== -1) {\n\tif (!window.requirejs) {\n\t  on_load();\n\t}\n\tcontinue;\n      }\n      var element = document.createElement('script');\n      element.onload = on_load;\n      element.onerror = on_error;\n      element.async = false;\n      element.src = url;\n      console.debug(\"Bokeh: injecting script tag for BokehJS library: \", url);\n      document.head.appendChild(element);\n    }\n    for (var i = 0; i < js_modules.length; i++) {\n      var url = js_modules[i];\n      if (skip.indexOf(url) !== -1 || existing_scripts.indexOf(url) !== -1) {\n\tif (!window.requirejs) {\n\t  on_load();\n\t}\n\tcontinue;\n      }\n      var element = document.createElement('script');\n      element.onload = on_load;\n      element.onerror = on_error;\n      element.async = false;\n      element.src = url;\n      element.type = \"module\";\n      console.debug(\"Bokeh: injecting script tag for BokehJS library: \", url);\n      document.head.appendChild(element);\n    }\n    for (const name in js_exports) {\n      var url = js_exports[name];\n      if (skip.indexOf(url) >= 0 || root[name] != null) {\n\tif (!window.requirejs) {\n\t  on_load();\n\t}\n\tcontinue;\n      }\n      var element = document.createElement('script');\n      element.onerror = on_error;\n      element.async = false;\n      element.type = \"module\";\n      console.debug(\"Bokeh: injecting script tag for BokehJS library: \", url);\n      element.textContent = `\n      import ${name} from \"${url}\"\n      window.${name} = ${name}\n      window._bokeh_on_load()\n      `\n      document.head.appendChild(element);\n    }\n    if (!js_urls.length && !js_modules.length) {\n      on_load()\n    }\n  };\n\n  function inject_raw_css(css) {\n    const element = document.createElement(\"style\");\n    element.appendChild(document.createTextNode(css));\n    document.body.appendChild(element);\n  }\n\n  var js_urls = [\"https://cdn.bokeh.org/bokeh/release/bokeh-3.2.0.min.js\", \"https://cdn.bokeh.org/bokeh/release/bokeh-gl-3.2.0.min.js\", \"https://cdn.bokeh.org/bokeh/release/bokeh-widgets-3.2.0.min.js\", \"https://cdn.bokeh.org/bokeh/release/bokeh-tables-3.2.0.min.js\", \"https://cdn.holoviz.org/panel/1.2.0/dist/panel.min.js\"];\n  var js_modules = [];\n  var js_exports = {};\n  var css_urls = [];\n  var inline_js = [    function(Bokeh) {\n      Bokeh.set_log_level(\"info\");\n    },\nfunction(Bokeh) {} // ensure no trailing comma for IE\n  ];\n\n  function run_inline_js() {\n    if ((root.Bokeh !== undefined) || (force === true)) {\n      for (var i = 0; i < inline_js.length; i++) {\n        inline_js[i].call(root, root.Bokeh);\n      }\n      // Cache old bokeh versions\n      if (Bokeh != undefined && !reloading) {\n\tvar NewBokeh = root.Bokeh;\n\tif (Bokeh.versions === undefined) {\n\t  Bokeh.versions = new Map();\n\t}\n\tif (NewBokeh.version !== Bokeh.version) {\n\t  Bokeh.versions.set(NewBokeh.version, NewBokeh)\n\t}\n\troot.Bokeh = Bokeh;\n      }} else if (Date.now() < root._bokeh_timeout) {\n      setTimeout(run_inline_js, 100);\n    } else if (!root._bokeh_failed_load) {\n      console.log(\"Bokeh: BokehJS failed to load within specified timeout.\");\n      root._bokeh_failed_load = true;\n    }\n    root._bokeh_is_initializing = false\n  }\n\n  function load_or_wait() {\n    // Implement a backoff loop that tries to ensure we do not load multiple\n    // versions of Bokeh and its dependencies at the same time.\n    // In recent versions we use the root._bokeh_is_initializing flag\n    // to determine whether there is an ongoing attempt to initialize\n    // bokeh, however for backward compatibility we also try to ensure\n    // that we do not start loading a newer (Panel>=1.0 and Bokeh>3) version\n    // before older versions are fully initialized.\n    if (root._bokeh_is_initializing && Date.now() > root._bokeh_timeout) {\n      root._bokeh_is_initializing = false;\n      root._bokeh_onload_callbacks = undefined;\n      console.log(\"Bokeh: BokehJS was loaded multiple times but one version failed to initialize.\");\n      load_or_wait();\n    } else if (root._bokeh_is_initializing || (typeof root._bokeh_is_initializing === \"undefined\" && root._bokeh_onload_callbacks !== undefined)) {\n      setTimeout(load_or_wait, 100);\n    } else {\n      Bokeh = root.Bokeh;\n      bokeh_loaded = Bokeh != null && (Bokeh.version === py_version || (Bokeh.versions !== undefined && Bokeh.versions.has(py_version)));\n      root._bokeh_is_initializing = true\n      root._bokeh_onload_callbacks = []\n      if (!reloading && (!bokeh_loaded || is_dev)) {\n\troot.Bokeh = undefined;\n      }\n      load_libs(css_urls, js_urls, js_modules, js_exports, function() {\n\tconsole.debug(\"Bokeh: BokehJS plotting callback run at\", now());\n\trun_inline_js();\n      });\n    }\n  }\n  // Give older versions of the autoload script a head-start to ensure\n  // they initialize before we start loading newer version.\n  setTimeout(load_or_wait, 100)\n}(window));",
      "application/vnd.holoviews_load.v0+json": ""
     },
     "metadata": {},
     "output_type": "display_data"
    },
    {
     "data": {
      "application/javascript": "\nif ((window.PyViz === undefined) || (window.PyViz instanceof HTMLElement)) {\n  window.PyViz = {comms: {}, comm_status:{}, kernels:{}, receivers: {}, plot_index: []}\n}\n\n\n    function JupyterCommManager() {\n    }\n\n    JupyterCommManager.prototype.register_target = function(plot_id, comm_id, msg_handler) {\n      if (window.comm_manager || ((window.Jupyter !== undefined) && (Jupyter.notebook.kernel != null))) {\n        var comm_manager = window.comm_manager || Jupyter.notebook.kernel.comm_manager;\n        comm_manager.register_target(comm_id, function(comm) {\n          comm.on_msg(msg_handler);\n        });\n      } else if ((plot_id in window.PyViz.kernels) && (window.PyViz.kernels[plot_id])) {\n        window.PyViz.kernels[plot_id].registerCommTarget(comm_id, function(comm) {\n          comm.onMsg = msg_handler;\n        });\n      } else if (typeof google != 'undefined' && google.colab.kernel != null) {\n        google.colab.kernel.comms.registerTarget(comm_id, (comm) => {\n          var messages = comm.messages[Symbol.asyncIterator]();\n          function processIteratorResult(result) {\n            var message = result.value;\n            console.log(message)\n            var content = {data: message.data, comm_id};\n            var buffers = []\n            for (var buffer of message.buffers || []) {\n              buffers.push(new DataView(buffer))\n            }\n            var metadata = message.metadata || {};\n            var msg = {content, buffers, metadata}\n            msg_handler(msg);\n            return messages.next().then(processIteratorResult);\n          }\n          return messages.next().then(processIteratorResult);\n        })\n      }\n    }\n\n    JupyterCommManager.prototype.get_client_comm = function(plot_id, comm_id, msg_handler) {\n      if (comm_id in window.PyViz.comms) {\n        return window.PyViz.comms[comm_id];\n      } else if (window.comm_manager || ((window.Jupyter !== undefined) && (Jupyter.notebook.kernel != null))) {\n        var comm_manager = window.comm_manager || Jupyter.notebook.kernel.comm_manager;\n        var comm = comm_manager.new_comm(comm_id, {}, {}, {}, comm_id);\n        if (msg_handler) {\n          comm.on_msg(msg_handler);\n        }\n      } else if ((plot_id in window.PyViz.kernels) && (window.PyViz.kernels[plot_id])) {\n        var comm = window.PyViz.kernels[plot_id].connectToComm(comm_id);\n        comm.open();\n        if (msg_handler) {\n          comm.onMsg = msg_handler;\n        }\n      } else if (typeof google != 'undefined' && google.colab.kernel != null) {\n        var comm_promise = google.colab.kernel.comms.open(comm_id)\n        comm_promise.then((comm) => {\n          window.PyViz.comms[comm_id] = comm;\n          if (msg_handler) {\n            var messages = comm.messages[Symbol.asyncIterator]();\n            function processIteratorResult(result) {\n              var message = result.value;\n              var content = {data: message.data};\n              var metadata = message.metadata || {comm_id};\n              var msg = {content, metadata}\n              msg_handler(msg);\n              return messages.next().then(processIteratorResult);\n            }\n            return messages.next().then(processIteratorResult);\n          }\n        }) \n        var sendClosure = (data, metadata, buffers, disposeOnDone) => {\n          return comm_promise.then((comm) => {\n            comm.send(data, metadata, buffers, disposeOnDone);\n          });\n        };\n        var comm = {\n          send: sendClosure\n        };\n      }\n      window.PyViz.comms[comm_id] = comm;\n      return comm;\n    }\n    window.PyViz.comm_manager = new JupyterCommManager();\n    \n\n\nvar JS_MIME_TYPE = 'application/javascript';\nvar HTML_MIME_TYPE = 'text/html';\nvar EXEC_MIME_TYPE = 'application/vnd.holoviews_exec.v0+json';\nvar CLASS_NAME = 'output';\n\n/**\n * Render data to the DOM node\n */\nfunction render(props, node) {\n  var div = document.createElement(\"div\");\n  var script = document.createElement(\"script\");\n  node.appendChild(div);\n  node.appendChild(script);\n}\n\n/**\n * Handle when a new output is added\n */\nfunction handle_add_output(event, handle) {\n  var output_area = handle.output_area;\n  var output = handle.output;\n  if ((output.data == undefined) || (!output.data.hasOwnProperty(EXEC_MIME_TYPE))) {\n    return\n  }\n  var id = output.metadata[EXEC_MIME_TYPE][\"id\"];\n  var toinsert = output_area.element.find(\".\" + CLASS_NAME.split(' ')[0]);\n  if (id !== undefined) {\n    var nchildren = toinsert.length;\n    var html_node = toinsert[nchildren-1].children[0];\n    html_node.innerHTML = output.data[HTML_MIME_TYPE];\n    var scripts = [];\n    var nodelist = html_node.querySelectorAll(\"script\");\n    for (var i in nodelist) {\n      if (nodelist.hasOwnProperty(i)) {\n        scripts.push(nodelist[i])\n      }\n    }\n\n    scripts.forEach( function (oldScript) {\n      var newScript = document.createElement(\"script\");\n      var attrs = [];\n      var nodemap = oldScript.attributes;\n      for (var j in nodemap) {\n        if (nodemap.hasOwnProperty(j)) {\n          attrs.push(nodemap[j])\n        }\n      }\n      attrs.forEach(function(attr) { newScript.setAttribute(attr.name, attr.value) });\n      newScript.appendChild(document.createTextNode(oldScript.innerHTML));\n      oldScript.parentNode.replaceChild(newScript, oldScript);\n    });\n    if (JS_MIME_TYPE in output.data) {\n      toinsert[nchildren-1].children[1].textContent = output.data[JS_MIME_TYPE];\n    }\n    output_area._hv_plot_id = id;\n    if ((window.Bokeh !== undefined) && (id in Bokeh.index)) {\n      window.PyViz.plot_index[id] = Bokeh.index[id];\n    } else {\n      window.PyViz.plot_index[id] = null;\n    }\n  } else if (output.metadata[EXEC_MIME_TYPE][\"server_id\"] !== undefined) {\n    var bk_div = document.createElement(\"div\");\n    bk_div.innerHTML = output.data[HTML_MIME_TYPE];\n    var script_attrs = bk_div.children[0].attributes;\n    for (var i = 0; i < script_attrs.length; i++) {\n      toinsert[toinsert.length - 1].childNodes[1].setAttribute(script_attrs[i].name, script_attrs[i].value);\n    }\n    // store reference to server id on output_area\n    output_area._bokeh_server_id = output.metadata[EXEC_MIME_TYPE][\"server_id\"];\n  }\n}\n\n/**\n * Handle when an output is cleared or removed\n */\nfunction handle_clear_output(event, handle) {\n  var id = handle.cell.output_area._hv_plot_id;\n  var server_id = handle.cell.output_area._bokeh_server_id;\n  if (((id === undefined) || !(id in PyViz.plot_index)) && (server_id !== undefined)) { return; }\n  var comm = window.PyViz.comm_manager.get_client_comm(\"hv-extension-comm\", \"hv-extension-comm\", function () {});\n  if (server_id !== null) {\n    comm.send({event_type: 'server_delete', 'id': server_id});\n    return;\n  } else if (comm !== null) {\n    comm.send({event_type: 'delete', 'id': id});\n  }\n  delete PyViz.plot_index[id];\n  if ((window.Bokeh !== undefined) & (id in window.Bokeh.index)) {\n    var doc = window.Bokeh.index[id].model.document\n    doc.clear();\n    const i = window.Bokeh.documents.indexOf(doc);\n    if (i > -1) {\n      window.Bokeh.documents.splice(i, 1);\n    }\n  }\n}\n\n/**\n * Handle kernel restart event\n */\nfunction handle_kernel_cleanup(event, handle) {\n  delete PyViz.comms[\"hv-extension-comm\"];\n  window.PyViz.plot_index = {}\n}\n\n/**\n * Handle update_display_data messages\n */\nfunction handle_update_output(event, handle) {\n  handle_clear_output(event, {cell: {output_area: handle.output_area}})\n  handle_add_output(event, handle)\n}\n\nfunction register_renderer(events, OutputArea) {\n  function append_mime(data, metadata, element) {\n    // create a DOM node to render to\n    var toinsert = this.create_output_subarea(\n    metadata,\n    CLASS_NAME,\n    EXEC_MIME_TYPE\n    );\n    this.keyboard_manager.register_events(toinsert);\n    // Render to node\n    var props = {data: data, metadata: metadata[EXEC_MIME_TYPE]};\n    render(props, toinsert[0]);\n    element.append(toinsert);\n    return toinsert\n  }\n\n  events.on('output_added.OutputArea', handle_add_output);\n  events.on('output_updated.OutputArea', handle_update_output);\n  events.on('clear_output.CodeCell', handle_clear_output);\n  events.on('delete.Cell', handle_clear_output);\n  events.on('kernel_ready.Kernel', handle_kernel_cleanup);\n\n  OutputArea.prototype.register_mime_type(EXEC_MIME_TYPE, append_mime, {\n    safe: true,\n    index: 0\n  });\n}\n\nif (window.Jupyter !== undefined) {\n  try {\n    var events = require('base/js/events');\n    var OutputArea = require('notebook/js/outputarea').OutputArea;\n    if (OutputArea.prototype.mime_types().indexOf(EXEC_MIME_TYPE) == -1) {\n      register_renderer(events, OutputArea);\n    }\n  } catch(err) {\n  }\n}\n",
      "application/vnd.holoviews_load.v0+json": ""
     },
     "metadata": {},
     "output_type": "display_data"
    },
    {
     "data": {
      "text/html": [
       "<style>*[data-root-id],\n",
       "*[data-root-id] > * {\n",
       "  box-sizing: border-box;\n",
       "  font-family: var(--jp-ui-font-family);\n",
       "  font-size: var(--jp-ui-font-size1);\n",
       "  color: var(--vscode-editor-foreground, var(--jp-ui-font-color1));\n",
       "}\n",
       "\n",
       "/* Override VSCode background color */\n",
       ".cell-output-ipywidget-background:has(\n",
       "    > .cell-output-ipywidget-background > .lm-Widget > *[data-root-id]\n",
       "  ),\n",
       ".cell-output-ipywidget-background:has(> .lm-Widget > *[data-root-id]) {\n",
       "  background-color: transparent !important;\n",
       "}\n",
       "</style>"
      ]
     },
     "metadata": {},
     "output_type": "display_data"
    }
   ],
   "source": [
    "hvplot.extension('matplotlib')"
   ]
  },
  {
   "cell_type": "code",
   "execution_count": 8,
   "metadata": {},
   "outputs": [],
   "source": [
    "# Import required libraries and dependencies\n",
    "import pandas as pd\n",
    "import hvplot.pandas\n",
    "from sklearn.cluster import KMeans\n",
    "from sklearn.decomposition import PCA\n",
    "from sklearn.preprocessing import StandardScaler"
   ]
  },
  {
   "cell_type": "code",
   "execution_count": 9,
   "metadata": {},
   "outputs": [
    {
     "data": {
      "text/html": [
       "<div>\n",
       "<style scoped>\n",
       "    .dataframe tbody tr th:only-of-type {\n",
       "        vertical-align: middle;\n",
       "    }\n",
       "\n",
       "    .dataframe tbody tr th {\n",
       "        vertical-align: top;\n",
       "    }\n",
       "\n",
       "    .dataframe thead th {\n",
       "        text-align: right;\n",
       "    }\n",
       "</style>\n",
       "<table border=\"1\" class=\"dataframe\">\n",
       "  <thead>\n",
       "    <tr style=\"text-align: right;\">\n",
       "      <th></th>\n",
       "      <th>price_change_percentage_24h</th>\n",
       "      <th>price_change_percentage_7d</th>\n",
       "      <th>price_change_percentage_14d</th>\n",
       "      <th>price_change_percentage_30d</th>\n",
       "      <th>price_change_percentage_60d</th>\n",
       "      <th>price_change_percentage_200d</th>\n",
       "      <th>price_change_percentage_1y</th>\n",
       "    </tr>\n",
       "    <tr>\n",
       "      <th>coin_id</th>\n",
       "      <th></th>\n",
       "      <th></th>\n",
       "      <th></th>\n",
       "      <th></th>\n",
       "      <th></th>\n",
       "      <th></th>\n",
       "      <th></th>\n",
       "    </tr>\n",
       "  </thead>\n",
       "  <tbody>\n",
       "    <tr>\n",
       "      <th>bitcoin</th>\n",
       "      <td>1.08388</td>\n",
       "      <td>7.60278</td>\n",
       "      <td>6.57509</td>\n",
       "      <td>7.67258</td>\n",
       "      <td>-3.25185</td>\n",
       "      <td>83.51840</td>\n",
       "      <td>37.51761</td>\n",
       "    </tr>\n",
       "    <tr>\n",
       "      <th>ethereum</th>\n",
       "      <td>0.22392</td>\n",
       "      <td>10.38134</td>\n",
       "      <td>4.80849</td>\n",
       "      <td>0.13169</td>\n",
       "      <td>-12.88890</td>\n",
       "      <td>186.77418</td>\n",
       "      <td>101.96023</td>\n",
       "    </tr>\n",
       "    <tr>\n",
       "      <th>tether</th>\n",
       "      <td>-0.21173</td>\n",
       "      <td>0.04935</td>\n",
       "      <td>0.00640</td>\n",
       "      <td>-0.04237</td>\n",
       "      <td>0.28037</td>\n",
       "      <td>-0.00542</td>\n",
       "      <td>0.01954</td>\n",
       "    </tr>\n",
       "    <tr>\n",
       "      <th>ripple</th>\n",
       "      <td>-0.37819</td>\n",
       "      <td>-0.60926</td>\n",
       "      <td>2.24984</td>\n",
       "      <td>0.23455</td>\n",
       "      <td>-17.55245</td>\n",
       "      <td>39.53888</td>\n",
       "      <td>-16.60193</td>\n",
       "    </tr>\n",
       "    <tr>\n",
       "      <th>bitcoin-cash</th>\n",
       "      <td>2.90585</td>\n",
       "      <td>17.09717</td>\n",
       "      <td>14.75334</td>\n",
       "      <td>15.74903</td>\n",
       "      <td>-13.71793</td>\n",
       "      <td>21.66042</td>\n",
       "      <td>14.49384</td>\n",
       "    </tr>\n",
       "    <tr>\n",
       "      <th>binancecoin</th>\n",
       "      <td>2.10423</td>\n",
       "      <td>12.85511</td>\n",
       "      <td>6.80688</td>\n",
       "      <td>0.05865</td>\n",
       "      <td>36.33486</td>\n",
       "      <td>155.61937</td>\n",
       "      <td>69.69195</td>\n",
       "    </tr>\n",
       "    <tr>\n",
       "      <th>chainlink</th>\n",
       "      <td>-0.23935</td>\n",
       "      <td>20.69459</td>\n",
       "      <td>9.30098</td>\n",
       "      <td>-11.21747</td>\n",
       "      <td>-43.69522</td>\n",
       "      <td>403.22917</td>\n",
       "      <td>325.13186</td>\n",
       "    </tr>\n",
       "    <tr>\n",
       "      <th>cardano</th>\n",
       "      <td>0.00322</td>\n",
       "      <td>13.99302</td>\n",
       "      <td>5.55476</td>\n",
       "      <td>10.10553</td>\n",
       "      <td>-22.84776</td>\n",
       "      <td>264.51418</td>\n",
       "      <td>156.09756</td>\n",
       "    </tr>\n",
       "    <tr>\n",
       "      <th>litecoin</th>\n",
       "      <td>-0.06341</td>\n",
       "      <td>6.60221</td>\n",
       "      <td>7.28931</td>\n",
       "      <td>1.21662</td>\n",
       "      <td>-17.23960</td>\n",
       "      <td>27.49919</td>\n",
       "      <td>-12.66408</td>\n",
       "    </tr>\n",
       "    <tr>\n",
       "      <th>bitcoin-cash-sv</th>\n",
       "      <td>0.92530</td>\n",
       "      <td>3.29641</td>\n",
       "      <td>-1.86656</td>\n",
       "      <td>2.88926</td>\n",
       "      <td>-24.87434</td>\n",
       "      <td>7.42562</td>\n",
       "      <td>93.73082</td>\n",
       "    </tr>\n",
       "  </tbody>\n",
       "</table>\n",
       "</div>"
      ],
      "text/plain": [
       "                 price_change_percentage_24h  price_change_percentage_7d  \\\n",
       "coin_id                                                                    \n",
       "bitcoin                              1.08388                     7.60278   \n",
       "ethereum                             0.22392                    10.38134   \n",
       "tether                              -0.21173                     0.04935   \n",
       "ripple                              -0.37819                    -0.60926   \n",
       "bitcoin-cash                         2.90585                    17.09717   \n",
       "binancecoin                          2.10423                    12.85511   \n",
       "chainlink                           -0.23935                    20.69459   \n",
       "cardano                              0.00322                    13.99302   \n",
       "litecoin                            -0.06341                     6.60221   \n",
       "bitcoin-cash-sv                      0.92530                     3.29641   \n",
       "\n",
       "                 price_change_percentage_14d  price_change_percentage_30d  \\\n",
       "coin_id                                                                     \n",
       "bitcoin                              6.57509                      7.67258   \n",
       "ethereum                             4.80849                      0.13169   \n",
       "tether                               0.00640                     -0.04237   \n",
       "ripple                               2.24984                      0.23455   \n",
       "bitcoin-cash                        14.75334                     15.74903   \n",
       "binancecoin                          6.80688                      0.05865   \n",
       "chainlink                            9.30098                    -11.21747   \n",
       "cardano                              5.55476                     10.10553   \n",
       "litecoin                             7.28931                      1.21662   \n",
       "bitcoin-cash-sv                     -1.86656                      2.88926   \n",
       "\n",
       "                 price_change_percentage_60d  price_change_percentage_200d  \\\n",
       "coin_id                                                                      \n",
       "bitcoin                             -3.25185                      83.51840   \n",
       "ethereum                           -12.88890                     186.77418   \n",
       "tether                               0.28037                      -0.00542   \n",
       "ripple                             -17.55245                      39.53888   \n",
       "bitcoin-cash                       -13.71793                      21.66042   \n",
       "binancecoin                         36.33486                     155.61937   \n",
       "chainlink                          -43.69522                     403.22917   \n",
       "cardano                            -22.84776                     264.51418   \n",
       "litecoin                           -17.23960                      27.49919   \n",
       "bitcoin-cash-sv                    -24.87434                       7.42562   \n",
       "\n",
       "                 price_change_percentage_1y  \n",
       "coin_id                                      \n",
       "bitcoin                            37.51761  \n",
       "ethereum                          101.96023  \n",
       "tether                              0.01954  \n",
       "ripple                            -16.60193  \n",
       "bitcoin-cash                       14.49384  \n",
       "binancecoin                        69.69195  \n",
       "chainlink                         325.13186  \n",
       "cardano                           156.09756  \n",
       "litecoin                          -12.66408  \n",
       "bitcoin-cash-sv                    93.73082  "
      ]
     },
     "execution_count": 9,
     "metadata": {},
     "output_type": "execute_result"
    }
   ],
   "source": [
    "# Load the data into a Pandas DataFrame\n",
    "df_market_data = pd.read_csv(\n",
    "    \"Resources/crypto_market_data.csv\",\n",
    "    index_col=\"coin_id\")\n",
    "\n",
    "# Display sample data\n",
    "df_market_data.head(10)"
   ]
  },
  {
   "cell_type": "code",
   "execution_count": 10,
   "metadata": {},
   "outputs": [
    {
     "data": {
      "text/html": [
       "<div>\n",
       "<style scoped>\n",
       "    .dataframe tbody tr th:only-of-type {\n",
       "        vertical-align: middle;\n",
       "    }\n",
       "\n",
       "    .dataframe tbody tr th {\n",
       "        vertical-align: top;\n",
       "    }\n",
       "\n",
       "    .dataframe thead th {\n",
       "        text-align: right;\n",
       "    }\n",
       "</style>\n",
       "<table border=\"1\" class=\"dataframe\">\n",
       "  <thead>\n",
       "    <tr style=\"text-align: right;\">\n",
       "      <th></th>\n",
       "      <th>price_change_percentage_24h</th>\n",
       "      <th>price_change_percentage_7d</th>\n",
       "      <th>price_change_percentage_14d</th>\n",
       "      <th>price_change_percentage_30d</th>\n",
       "      <th>price_change_percentage_60d</th>\n",
       "      <th>price_change_percentage_200d</th>\n",
       "      <th>price_change_percentage_1y</th>\n",
       "    </tr>\n",
       "  </thead>\n",
       "  <tbody>\n",
       "    <tr>\n",
       "      <th>count</th>\n",
       "      <td>41.000000</td>\n",
       "      <td>41.000000</td>\n",
       "      <td>41.000000</td>\n",
       "      <td>41.000000</td>\n",
       "      <td>41.000000</td>\n",
       "      <td>41.000000</td>\n",
       "      <td>41.000000</td>\n",
       "    </tr>\n",
       "    <tr>\n",
       "      <th>mean</th>\n",
       "      <td>-0.269686</td>\n",
       "      <td>4.497147</td>\n",
       "      <td>0.185787</td>\n",
       "      <td>1.545693</td>\n",
       "      <td>-0.094119</td>\n",
       "      <td>236.537432</td>\n",
       "      <td>347.667956</td>\n",
       "    </tr>\n",
       "    <tr>\n",
       "      <th>std</th>\n",
       "      <td>2.694793</td>\n",
       "      <td>6.375218</td>\n",
       "      <td>8.376939</td>\n",
       "      <td>26.344218</td>\n",
       "      <td>47.365803</td>\n",
       "      <td>435.225304</td>\n",
       "      <td>1247.842884</td>\n",
       "    </tr>\n",
       "    <tr>\n",
       "      <th>min</th>\n",
       "      <td>-13.527860</td>\n",
       "      <td>-6.094560</td>\n",
       "      <td>-18.158900</td>\n",
       "      <td>-34.705480</td>\n",
       "      <td>-44.822480</td>\n",
       "      <td>-0.392100</td>\n",
       "      <td>-17.567530</td>\n",
       "    </tr>\n",
       "    <tr>\n",
       "      <th>25%</th>\n",
       "      <td>-0.608970</td>\n",
       "      <td>0.047260</td>\n",
       "      <td>-5.026620</td>\n",
       "      <td>-10.438470</td>\n",
       "      <td>-25.907990</td>\n",
       "      <td>21.660420</td>\n",
       "      <td>0.406170</td>\n",
       "    </tr>\n",
       "    <tr>\n",
       "      <th>50%</th>\n",
       "      <td>-0.063410</td>\n",
       "      <td>3.296410</td>\n",
       "      <td>0.109740</td>\n",
       "      <td>-0.042370</td>\n",
       "      <td>-7.544550</td>\n",
       "      <td>83.905200</td>\n",
       "      <td>69.691950</td>\n",
       "    </tr>\n",
       "    <tr>\n",
       "      <th>75%</th>\n",
       "      <td>0.612090</td>\n",
       "      <td>7.602780</td>\n",
       "      <td>5.510740</td>\n",
       "      <td>4.578130</td>\n",
       "      <td>0.657260</td>\n",
       "      <td>216.177610</td>\n",
       "      <td>168.372510</td>\n",
       "    </tr>\n",
       "    <tr>\n",
       "      <th>max</th>\n",
       "      <td>4.840330</td>\n",
       "      <td>20.694590</td>\n",
       "      <td>24.239190</td>\n",
       "      <td>140.795700</td>\n",
       "      <td>223.064370</td>\n",
       "      <td>2227.927820</td>\n",
       "      <td>7852.089700</td>\n",
       "    </tr>\n",
       "  </tbody>\n",
       "</table>\n",
       "</div>"
      ],
      "text/plain": [
       "       price_change_percentage_24h  price_change_percentage_7d  \\\n",
       "count                    41.000000                   41.000000   \n",
       "mean                     -0.269686                    4.497147   \n",
       "std                       2.694793                    6.375218   \n",
       "min                     -13.527860                   -6.094560   \n",
       "25%                      -0.608970                    0.047260   \n",
       "50%                      -0.063410                    3.296410   \n",
       "75%                       0.612090                    7.602780   \n",
       "max                       4.840330                   20.694590   \n",
       "\n",
       "       price_change_percentage_14d  price_change_percentage_30d  \\\n",
       "count                    41.000000                    41.000000   \n",
       "mean                      0.185787                     1.545693   \n",
       "std                       8.376939                    26.344218   \n",
       "min                     -18.158900                   -34.705480   \n",
       "25%                      -5.026620                   -10.438470   \n",
       "50%                       0.109740                    -0.042370   \n",
       "75%                       5.510740                     4.578130   \n",
       "max                      24.239190                   140.795700   \n",
       "\n",
       "       price_change_percentage_60d  price_change_percentage_200d  \\\n",
       "count                    41.000000                     41.000000   \n",
       "mean                     -0.094119                    236.537432   \n",
       "std                      47.365803                    435.225304   \n",
       "min                     -44.822480                     -0.392100   \n",
       "25%                     -25.907990                     21.660420   \n",
       "50%                      -7.544550                     83.905200   \n",
       "75%                       0.657260                    216.177610   \n",
       "max                     223.064370                   2227.927820   \n",
       "\n",
       "       price_change_percentage_1y  \n",
       "count                   41.000000  \n",
       "mean                   347.667956  \n",
       "std                   1247.842884  \n",
       "min                    -17.567530  \n",
       "25%                      0.406170  \n",
       "50%                     69.691950  \n",
       "75%                    168.372510  \n",
       "max                   7852.089700  "
      ]
     },
     "execution_count": 10,
     "metadata": {},
     "output_type": "execute_result"
    }
   ],
   "source": [
    "# Generate summary statistics\n",
    "df_market_data.describe()"
   ]
  },
  {
   "cell_type": "code",
   "execution_count": 11,
   "metadata": {},
   "outputs": [
    {
     "data": {
      "text/html": [
       "<img src='data:image/png;base64,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' style='max-width:100%; margin: auto; display: block; '/>"
      ],
      "text/plain": [
       ":NdOverlay   [Variable]\n",
       "   :Curve   [coin_id]   (value)"
      ]
     },
     "execution_count": 11,
     "metadata": {
      "application/vnd.holoviews_exec.v0+json": {}
     },
     "output_type": "execute_result"
    }
   ],
   "source": [
    "# Plot your data to see what's in your DataFrame, show plot in notebook\n",
    "df_market_data.hvplot.line(\n",
    "    width=800,\n",
    "    height=400,\n",
    "    rot=90\n",
    ")"
   ]
  },
  {
   "attachments": {},
   "cell_type": "markdown",
   "metadata": {},
   "source": [
    "---"
   ]
  },
  {
   "attachments": {},
   "cell_type": "markdown",
   "metadata": {},
   "source": [
    "### Prepare the Data"
   ]
  },
  {
   "cell_type": "code",
   "execution_count": 12,
   "metadata": {},
   "outputs": [
    {
     "name": "stdout",
     "output_type": "stream",
     "text": [
      "[[ 0.50852937  0.49319307  0.77220043  0.23545963 -0.0674951  -0.35595348\n",
      "  -0.25163688]\n",
      " [ 0.18544589  0.93444504  0.55869212 -0.05434093 -0.27348273 -0.11575947\n",
      "  -0.19935211]\n",
      " [ 0.02177396 -0.70633685 -0.02168042 -0.06103015  0.00800452 -0.55024692\n",
      "  -0.28206051]\n",
      " [-0.04076438 -0.81092807  0.24945797 -0.05038797 -0.37316402 -0.45825882\n",
      "  -0.29554614]\n",
      " [ 1.19303608  2.00095907  1.76061001  0.54584206 -0.29120287 -0.49984776\n",
      "  -0.27031695]]\n"
     ]
    }
   ],
   "source": [
    "# Use the `StandardScaler()` module from scikit-learn to normalize the data from the CSV file\n",
    "crypto_scaled = StandardScaler().fit_transform(df_market_data)\n",
    "print(crypto_scaled[0:5])"
   ]
  },
  {
   "cell_type": "code",
   "execution_count": 13,
   "metadata": {},
   "outputs": [
    {
     "data": {
      "text/html": [
       "<div>\n",
       "<style scoped>\n",
       "    .dataframe tbody tr th:only-of-type {\n",
       "        vertical-align: middle;\n",
       "    }\n",
       "\n",
       "    .dataframe tbody tr th {\n",
       "        vertical-align: top;\n",
       "    }\n",
       "\n",
       "    .dataframe thead th {\n",
       "        text-align: right;\n",
       "    }\n",
       "</style>\n",
       "<table border=\"1\" class=\"dataframe\">\n",
       "  <thead>\n",
       "    <tr style=\"text-align: right;\">\n",
       "      <th></th>\n",
       "      <th>price_change_percentage_24h</th>\n",
       "      <th>price_change_percentage_7d</th>\n",
       "      <th>price_change_percentage_14d</th>\n",
       "      <th>price_change_percentage_30d</th>\n",
       "      <th>price_change_percentage_60d</th>\n",
       "      <th>price_change_percentage_200d</th>\n",
       "      <th>price_change_percentage_1y</th>\n",
       "    </tr>\n",
       "    <tr>\n",
       "      <th>coin_id</th>\n",
       "      <th></th>\n",
       "      <th></th>\n",
       "      <th></th>\n",
       "      <th></th>\n",
       "      <th></th>\n",
       "      <th></th>\n",
       "      <th></th>\n",
       "    </tr>\n",
       "  </thead>\n",
       "  <tbody>\n",
       "    <tr>\n",
       "      <th>bitcoin</th>\n",
       "      <td>0.508529</td>\n",
       "      <td>0.493193</td>\n",
       "      <td>0.772200</td>\n",
       "      <td>0.235460</td>\n",
       "      <td>-0.067495</td>\n",
       "      <td>-0.355953</td>\n",
       "      <td>-0.251637</td>\n",
       "    </tr>\n",
       "    <tr>\n",
       "      <th>ethereum</th>\n",
       "      <td>0.185446</td>\n",
       "      <td>0.934445</td>\n",
       "      <td>0.558692</td>\n",
       "      <td>-0.054341</td>\n",
       "      <td>-0.273483</td>\n",
       "      <td>-0.115759</td>\n",
       "      <td>-0.199352</td>\n",
       "    </tr>\n",
       "    <tr>\n",
       "      <th>tether</th>\n",
       "      <td>0.021774</td>\n",
       "      <td>-0.706337</td>\n",
       "      <td>-0.021680</td>\n",
       "      <td>-0.061030</td>\n",
       "      <td>0.008005</td>\n",
       "      <td>-0.550247</td>\n",
       "      <td>-0.282061</td>\n",
       "    </tr>\n",
       "    <tr>\n",
       "      <th>ripple</th>\n",
       "      <td>-0.040764</td>\n",
       "      <td>-0.810928</td>\n",
       "      <td>0.249458</td>\n",
       "      <td>-0.050388</td>\n",
       "      <td>-0.373164</td>\n",
       "      <td>-0.458259</td>\n",
       "      <td>-0.295546</td>\n",
       "    </tr>\n",
       "    <tr>\n",
       "      <th>bitcoin-cash</th>\n",
       "      <td>1.193036</td>\n",
       "      <td>2.000959</td>\n",
       "      <td>1.760610</td>\n",
       "      <td>0.545842</td>\n",
       "      <td>-0.291203</td>\n",
       "      <td>-0.499848</td>\n",
       "      <td>-0.270317</td>\n",
       "    </tr>\n",
       "  </tbody>\n",
       "</table>\n",
       "</div>"
      ],
      "text/plain": [
       "              price_change_percentage_24h  price_change_percentage_7d  \\\n",
       "coin_id                                                                 \n",
       "bitcoin                          0.508529                    0.493193   \n",
       "ethereum                         0.185446                    0.934445   \n",
       "tether                           0.021774                   -0.706337   \n",
       "ripple                          -0.040764                   -0.810928   \n",
       "bitcoin-cash                     1.193036                    2.000959   \n",
       "\n",
       "              price_change_percentage_14d  price_change_percentage_30d  \\\n",
       "coin_id                                                                  \n",
       "bitcoin                          0.772200                     0.235460   \n",
       "ethereum                         0.558692                    -0.054341   \n",
       "tether                          -0.021680                    -0.061030   \n",
       "ripple                           0.249458                    -0.050388   \n",
       "bitcoin-cash                     1.760610                     0.545842   \n",
       "\n",
       "              price_change_percentage_60d  price_change_percentage_200d  \\\n",
       "coin_id                                                                   \n",
       "bitcoin                         -0.067495                     -0.355953   \n",
       "ethereum                        -0.273483                     -0.115759   \n",
       "tether                           0.008005                     -0.550247   \n",
       "ripple                          -0.373164                     -0.458259   \n",
       "bitcoin-cash                    -0.291203                     -0.499848   \n",
       "\n",
       "              price_change_percentage_1y  \n",
       "coin_id                                   \n",
       "bitcoin                        -0.251637  \n",
       "ethereum                       -0.199352  \n",
       "tether                         -0.282061  \n",
       "ripple                         -0.295546  \n",
       "bitcoin-cash                   -0.270317  "
      ]
     },
     "execution_count": 13,
     "metadata": {},
     "output_type": "execute_result"
    }
   ],
   "source": [
    "# Create a DataFrame with the scaled data\n",
    "df_crypto_scaled = pd.DataFrame(\n",
    "    crypto_scaled,\n",
    "    columns=df_market_data.columns\n",
    ")\n",
    "\n",
    "# Copy the crypto names from the original data\n",
    "df_crypto_scaled['coin_id'] = df_market_data.index\n",
    "\n",
    "# Set the coinid column as index\n",
    "df_crypto_scaled.set_index('coin_id', inplace=True)\n",
    "\n",
    "# Display sample data\n",
    "df_crypto_scaled.head()\n"
   ]
  },
  {
   "attachments": {},
   "cell_type": "markdown",
   "metadata": {},
   "source": [
    "---"
   ]
  },
  {
   "attachments": {},
   "cell_type": "markdown",
   "metadata": {},
   "source": [
    "### Find the Best Value for k Using the Original Data."
   ]
  },
  {
   "cell_type": "code",
   "execution_count": 14,
   "metadata": {},
   "outputs": [],
   "source": [
    "# Create a list with the number of k-values from 1 to 11\n",
    "inertia = []\n",
    "k = list(range(1, 11))"
   ]
  },
  {
   "cell_type": "code",
   "execution_count": 15,
   "metadata": {},
   "outputs": [
    {
     "name": "stderr",
     "output_type": "stream",
     "text": [
      "c:\\Users\\Jared\\Desktop\\Coding\\PersonalizedAIEmailing\\env\\Lib\\site-packages\\sklearn\\cluster\\_kmeans.py:1416: FutureWarning: The default value of `n_init` will change from 10 to 'auto' in 1.4. Set the value of `n_init` explicitly to suppress the warning\n",
      "  super()._check_params_vs_input(X, default_n_init=10)\n",
      "c:\\Users\\Jared\\Desktop\\Coding\\PersonalizedAIEmailing\\env\\Lib\\site-packages\\sklearn\\cluster\\_kmeans.py:1416: FutureWarning: The default value of `n_init` will change from 10 to 'auto' in 1.4. Set the value of `n_init` explicitly to suppress the warning\n",
      "  super()._check_params_vs_input(X, default_n_init=10)\n",
      "c:\\Users\\Jared\\Desktop\\Coding\\PersonalizedAIEmailing\\env\\Lib\\site-packages\\sklearn\\cluster\\_kmeans.py:1416: FutureWarning: The default value of `n_init` will change from 10 to 'auto' in 1.4. Set the value of `n_init` explicitly to suppress the warning\n",
      "  super()._check_params_vs_input(X, default_n_init=10)\n",
      "c:\\Users\\Jared\\Desktop\\Coding\\PersonalizedAIEmailing\\env\\Lib\\site-packages\\sklearn\\cluster\\_kmeans.py:1416: FutureWarning: The default value of `n_init` will change from 10 to 'auto' in 1.4. Set the value of `n_init` explicitly to suppress the warning\n",
      "  super()._check_params_vs_input(X, default_n_init=10)\n",
      "c:\\Users\\Jared\\Desktop\\Coding\\PersonalizedAIEmailing\\env\\Lib\\site-packages\\sklearn\\cluster\\_kmeans.py:1416: FutureWarning: The default value of `n_init` will change from 10 to 'auto' in 1.4. Set the value of `n_init` explicitly to suppress the warning\n",
      "  super()._check_params_vs_input(X, default_n_init=10)\n",
      "c:\\Users\\Jared\\Desktop\\Coding\\PersonalizedAIEmailing\\env\\Lib\\site-packages\\sklearn\\cluster\\_kmeans.py:1416: FutureWarning: The default value of `n_init` will change from 10 to 'auto' in 1.4. Set the value of `n_init` explicitly to suppress the warning\n",
      "  super()._check_params_vs_input(X, default_n_init=10)\n",
      "c:\\Users\\Jared\\Desktop\\Coding\\PersonalizedAIEmailing\\env\\Lib\\site-packages\\sklearn\\cluster\\_kmeans.py:1416: FutureWarning: The default value of `n_init` will change from 10 to 'auto' in 1.4. Set the value of `n_init` explicitly to suppress the warning\n",
      "  super()._check_params_vs_input(X, default_n_init=10)\n",
      "c:\\Users\\Jared\\Desktop\\Coding\\PersonalizedAIEmailing\\env\\Lib\\site-packages\\sklearn\\cluster\\_kmeans.py:1416: FutureWarning: The default value of `n_init` will change from 10 to 'auto' in 1.4. Set the value of `n_init` explicitly to suppress the warning\n",
      "  super()._check_params_vs_input(X, default_n_init=10)\n",
      "c:\\Users\\Jared\\Desktop\\Coding\\PersonalizedAIEmailing\\env\\Lib\\site-packages\\sklearn\\cluster\\_kmeans.py:1416: FutureWarning: The default value of `n_init` will change from 10 to 'auto' in 1.4. Set the value of `n_init` explicitly to suppress the warning\n",
      "  super()._check_params_vs_input(X, default_n_init=10)\n",
      "c:\\Users\\Jared\\Desktop\\Coding\\PersonalizedAIEmailing\\env\\Lib\\site-packages\\sklearn\\cluster\\_kmeans.py:1416: FutureWarning: The default value of `n_init` will change from 10 to 'auto' in 1.4. Set the value of `n_init` explicitly to suppress the warning\n",
      "  super()._check_params_vs_input(X, default_n_init=10)\n"
     ]
    }
   ],
   "source": [
    "# Create an empty list to store the inertia values\n",
    "inertia = []\n",
    "\n",
    "# Create a for loop to compute the inertia with each possible value of k\n",
    "# Inside the loop:\n",
    "# 1. Create a KMeans model using the loop counter for the n_clusters\n",
    "# 2. Fit the model to the data using `df_market_data_scaled`\n",
    "# 3. Append the model.inertia_ to the inertia list\n",
    "for i in k:\n",
    "    km = KMeans(n_clusters=i, random_state=0)\n",
    "    km.fit(df_crypto_scaled)\n",
    "    inertia.append(km.inertia_)"
   ]
  },
  {
   "cell_type": "code",
   "execution_count": 16,
   "metadata": {},
   "outputs": [],
   "source": [
    "# Create a dictionary with the data to plot the Elbow curve\n",
    "elbow_data = {\"k\": k, \"inertia\": inertia}\n",
    "\n",
    "# Create a DataFrame with the data to plot the Elbow curve\n",
    "df_elbow = pd.DataFrame(elbow_data)"
   ]
  },
  {
   "cell_type": "code",
   "execution_count": 17,
   "metadata": {},
   "outputs": [
    {
     "data": {
      "text/html": [
       "<img src='data:image/png;base64,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' style='max-width:100%; margin: auto; display: block; '/>"
      ],
      "text/plain": [
       ":Curve   [k]   (inertia)"
      ]
     },
     "execution_count": 17,
     "metadata": {
      "application/vnd.holoviews_exec.v0+json": {}
     },
     "output_type": "execute_result"
    }
   ],
   "source": [
    "# Plot a line chart with all the inertia values computed with \n",
    "# the different values of k to visually identify the optimal value for k.\n",
    "# Print the plot to screen.\n",
    "df_elbow.hvplot.line(\n",
    "    x=\"k\",\n",
    "    y=\"inertia\",\n",
    "    title=\"Elbow Curve\",\n",
    "    xticks=k\n",
    ")"
   ]
  },
  {
   "attachments": {},
   "cell_type": "markdown",
   "metadata": {},
   "source": [
    "#### Answer the following question: \n",
    "\n",
    "**Question:** What is the best value for `k`?\n",
    "\n",
    "**Answer:** 4"
   ]
  },
  {
   "attachments": {},
   "cell_type": "markdown",
   "metadata": {},
   "source": [
    "---"
   ]
  },
  {
   "attachments": {},
   "cell_type": "markdown",
   "metadata": {},
   "source": [
    "### Cluster Cryptocurrencies with K-means Using the Original Data"
   ]
  },
  {
   "cell_type": "code",
   "execution_count": 18,
   "metadata": {},
   "outputs": [],
   "source": [
    "# Initialize the K-Means model using the best value for k\n",
    "model = KMeans(n_clusters=4, random_state=0)"
   ]
  },
  {
   "cell_type": "code",
   "execution_count": 19,
   "metadata": {},
   "outputs": [
    {
     "name": "stderr",
     "output_type": "stream",
     "text": [
      "c:\\Users\\Jared\\Desktop\\Coding\\PersonalizedAIEmailing\\env\\Lib\\site-packages\\sklearn\\cluster\\_kmeans.py:1416: FutureWarning: The default value of `n_init` will change from 10 to 'auto' in 1.4. Set the value of `n_init` explicitly to suppress the warning\n",
      "  super()._check_params_vs_input(X, default_n_init=10)\n"
     ]
    },
    {
     "data": {
      "text/html": [
       "<style>#sk-container-id-1 {color: black;}#sk-container-id-1 pre{padding: 0;}#sk-container-id-1 div.sk-toggleable {background-color: white;}#sk-container-id-1 label.sk-toggleable__label {cursor: pointer;display: block;width: 100%;margin-bottom: 0;padding: 0.3em;box-sizing: border-box;text-align: center;}#sk-container-id-1 label.sk-toggleable__label-arrow:before {content: \"▸\";float: left;margin-right: 0.25em;color: #696969;}#sk-container-id-1 label.sk-toggleable__label-arrow:hover:before {color: black;}#sk-container-id-1 div.sk-estimator:hover label.sk-toggleable__label-arrow:before {color: black;}#sk-container-id-1 div.sk-toggleable__content {max-height: 0;max-width: 0;overflow: hidden;text-align: left;background-color: #f0f8ff;}#sk-container-id-1 div.sk-toggleable__content pre {margin: 0.2em;color: black;border-radius: 0.25em;background-color: #f0f8ff;}#sk-container-id-1 input.sk-toggleable__control:checked~div.sk-toggleable__content {max-height: 200px;max-width: 100%;overflow: auto;}#sk-container-id-1 input.sk-toggleable__control:checked~label.sk-toggleable__label-arrow:before {content: \"▾\";}#sk-container-id-1 div.sk-estimator input.sk-toggleable__control:checked~label.sk-toggleable__label {background-color: #d4ebff;}#sk-container-id-1 div.sk-label input.sk-toggleable__control:checked~label.sk-toggleable__label {background-color: #d4ebff;}#sk-container-id-1 input.sk-hidden--visually {border: 0;clip: rect(1px 1px 1px 1px);clip: rect(1px, 1px, 1px, 1px);height: 1px;margin: -1px;overflow: hidden;padding: 0;position: absolute;width: 1px;}#sk-container-id-1 div.sk-estimator {font-family: monospace;background-color: #f0f8ff;border: 1px dotted black;border-radius: 0.25em;box-sizing: border-box;margin-bottom: 0.5em;}#sk-container-id-1 div.sk-estimator:hover {background-color: #d4ebff;}#sk-container-id-1 div.sk-parallel-item::after {content: \"\";width: 100%;border-bottom: 1px solid gray;flex-grow: 1;}#sk-container-id-1 div.sk-label:hover label.sk-toggleable__label {background-color: #d4ebff;}#sk-container-id-1 div.sk-serial::before {content: \"\";position: absolute;border-left: 1px solid gray;box-sizing: border-box;top: 0;bottom: 0;left: 50%;z-index: 0;}#sk-container-id-1 div.sk-serial {display: flex;flex-direction: column;align-items: center;background-color: white;padding-right: 0.2em;padding-left: 0.2em;position: relative;}#sk-container-id-1 div.sk-item {position: relative;z-index: 1;}#sk-container-id-1 div.sk-parallel {display: flex;align-items: stretch;justify-content: center;background-color: white;position: relative;}#sk-container-id-1 div.sk-item::before, #sk-container-id-1 div.sk-parallel-item::before {content: \"\";position: absolute;border-left: 1px solid gray;box-sizing: border-box;top: 0;bottom: 0;left: 50%;z-index: -1;}#sk-container-id-1 div.sk-parallel-item {display: flex;flex-direction: column;z-index: 1;position: relative;background-color: white;}#sk-container-id-1 div.sk-parallel-item:first-child::after {align-self: flex-end;width: 50%;}#sk-container-id-1 div.sk-parallel-item:last-child::after {align-self: flex-start;width: 50%;}#sk-container-id-1 div.sk-parallel-item:only-child::after {width: 0;}#sk-container-id-1 div.sk-dashed-wrapped {border: 1px dashed gray;margin: 0 0.4em 0.5em 0.4em;box-sizing: border-box;padding-bottom: 0.4em;background-color: white;}#sk-container-id-1 div.sk-label label {font-family: monospace;font-weight: bold;display: inline-block;line-height: 1.2em;}#sk-container-id-1 div.sk-label-container {text-align: center;}#sk-container-id-1 div.sk-container {/* jupyter's `normalize.less` sets `[hidden] { display: none; }` but bootstrap.min.css set `[hidden] { display: none !important; }` so we also need the `!important` here to be able to override the default hidden behavior on the sphinx rendered scikit-learn.org. See: https://github.com/scikit-learn/scikit-learn/issues/21755 */display: inline-block !important;position: relative;}#sk-container-id-1 div.sk-text-repr-fallback {display: none;}</style><div id=\"sk-container-id-1\" class=\"sk-top-container\"><div class=\"sk-text-repr-fallback\"><pre>KMeans(n_clusters=4, random_state=0)</pre><b>In a Jupyter environment, please rerun this cell to show the HTML representation or trust the notebook. <br />On GitHub, the HTML representation is unable to render, please try loading this page with nbviewer.org.</b></div><div class=\"sk-container\" hidden><div class=\"sk-item\"><div class=\"sk-estimator sk-toggleable\"><input class=\"sk-toggleable__control sk-hidden--visually\" id=\"sk-estimator-id-1\" type=\"checkbox\" checked><label for=\"sk-estimator-id-1\" class=\"sk-toggleable__label sk-toggleable__label-arrow\">KMeans</label><div class=\"sk-toggleable__content\"><pre>KMeans(n_clusters=4, random_state=0)</pre></div></div></div></div></div>"
      ],
      "text/plain": [
       "KMeans(n_clusters=4, random_state=0)"
      ]
     },
     "execution_count": 19,
     "metadata": {},
     "output_type": "execute_result"
    }
   ],
   "source": [
    "# Fit the K-Means model using the scaled data\n",
    "model.fit(df_crypto_scaled)"
   ]
  },
  {
   "cell_type": "code",
   "execution_count": 20,
   "metadata": {},
   "outputs": [
    {
     "name": "stdout",
     "output_type": "stream",
     "text": [
      "[2 2 0 0 2 2 2 2 2 0 0 0 0 2 0 2 0 0 2 0 0 2 0 0 0 0 0 0 2 0 0 0 1 2 0 0 3\n",
      " 0 0 0 0]\n"
     ]
    }
   ],
   "source": [
    "# Predict the clusters to group the cryptocurrencies using the scaled data\n",
    "predictions = model.predict(df_crypto_scaled)\n",
    "\n",
    "# Print the resulting array of cluster values.\n",
    "print(predictions)"
   ]
  },
  {
   "cell_type": "code",
   "execution_count": 21,
   "metadata": {},
   "outputs": [],
   "source": [
    "# Create a copy of the DataFrame\n",
    "df_market_data_clustered = df_market_data.copy()"
   ]
  },
  {
   "cell_type": "code",
   "execution_count": 22,
   "metadata": {},
   "outputs": [
    {
     "data": {
      "text/html": [
       "<div>\n",
       "<style scoped>\n",
       "    .dataframe tbody tr th:only-of-type {\n",
       "        vertical-align: middle;\n",
       "    }\n",
       "\n",
       "    .dataframe tbody tr th {\n",
       "        vertical-align: top;\n",
       "    }\n",
       "\n",
       "    .dataframe thead th {\n",
       "        text-align: right;\n",
       "    }\n",
       "</style>\n",
       "<table border=\"1\" class=\"dataframe\">\n",
       "  <thead>\n",
       "    <tr style=\"text-align: right;\">\n",
       "      <th></th>\n",
       "      <th>price_change_percentage_24h</th>\n",
       "      <th>price_change_percentage_7d</th>\n",
       "      <th>price_change_percentage_14d</th>\n",
       "      <th>price_change_percentage_30d</th>\n",
       "      <th>price_change_percentage_60d</th>\n",
       "      <th>price_change_percentage_200d</th>\n",
       "      <th>price_change_percentage_1y</th>\n",
       "      <th>class</th>\n",
       "    </tr>\n",
       "    <tr>\n",
       "      <th>coin_id</th>\n",
       "      <th></th>\n",
       "      <th></th>\n",
       "      <th></th>\n",
       "      <th></th>\n",
       "      <th></th>\n",
       "      <th></th>\n",
       "      <th></th>\n",
       "      <th></th>\n",
       "    </tr>\n",
       "  </thead>\n",
       "  <tbody>\n",
       "    <tr>\n",
       "      <th>bitcoin</th>\n",
       "      <td>1.08388</td>\n",
       "      <td>7.60278</td>\n",
       "      <td>6.57509</td>\n",
       "      <td>7.67258</td>\n",
       "      <td>-3.25185</td>\n",
       "      <td>83.51840</td>\n",
       "      <td>37.51761</td>\n",
       "      <td>2</td>\n",
       "    </tr>\n",
       "    <tr>\n",
       "      <th>ethereum</th>\n",
       "      <td>0.22392</td>\n",
       "      <td>10.38134</td>\n",
       "      <td>4.80849</td>\n",
       "      <td>0.13169</td>\n",
       "      <td>-12.88890</td>\n",
       "      <td>186.77418</td>\n",
       "      <td>101.96023</td>\n",
       "      <td>2</td>\n",
       "    </tr>\n",
       "    <tr>\n",
       "      <th>tether</th>\n",
       "      <td>-0.21173</td>\n",
       "      <td>0.04935</td>\n",
       "      <td>0.00640</td>\n",
       "      <td>-0.04237</td>\n",
       "      <td>0.28037</td>\n",
       "      <td>-0.00542</td>\n",
       "      <td>0.01954</td>\n",
       "      <td>0</td>\n",
       "    </tr>\n",
       "    <tr>\n",
       "      <th>ripple</th>\n",
       "      <td>-0.37819</td>\n",
       "      <td>-0.60926</td>\n",
       "      <td>2.24984</td>\n",
       "      <td>0.23455</td>\n",
       "      <td>-17.55245</td>\n",
       "      <td>39.53888</td>\n",
       "      <td>-16.60193</td>\n",
       "      <td>0</td>\n",
       "    </tr>\n",
       "    <tr>\n",
       "      <th>bitcoin-cash</th>\n",
       "      <td>2.90585</td>\n",
       "      <td>17.09717</td>\n",
       "      <td>14.75334</td>\n",
       "      <td>15.74903</td>\n",
       "      <td>-13.71793</td>\n",
       "      <td>21.66042</td>\n",
       "      <td>14.49384</td>\n",
       "      <td>2</td>\n",
       "    </tr>\n",
       "  </tbody>\n",
       "</table>\n",
       "</div>"
      ],
      "text/plain": [
       "              price_change_percentage_24h  price_change_percentage_7d  \\\n",
       "coin_id                                                                 \n",
       "bitcoin                           1.08388                     7.60278   \n",
       "ethereum                          0.22392                    10.38134   \n",
       "tether                           -0.21173                     0.04935   \n",
       "ripple                           -0.37819                    -0.60926   \n",
       "bitcoin-cash                      2.90585                    17.09717   \n",
       "\n",
       "              price_change_percentage_14d  price_change_percentage_30d  \\\n",
       "coin_id                                                                  \n",
       "bitcoin                           6.57509                      7.67258   \n",
       "ethereum                          4.80849                      0.13169   \n",
       "tether                            0.00640                     -0.04237   \n",
       "ripple                            2.24984                      0.23455   \n",
       "bitcoin-cash                     14.75334                     15.74903   \n",
       "\n",
       "              price_change_percentage_60d  price_change_percentage_200d  \\\n",
       "coin_id                                                                   \n",
       "bitcoin                          -3.25185                      83.51840   \n",
       "ethereum                        -12.88890                     186.77418   \n",
       "tether                            0.28037                      -0.00542   \n",
       "ripple                          -17.55245                      39.53888   \n",
       "bitcoin-cash                    -13.71793                      21.66042   \n",
       "\n",
       "              price_change_percentage_1y  class  \n",
       "coin_id                                          \n",
       "bitcoin                         37.51761      2  \n",
       "ethereum                       101.96023      2  \n",
       "tether                           0.01954      0  \n",
       "ripple                         -16.60193      0  \n",
       "bitcoin-cash                    14.49384      2  "
      ]
     },
     "execution_count": 22,
     "metadata": {},
     "output_type": "execute_result"
    }
   ],
   "source": [
    "# Add a new column to the DataFrame with the predicted clusters\n",
    "df_market_data_clustered[\"class\"] = model.labels_\n",
    "\n",
    "# Display sample data\n",
    "df_market_data_clustered.head()"
   ]
  },
  {
   "cell_type": "code",
   "execution_count": 23,
   "metadata": {},
   "outputs": [
    {
     "data": {
      "text/html": [
       "<img src='data:image/png;base64,iVBORw0KGgoAAAANSUhEUgAAAlAAAAD3CAYAAADSZGo6AAAAOXRFWHRTb2Z0d2FyZQBNYXRwbG90bGliIHZlcnNpb24zLjcuMiwgaHR0cHM6Ly9tYXRwbG90bGliLm9yZy8pXeV/AAAACXBIWXMAAAsTAAALEwEAmpwYAABCWUlEQVR4nO3dd3hUVf4/8PedSTLpnYSQAEkghCSkkEIRpIVewkIARVZpLnxXXF0bYkFRccVdCytFiT8LYkGxgYooVZEihF4EIhBSCOkJmSSTTDm/P7KMxEzITDIl5f16Hp/HOXPL+zIpn5x77jmSEEKAiIiIiIwms3UAIiIioraGBRQRERGRiVhAEREREZmIBRQRERGRiVhAEREREZmozRVQY8eOtXUEIiIi6uDaXAFVVFRk6whERETUwbW5AoqIiIjI1lhAEREREZmIBRQRERGRiexsHYCIiIg6FrVajZycHKhUKltHaZSjoyOCgoJgb29v8H0WUERERGRVOTk5cHNzQ3BwMCRJsnWcBoQQKC4uRk5ODkJCQgxuw1t4REREZFUqlQo+Pj6tsngCAEmS4OPjc8seMhZQREREZHWttXi6oal8LKCIiIiITMQCioiIiNqEZcuW4ZVXXrF1DAAsoIiIiIhMxgKKiIiIWqUPPvgAMTExiI2Nxd13313vvbfffhtJSUmIjY1FamoqqqqqAACbNm1Cnz59EBsbiyFDhgAAzpw5g379+iEuLg4xMTHIyMhocTYWUERERNTqnDlzBsuXL8euXbtw4sQJ/Pe//633/tSpU3H48GGcOHECEREReOeddwAAzz//PH744QecOHECW7ZsAQC89dZbePDBB3H8+HGkp6cjKCioxfk4DxQRUTsitDWo+O3/oTp3FyR7F7iEToNLcIqtYxGZbNeuXZg+fTp8fX0BAN7e3vXeP336NJ5++mmUlZVBqVRizJgxAIBBgwZhzpw5mDFjBqZOnQoAGDhwIF588UXk5ORg6tSpCAsLa3E+9kAREbUjZcdWQJnxIbRVV6Epz0D5sZdQdeU7W8ciMrs5c+Zg9erVOHXqFJ599ln9nE1vvfUWli9fjuzsbCQkJKC4uBh33XUXtmzZAicnJ4wfPx67du1q8flZQBERtRO62gpU52xv0F55+UsbpCFqmREjRmDTpk0oLi4GAJSUlNR7v6KiAgEBAVCr1fjoo4/07RcvXkT//v3x/PPPo1OnTsjOzsalS5cQGhqKBx54AJMnT8bJkydbnI+38IiI2gkh1IDQNmzXtt71xogaExUVhaeeegpDhw6FXC5H3759ERwcrH//hRdeQP/+/dGpUyf0798fFRUVAIDHHnsMGRkZEEIgOTkZsbGxePnll7FhwwbY29ujc+fOePLJJ1ucTxJCiBYfpQnZ2dm45557kJ+fD0mSsGDBAjz44IMoKSnBHXfcgczMTAQHB+Ozzz6Dl5fXLY+VmJiI9PR0S0cmImqTin65H7WFR+q1uUUuhFv4HNsEIjLgt99+Q0REhK1jNOlWOa1yC8/Ozg6vvvoqzp49i4MHD2LNmjU4e/YsVqxYgeTkZGRkZCA5ORkrVqywRhwionbLK+FZKPz6A5AgyRVwCZ0G17C/2joWUbtjlVt4AQEBCAgIAAC4ubkhIiICubm52Lx5M/bs2QMAmD17NoYNG4aXX37ZGpGIiNoluVMn+AxaCZ1aCUlmD0musHUkonbJ6mOgMjMzcezYMfTv3x/5+fn6wqpz587Iz883uE9aWhrS0tIAAIWFhVbLSkTUVsnsXW0dgahds+pTeEqlEqmpqVi5ciXc3d3rvSdJUqMrHy9YsADp6elIT09Hp06drBGViIiIqFFWK6DUajVSU1Mxa9Ys/cRW/v7+yMvLAwDk5eXBz8/PWnGIiIiIms0qBZQQAvPnz0dERAQefvhhfXtKSgrWr18PAFi/fj0mT55sjThERERELWKVAmrfvn3YsGEDdu3ahbi4OMTFxWHr1q1YsmQJtm/fjrCwMOzYsQNLliyxRhwiIiLq4LZt24bw8HD07NmzWbMAWGUQ+eDBg9HYdFM7d+60RgQiIiJqo5S1WqTnV8PH0Q7RnRxbfDytVotFixZh+/btCAoKQlJSElJSUhAZGWn0MTgTOREREbVaP+co8cTea6jS1HXEJPg74Y3hXeBs3/ybaIcOHULPnj0RGhoKALjzzjuxefNmkwooroVHRERErVKtVodn9xfoiycAOJJfjQ1nS1t03NzcXHTt2lX/OigoCLm5uSYdgwUUERERtUoZZbUoq2m4vuOha9U2SFMfCygiIiJqlTo728HOwBSRga4tG4EUGBiI7Oxs/eucnBwEBgaadIwmE3z55Ze3fP/GnE5ERERE5uTjZIcZ4Z74+FyZvs3FXobZUV4tOm5SUhIyMjJw+fJlBAYGYuPGjfj4449NOkaTBdQ333wDACgoKMD+/fsxYsQIAMDu3btx2223sYAiIiIii3k00RcxnRyxN6cS3k5yTO/lga5uDi06pp2dHVavXo0xY8ZAq9Vi3rx5iIqKMu0YTW3w3nvvAQBGjx6Ns2fP6teuy8vLw5w5c0xPTURERGQkSZIwJtgNY4LdzHrc8ePHY/z48c3e3+gxUNnZ2friCahbhiUrK6vZJyYiIiJqq4wehZWcnIwxY8Zg5syZAIBPP/0UI0eOtFgwIiIiotbK6AJq9erV+Oqrr/Dzzz8DABYsWIApU6ZYLBgREZElCZ0GNUVHAZ0aik6JkOQKW0eiNsSk5wCnTJnCoomIiNo8TWUeivc9AG1lDgBApvCGz22vwd4z3MbJqK1ocgyUt7c37r33XuzcubPR9eyIiIjakuunV+mLJwDQ1ZSg7Pi/bZiI2pomC6hOnTohLi4OzzzzDIKCgvDggw/i4MGD1shGRERkEbVFRxu0qUvPQqdR2SANtUVNFlAuLi64//77sW/fPhw4cACBgYG47777EBoaiieffNIaGYmIiMxK7tJw1mmZYyeOg+pA5s2bBz8/P/Tp06dZ+zdZQN18265bt25YvHgxjh49iq1bt0Kh4BcaERG1PW697wUkef22iHshSQbWDSGbE1VKiEN7IC6cMtsx58yZg23btjV7/yYHkQ8fPtxge+/evfHss882+8RERES24th5IHyHvYOqK98AOg2cuo6Gwjfe1rHIAHH4Z+hefQJQVdU1RCVA9vQbkJycW3TcIUOGIDMzs9n7N9kD9dprrxl1oJdeeqnZIYiICBBCi+tn03Dtu3HI2zICZUdfgk5TZetY7ZaDZzg8Yx+FZ98lLJ5aKaGuhW7Vs38UTwBw5gjE5g22C/U/Rs9E3pRNmzaZ61BERB2S8sIGKM+/B11tGYS2GlVXtqDcRk+GaVVFENpam5ybSO9KBnC9rEGzOHXI+ln+xGwFFKc4ICJqmaor3zVoq87ZadUnw2qKTqBg+x3I/34Srn0/EcrfP7HauYka8O0MyBuONpL8Gj4EYG1mK6A48I6IqG3TaapRcvAxaJR165wKdQWun3oDqgLb/7VPHZPk6QNp3Iz6jU4ukKbMtk2gm7AHioiolXDuPqFBm1PQSMjsHK1y/pqCwxDqigbtqpydVjk/kSHS/EchPboC0tAJkCbfDdlrn0Dq1qPFx505cyYGDhyI8+fPIygoCO+8845J+5u0lMutTJ8+3VyHIiLqkFx73Q2hrUXV5a8htCo4dR0N9+gHrHZ+mZ2TwXbJrmVPOxG1hCRJkAaPAQaPMetxP/mkZbenje6BunDhApKTk/UTTp08eRLLly/Xv89JNYmIWkaS5HCPXIDOE7YiIGUXPPsugcyKxYtDpwTYuYXWb5Q5wDk4xWoZiNoKowuov/3tb3jppZdgb28PAIiJicHGjRuN2tfQbJ/Lli1DYGAg4uLiEBcXh61bt5oYnYiIzEmSZPAZ/F84d58EuUsgFH794TPoDdi7h9g6GlGrY/QtvKqqKvTr16/+znbG7T5nzhzcf//9uOeee+q1P/TQQ3j00UeNjUBERBYmd/SFZzzvKBA1xegeKF9fX1y8eFH/tN3nn3+OgIAAo/YdMmQIvL29m5eQiIiIqJUxuoBas2YNFi5ciHPnziEwMBArV67Em2++2aKTr169GjExMZg3bx5KS0sb3S4tLQ2JiYlITExEYWFhi85JRERE1FKSMHH+gcrKSuh0Ori5uZl0oszMTEycOBGnT58GAOTn58PX1xeSJGHp0qXIy8vDu+++2+RxEhMTkZ6ebtK5iYiIqPX47bffEBERYesYTbpVTqPHQBlaE8/DwwMJCQmIi4szOZS/v7/+///2t79h4sSJJh+DiIiIqDmys7Nxzz33ID8/H5IkYcGCBXjwwQeN3t/oAio9PR3p6emYNGkSAODbb79FTEwM3nrrLUyfPh2LFy82KXheXp5+DNVXX31V7wk9IiIyL01VHirOpqG25BTsXLvDLeJeOHi1/h4AIgDQqStRW3QUMoU3HLyjzHJMOzs7vPrqq4iPj0dFRQUSEhIwatQoREZGGre/sSfKycnB0aNH4erqCgB47rnnMGHCBPz8889ISEi4ZQE1c+ZM7NmzB0VFRQgKCsJzzz2HPXv24Pjx45AkCcHBwVi3bp2xUYiIyARCW4vivfdDW3UVAKCtzEVt0TF0Sv4Idi7GPQxEZCuqvF9Qmv4shKYKAODg2xfeA19p8RxpAQEB+o4cNzc3REREIDc31/wFVEFBARQKhf61vb098vPz4eTkVK/dEEOzfc6fP9/YUxMRUQuo8vfri6cbhLYa1Vlb4RbBn8XUegltLcqOvqgvngCgtugYKjM+MevXbmZmJo4dO4b+/fsbvY/RBdSsWbPQv39/TJ48GQDwzTff4K677kJlZaXR1RoREVnfzb98bqbTVFo5CZFp1NcvQldb1qC9pjDdbAWUUqlEamoqVq5cCXd3d6P3M7qAWrp0KcaOHYv9+/cDAN566y0kJiYCAD766CMT4xIRkbU4+g+CJHeE0KrqtTsFjrBRIiLjyJ38AUkOCG39dpcuZjm+Wq1GamoqZs2ahalTp5q0r0mLCSclJaF79+5Qqeq+CbOystCtWzeTTkhERNYlU3jAq/8KlJ/4D7SVuZA5eMItcgEcvPnwDrVuckdvuISmovLiZ/o2yc4ZrmGzWnxsIQTmz5+PiIgIPPzwwybvb3QBtWXLFjzyyCO4evUq/Pz8kJWVhd69e+PMmTMmn5SIiKzL0b8/FKM+g05VDJnCE5LM3taRiIziHv1POHhHQ3VtH2QKL7iETIWda1CLj7tv3z5s2LAB0dHR+umY/vWvf2H8+PFG7W/SLbyDBw9i5MiROHbsGHbv3o0PP/ywWaGJiMj6JEkGuVMnW8dokdrik6i89AV0aiWcAofDqdsE/RJj1D5JkgSnoJFwChpp1uMOHjwYJs4lXo/RBZS9vT18fHyg0+mg0+kwfPhw/POf/2z2iYmIiExRU3AYxfsf0o+HqcnfD/X1y/CI/oeNk1FHZHQB5enpCaVSiSFDhmDWrFnw8/ODi4uLJbMRERHpKTM+ajCYuPLS53DrPQ8ye/4+IusyejHhzZs3w9nZGa+//jrGjh2LHj164Ntvv7VkNiIiIj2tysBi8rpa6NTXrR+GOjyjC6jnn38eMpkMdnZ2mD17Nh544AG8/PLLlsxGRESkp/Af2KDNzi0Eds6cTZ2sz+gCavv27Q3avv/+e7OGISIiaoxb+Fwo/PrpX8udOsMz8VkbJqKOrMkxUG+++SbWrl2LS5cuISYmRt9eUVGBQYMGWTQcERHRDTJ7F/gM+i/U1zMhNErYe0VAkuS2jkUdVJMF1F133YVx48bhiSeewIoVK/Ttbm5u8Pb2tmg4IiKiP7N3D7Z1BGoHVCoVhgwZgpqaGmg0GkybNg3PPfec0fs3WUB5eHjAw8MDn3zyCbRaLfLz86HRaKBUKqFUKjkTOREREVlUdU0Vfs89DTdnTwR37mWWYyoUCuzatQuurq5Qq9UYPHgwxo0bhwEDBhi1v9HTGKxevRrLli2Dv78/ZLK6oVOSJOHkyZPNS05ERETUhNOXDmP9tldRo65bRq5nYBQWpjwNhYNTi44rSRJcXV0B1K2Jp1arTZqU1egCauXKlTh//jx8fHxMT0lERERkIrVGjY92rNIXTwDwe+4Z7Dq6GeMG3Nni42u1WiQkJOD333/HokWL0L9/f6P3NfopvK5du8LDw6NZAYmIiIhMlVd8BZXVDef5upBzyizHl8vlOH78OHJycnDo0CGcPn3a6H2N7oEKDQ3FsGHDMGHCBCgUCn17c1YwJiIiImqKp6svZDI5dLr6M9D7uPuZ9zyenhg+fDi2bduGPn36GLWP0T1Q3bp1w6hRo1BbW4uKigr9f0RERESW4O7iidtjxtVrUzg4ITlhSouPXVhYiLKyMgBAdXU1tm/fjt69exu9v9E9UM8+WzdZWVVVFZydnU1LSURERNQMU4fMR0hAb5y+fBjuzp4YFD0WnTxbPvt8Xl4eZs+eDa1WC51OhxkzZmDixIlG7290AXXgwAHMnz8fSqUSWVlZOHHiBNatW4e1a9c2KzgRETWfEMKkJ4YaP44W6rIMyBQeXBKFWiVJkhDfazDiew0263FjYmJw7NixZu9vdAH1z3/+Ez/88ANSUlIAALGxsfj555+bfWIiIjKNEALK8++h8uIm6NRKOHYZBo/YRyBXeDbreLUlZ1B66Gloq68BkOAYOBxeCc9CkjuYNTdRe2T0GCig7km8m8nlnEKfiMhaqi5/gYrf3oautgwQGqhyd6AsfVmzjiWEDqWHl/6veAIAAVXuLih//8RccYnaNZOmMdi/fz8kSYJarcYrr7yCiIgIo/adN28e/Pz86o1sLykpwahRoxAWFoZRo0ahtLTU9PRERB1IVdbWBm01Bb9Cqyo2+Via65egrcpr0K66tq9Z2YhMJYSwdYRbaiqf0QXUW2+9hTVr1iA3NxeBgYE4fvw41qxZY9S+c+bMwbZt2+q1rVixAsnJycjIyEBycnK9dfaIiMgQQz+ypf/9Z+KRFF4Gjyd35GTJZHmOjo4oLi5utUWUEALFxcVwdHRsdBujx0D5+vrio48+alaQIUOGIDMzs17b5s2bsWfPHgDA7NmzMWzYMLz88svNOj4RUUfg3H0SykvP1GtTdL4NckfTF3aXO/rAqds4VGd990ejZAeXni2f3ZmoKUFBQcjJyUFhYaGtozTK0dERQUFBjb5vdAE1e/Zs/Pe//4WnpycAoLS0FI888gjefffdZgXLz89HQEDdEx+dO3dGfn5+o9umpaUhLS0NAFr1PzYRkSW5hEyG0FSh8uJn0Kkr6gaRRz/Y7ON59l0Ce89eUOX9DJmDF1x7zICDT7QZExMZZm9vj5CQEFvHaBFJGNl/1rdv3waP+xlqa0xmZiYmTpyonybd09NTP4EVAHh5eRk1DioxMRHp6elGnZOIiIjIEoweA6XT6eoVOCUlJdBoNM0+sb+/P/Ly6gYw5uXlwc/PvNOyExEREVmK0bfwHnnkEQwcOBDTp08HAGzatAlPPfVUs0+ckpKC9evXY8mSJVi/fj0mT57c7GMREXUEutrrqC09CzuXINi5Nj42g4gsz6hbeDqdDgcPHoSnpyd27doFABgxYgQiIyONOsnMmTOxZ88eFBUVwd/fH8899xz+8pe/YMaMGcjKykL37t3x2Wefwdu76YGQvIVHRB1R1ZVvUX7iFQhtDQAJzt0nwKPvE5Akk6bzIyIzadEYKFtgAUVEHY1WVYL8bZMBUX/YhFfSC3AKGmmjVEQdm9F/uiQnJ+OLL75otXM2EBG1V7VFRxsUT0DdJJpEZBtGF1Dr1q3D9OnT4eDgAHd3d7i5ucHd3d2S2YiICIDcyb+R9s5WTkJENxg9iLyiosKSOYiIqBEOPtFw6JSE2sLD+jbJ3g1O3cbaMBVRx2Z0D5QQAh9++CFeeOEFAEB2djYOHTpksWBERPQHn4H/hluff0DmVDfli1BXoHD3XKjyfrFxMqKOyegC6r777sOBAwfw8ccfAwBcXV2xaNEiiwUjIqI/SHJHyOxcoKsu0LcJdQVK05dBp6m2YTKijsnoAurXX3/FmjVr9AvreXl5oba21mLBiIiovpqCgw3ahKYStSWnbJCGqGMzegyUvb09tFotJKlu1e/CwkLIZJx/hIjIWuSOvia120L11T2ouvw1hLYGTkGj4BwyRf97g6g9MbqAeuCBBzBlyhTk5+fjqaeewueff47ly5dbMhsREd3EJXQ6qrK2Qmiq9G2OAUNg7x5qw1R/qMrahrIjz+lf1xYfh6YqDx59ONyD2h+jJ9IEgHPnzmHnzp0A6mYij4iIsFiwxnAiTSLqyNQVmaj8fSO01flQ+PWDS0gqJLmDrWMBAPJ33g3t9d//1CpD50k7ILNzskkmIksxugcKAKqqqvS38aqrOWiRiMja7N2C4dl3ia1j4FJ5LTadL0NZjRbDurpiTLAbdKpCA1vqoMrdA+fu46yekciSjB7E9Pzzz2P27NkoKSlBUVER5s6dy1t4REQd0G/FKsz6Lgsbz5djW6YSS/Zew8ojRbBz7Wpwe23VVSsnJLI8o2/hhYeH48SJE/qn8KqrqxEXF4fz589bNOCf8RYeEZFtPf5zHn68oqzX5iCTsPX2a6g58liD7b1vex2O/gOsFa9dy6tU49X0Ihy6VoUAFzssiPFBcjdXW8fqkIzugerSpQtUKpX+dU1NDQIDAy0SioiIzEdTdQ0VFzag4vx6aCpb3ht0Valu0FarEyhzT4JTtwn12p2CRkPh17/F5yRAJwQW7cjFziwlKmp1uFBai8U/5+F4AYfU2ILRY6A8PDwQFRWFUaNGQZIkbN++Hf369cMDDzwAAHjjjTcsFpKIiJqnpugoSvY/DKGtAQBUnHsX3gP+DUf/5hc1/QKccbq4pl6bn7Mdgt0dIE94Gi4hU6AuOwd7jzA4+MS0KD/94ViBCpev1y9edQL4+vfriPPjIH1rM7qAmjJlCqZMmaJ/PWzYMEvkISIiM7p+eq2+eAIA6Gpx/fTqFhVQc6O8cKygGscK6u5KuDnI8Nxt/pDL6uZ7cvCOgoN3VItyU0NaneERNxrjH6YnMzK6gJo9e/Yt309NTcUXX3zR4kBERGQ+6vKMBm2a679DCNHoBJdVah3yKtXo5uYAe3nDbVwd5Hh3TFecLlKhtEaLRD8nONlzYmVLi/d3QoCLHfIqNfXaJ4a42ShRx2bSNAa3cunSJXMdioiIzMTBKxK1xcfrtdl79m60ePrgbCnWnShGlUbASyHHE/07YVR3w7+g+/g6mjsu3YKdTMKqEV3wr18LcbSgGn7OdlgQ7Y0BXVxsHa1DMlsBxan6iYhaH/c+96N4/z8h1HVPzUl2znCPftDgtscLqvH6kSL969IaLZ76JR9xnZzQydlsvy6oBXp4KvDOmCCotcJg7yBZD78jiIjaMQfvKPiP+hzVV3cDQgfHwOGQK7wMbrs7W9mgTa0T+CW3ElPCPCwdlUzA4sn2zFZAmbAiDBERWZFM4QGXkL80uZ27g9xgu6fCcDtRR2bSqL/q6upGJ858+eWXzRKIiIhsI6WHOzwc6v9aCHa3x+AgjrEh+jOjC6hvvvkGcXFxGDt2LADg+PHjSElJ0b8/evRo86cjIuoghBBQ1mpt2pvfydkO743tigmhbojwVuCOcA+8PToI9jLeLiL6M6Nv4S1btgyHDh3Sz/8UFxeHy5cvtzhAcHAw3NzcIJfLYWdnx2VaiKjD2ZtbiVcOFyKrQo2ubvZ4JMEXQ7vaZnmOEA8HLB/U2SbnJmpLjC6g7O3t4eFRfxChuZ682717N3x9fc1yLCKituRapRqP7slD7f8mScyuUOPRn/PwVUowgtzsbZyOiBpj9C28qKgofPzxx9BqtcjIyMA//vEP3HbbbZbMRkTU7u3MUuqLpxs0OmBHVoWNEhGRMYwuoFatWoUzZ85AoVBg5syZcHd3x8qVK1scQJIkjB49GgkJCUhLS2vx8YiI2pLGxhc5yDizN1FrJgkbzz+Qm5uLwMBAFBQUYNSoUVi1ahWGDBlSb5u0tDR9cVVYWIgrV67YIioRtVBuhRq/l9Wgt7cC/i68PQUAZTVaTP46E9drdfo2V3sZNk/uDm8nTtVH1FoZXUBNmjSpwZgnDw8PJCYmYuHChXB0bPmU/suWLYOrqyseffTRRrdJTExs0UBzoa6F+OVHIOcypPBoIHEIJP6lR2Rxr6QX4uPfyiAAyCVgQYw3FsT42DpWq3C+pAZvHCvCuZIahHspcH9fH0T6WGaZlJwKNT45V4arSjX6BThjWpgHJ2UkagajC6gHH3wQhYWFmDlzJgDg008/hbu7OyRJwvXr17FhwwaTT15ZWQmdTgc3NzdUVlZi1KhReOaZZ/RTJRjSkgJK1NZA9/TfgAun9G3SbaMgW/zvZh2PiIxz+FoVFmzPbdD+6cRu6OWlsEGijumqUo27vstC+U29XUODXLByeBcbpiJqm4zuH96/fz8OHz6sfz1p0iQkJSXh8OHDiIqKatbJ8/PzMWXKFACARqPBXXfddcviqaXE3m31iicAEPu3Q/x2HFJEnMXOS9TRHcqrMth++FoVCygr+vR8Wb3iCQB+yqnEhdIafg5EJjK6gFIqlcjKykK3bt0AAFlZWVAq69ZNcnBwaNbJQ0NDceLEiWbt2yxXMgw2iysZLKCILCjA1fB4py4cB2VV1yo1jbSrWUARmcjoAurVV1/F4MGD0aNHDwghcPnyZaxduxaVlZWYPXu2JTOaT1gfg81SI+1EZB7jgt3w4dlSXL6u1rdF+ihwO5cIsaqBXZzx45X6CwY7yiX09XOyUSKitsukp/Bqampw7tw5AEB4eLhZBo6bqkVjoLQa6F58EDi6X98mjZsB2cInzBWPiBpRXqPFpgvlyCitQZSPI1J7ecDFng9wWJNWJ/DM/nxsvVw3x5SznYRnBvpjTLCbjZMRtT0mFVD79+9HZmYmNJo/uoHvueceiwRrTIufwhMCOPErRNZFSL1jIfVi7xMRdSxXrtcir1KDaF/HFhexF0pr8P7pUuQo1Uj0d8LcPl5wc5CbKSlR62V0AXX33Xfj4sWLiIuLg1xe980hSRLeeOMNiwb8s5YWUERE7Um1WoezJTUIcLFDl0bGmlnKleu1uOu7LFRp/vg1EtPJEevHdrVqDiJbMHoMVHp6Os6ePWu29e+IiKhldlypwHMHCqBU6yABSOnhjmcG+kFmpZ/TX2SU1yueAOBkoQrHC6oRx3FV1M4Z3Xfbp08fXLt2zZJZiIjISBW1WjyzPx9Kdd20BALA5ovX8e0l662hV6rSGm6vMdxO1J4Y3QNVVFSEyMhI9OvXDwrFH4+7btmyxSLBiIiocUfzq1GtaTgC48DVSqT0cLdKhqFBLg0KNhd7GZL82ftE7Z/RBdSyZcssGIOIiEzh72L4x7efs3nWz1NpdNidXQmlWouhQa4GjzuyuxvmRNXgo9/KoNYJ+DrJ8exAf7hyEDl1ADZfTNhUHERORFTn/p252Hf1j1ne3Rxk+GR8NwS6tWww+VWlGvN/zNFPvGkvk7Di9s4Y0c3V4PblNVrkV2kQ4uEAexnHyVLHYPQYqIMHDyIpKQmurq5wcHCAXC6Hu7t1uomJiDqKomoNVBpd0xsCeHVYAB5K8MWgLs6Y3ssDG8Z1bXHxBADrThbXm7VcrRN4+XAhNDrDf297KOTo5aVg8UQditF9vffffz82btyI6dOnIz09HR988AEuXLhgyWxERB3G+ZIaPLP/Gi6U1sLZTsJfI73w91ifW+6jkMtwT6QX7on0MmuWU0U1DdoKqjQoqNJYfaoEotbKpBnUevbsCa1WC7lcjrlz52Lbtm2WykVE1GFodAL/3HMVF0prAQBVGoG0kyX4/vJ1m+Tp6dlwfVNPhQy+ThzbRHSD0T1Qzs7OqK2tRVxcHBYvXoyAgADodMZ1MxMRUeNOF6kMLvT7Y6YS40KaHiqh1QmcKlLByU6GcO+WLwq8INobB/OqUFFb9zNeAnB/nC8c5Fx6h+gGowuoDRs2QKfTYfXq1Xj99deRnZ2NL774wpLZiIg6BOdGllNprP1m50tq8NCeq8j7XwEW18kRK4d3gYei+b1FPb0U+DKlO767VAFlrRYjurkiwsf6a58StWZ8Co+IqBWY90M2jhWo9K/lEvD/Rgc1OaP3nd9m4Xxp/TFLM3p54In+fhbJSUR1jO6B2rdvH5YtW4YrV67UW0z40qVLFglGRNSRrBzWBWtPFGP/1Sr4O9thbh+vJoun4mpNg+IJAPbfNLUBEVmG0QXU/Pnz8frrryMhIUG/mDAREZmHu0KOJf1M6zVydZDBxV6GSnX98aiNTbJJROZj9HeZh4cHxo0bZ8ksRERkAoVchrsjPPHWyRJ9m1wC5kaZd1oDImqoyTFQR48eBQB89tln0Gq1mDp1ar218OLj4y2b8E84BoqIqL5tlyvw45UKONvJMK2XR5O3/qi+gioNzhSpEOLhgGCPhlM4EBnSZAE1fPjwxneWJOzatcvsoW6FBRQREd1KdU0VvjvwIU5dOgxXJ3eMiJ+MhPAhBrf94GwpVh0two11mf/S0x3PDPCDJHFWdbq1Jm/h7d692xo5iIiIzGL996/g7JW6uyelFYVYv+01ONg7Ijq0X73tsitqsfJIEW7uRfj69+sYEuSC4V0Nr/tHdIPRs6I9+eSTKCsr078uLS3F008/bYlMRERkZoVVGuRVqm0dw+JKrhfoi6eb7TvZcOWMw9eqYegWzOFr1RZIRu2N0QXU999/D09PT/1rLy8vbN261RKZiIiohU4VqvDp+TLsyqrAnd9ewZgvLmP8l5mY90M2CqrqpqIRQmD/1Uq8c6oEv+RWQte2pgU0SK2pNdheq2k43UNQI+v6BbryKUZqmtFfJVqtFjU1NfoB5NXV1aipafgFaapt27bhwQcfhFarxb333oslS5a0+JhERB3Zsv352HzR8Dp6xwpUePFgAVYOD8CjP+VhV3al/r2hQS54bVgAZG14/I+/dxACO4Ugt/ByvXZDY6CSOjsh0d8J6fl/9DgFudojpUfTy+cQGV1AzZo1C8nJyZg7dy4A4L333sPs2bNbdHKtVotFixZh+/btCAoKQlJSElJSUhAZGdmi4xIRdVRH8qsbLZ5u+OVqJX7OraxXPAHATzmV2JdbhduDXCwZ0eLmT3gcH21fhYu5Z6Cwd8SQ2Am4rc/oBttJkoRVI7rg69+v40RhNUI8HDC9lyfcHDjXITXN6ALq8ccfR2xsLHbs2AEAWLp0KcaMGdOikx86dAg9e/ZEaGgoAODOO+/E5s2bWUARETXTqaKmx+8428lwocTwHYTfSlRtvoDy9eiMB6e9iOqaStjJHWBvZ/hWHQA42slwZ29P3Nnb03oBqV0w6Ubv2LFjMXbsWIPvDRw4EAcOHDDp5Lm5uejatav+dVBQEH799dcG26WlpSEtLQ0AUFhYaNI5iIg6ghKVBmeLa+BhRO/JzN6ejS4O3NtbYbC9LXJStO1CkFo3s42UU6lUTW/UTAsWLMCCBQsA1M0DRUREf9h4rgyvHSmCWicgAXCxk1CpMTwgfFqYB/4e6w2BujFPP+X8cRvv9kBnDA5k0UFkDLMVUM2ZdCwwMBDZ2dn61zk5OQgMDDRXJCKiNuuqUo33z5TiQmkNIn0cMTfKC52cG/7IvqpU4z/phdD9r14SACo1As52EqpuKqJ6eTngpdsDEPq/mbYlAK8NC8C+3Cr8VqJCb28FBge6tOkB5ETWZNNnNZOSkpCRkYHLly8jMDAQGzduxMcff2zLSERENldRq8WcbdkorNYCAE4UqvBLbiU2TeoGhbz+7DOHrlXpi6ebje7uiq7uDriqVKN/gDNGdnNt8IeuTJJwe5BLmx/zRGQLZiugmlgRxvDJ7eywevVqjBkzBlqtFvPmzUNUVJS5IhERtRpancDPOZX6HqVBgc6N9vZ8f7lCXzzdkF2hxq4sJcaF1H/EPsDF8ADpEE8F7onkosJElmJSAXXlyhVkZGRg5MiRqK6uhkajgZubGwBgw4YNzQowfvx4jB8/vln7EhG1BVqdwD92XcWBvCp924iuLnhlaIDB4Q8lKm2Dtsba+3V2Ql8/Rxwr+GMcamcXO0zu4Y4SlQabLpQjs7wWsZ2cMCXMHQq5DGqdwLunSvB9ZgUcZBJSe3ngjnDPll8oUQdidAH19ttvIy0tDSUlJbh48SJycnLwf//3f9i5cycAoE+fPhYLSUTUlu3JqaxXPAHAruxK/HqtGgMCnBtsf3uQC9adLKnXJpNgcIC3JElYkxyIzy+U43hhNULdHXBHb09IAO75Phu5yrpZx7dlKrE7W4l1o4LwWnohNp4v1x9jxaFCaHXAXRGeLb9Yog7C6KVc1qxZg3379sHdva77OCwsDAUFBRYLRkTUXpxrZM6lxuZiivJxxCMJvnCyq+udcrWX4an+fuju7mBweyc7Ge6O9MKrQ7tgUV9f+DrZYcvF6/ri6YZD16px8Golvv694USbmy6UmXBFplNpdFAbGqxF1EYZ3QOlUCjg4PDHN69Go2nWk3dERB1NZCNzK0X4ND7n0l8jvfCXnu7IUarR3c0BTvZG/70LAMhRGl44OEepRq2BQkbVyLQHLVWi0mD5wQL8lFNZd7swzAP/TPCFnYy/P6htM/o7cujQofjXv/6F6upqbN++HdOnT8ekSZMsmY2IqF0YEuSC2wPr36ob3d0VSZ0b3r67mauDHL29HU0ungAYPLZMAgYEuGCogafuxgS7mXwOYzy7Px+7syuhE4BKK/DRuTK8d7rUIucisiZJGPn4nE6nwzvvvIMff/wRQgiMGTMG9957r9V7oRITE5Genm7VcxIRtZROCOy/WoULpTWI8nFEv85OFv35KYTAcwcK9Ovi2UnAA/G+uDvSC6UqLZYdyMcvuZWQSxLGh7jhif6dGkyR0FLXa7QY9tkl/PmXTIiHA75M6W7WcxFZm9EFVGVlJRwdHSGX1y0ToNVqUVNTA2fnW/8FZW4soIiIjHe5vBaZ5bXo4+vYYCLOilot7CSpWT1cxqhU6zDs04v4893BcC8FNk7sZpFzElmL0d81ycnJqK7+Y5HK6upqjBw50iKhiIjIPEI8HDC8m6vBWczdHOQWK54AwMVehjEhDW8NTg1zN7A1Udti9CBylUoFV1dX/WtXV1dUVVXdYg8iIuronu7vBy+FHD9eUcLZTsKMcE/M4JxT1A4YXUC5uLjg6NGjiI+PBwAcOXIETk5OFgtGRERtn6OdDI8kdsIjiZ1sHYXIrIwuoFauXInp06ejS5cuEELg2rVr+PTTTy2ZjYiIiKhVMrqASkpKwrlz53D+/HkAQHh4OOztDa/BRERERNSeNVlA7dq1CyNGjMCXX35Zr/3ChQsAgKlTp1omGREREVEr1WQB9dNPP2HEiBH45ptvGrwnSRILKCIiIupwjJoHSqfT4fPPP8eMGTOskemWOA8UERER2ZpRE4DIZDL8+9//tnQWIiIiojbB6BnURo4ciVdeeQXZ2dkoKSnR/0dERETU0Ri9lEtISIjBdZsuXbpk9lC3wlt4REREZGtGT2Nw9uxZrF27Fr/88gskScLtt9+O//u//7NkNiIiIqJWyegeqBkzZsDd3R2zZs0CAHz88ccoLy/HZ599ZtGAf8YeKCIiIrI1o3ugTp8+jbNnz+pfDx8+HJGRkRYJRURkbsXVGnx7qQJlNVoMDXJBnB+XoiKi5jN6EHl8fDwOHjyof/3rr78iMTHRIqGIiMzpyvVaTPsmCyuPFuH9M6WY+0MOPjhbautYRNSGGd0DdeTIEdx2223o1q0bACArKwvh4eGIjo6GJEk4efKkxUISEbXEu6dLUFajrde27kQxUsM84GJv9N+RRER6RhdQ27ZtM+uJly1bhrfffhudOtWt0P2vf/0L48ePN+s5iIgA4GJZbYO2Ko1AnlKNnl4KGyQiorbO6AKqe/fuZj/5Qw89hEcffdTsxyUiulm0ryPOFNfUa/NUyNDNnQuiE1HzsO+aiNq9+dHe6H5TsWQnAY8n+cFBzh+BRNQ8Rk9jYG7Lli3D+++/D3d3dyQmJuLVV1+Fl5eXwW3T0tKQlpYGACgsLMSVK1esGZWI2gG1VuDn3EqUqbQYHOgMfxf2PhFR81m0gBo5ciSuXbvWoP3FF1/EgAED4OvrC0mSsHTpUuTl5eHdd99t8picB4qIyLouldfih8wK2EkSxoe4IdCNxSeRzXqgbpaZmYmJEyfi9OnTTW7LAoqIyHp2ZSnx+M950PzvN4WjXMLq5EAk+HMeLerYbDYAIC8vT///X331Ffr06WOrKERE1IiVR4v0xRMAqLQCa44X2S4QUSth9FN45rZ48WIcP34ckiQhODgY69ats1UUImoGtU7gnVMl2Hq5Ag4yCam9PDCzt6etY5EZ1Wp1yK5QN2j/3cC0EEQdjc0KqA0bNtjq1ERkBq+lF2Lj+XL9638fLoROCMyKMPwwCLU9DnIZenk54EJp/YIp2tfRRomIWg8+w0tEJlPrBL7+/XqD9k0Xyg1sTW3Z40l+cLaT9K89FXL8M97XhomIWgeb9UARUdulEwJqXcPnT1Qamz+TQmYW7++E76aGYHeWEnYyCSO6uXL5GyKwgCKiZlDIZRja1QW7sirrtY8JdrVRIrIkT4UcU8I8bB2DqFXhnxFE1CxLB/hjWJALZBJgL5MwuYc77ovzsXUsIiKrYA8UETWLp0KO14d3QaVaB5kEONnx7zEi6jhYQBFRi3A8DBF1RPzJR0RERGQiFlBEREREJmIBRURERGQiFlBEREREJmIBRURERGQiFlBEREREJmIBRURERGQiFlBEREREJmIBRURERGQiFlBEREREJmIBRURERGQiFlBEREREJpKEEMLWIUzh6+uL4OBgW8cwSmFhITp16mTrGFbBa22feK3tU0e51o5ynUDLrtXX1xfbtm0zc6L2r80VUG1JYmIi0tPTbR3DKnit7ROvtX3qKNfaUa4T6FjX2lrwFh4RERGRiVhAEREREZmIBZQFLViwwNYRrIbX2j7xWtunjnKtHeU6gY51ra0Fx0ARERERmYg9UEREREQmYgFFREREZCIWUC2wadMmREVFQSaT1Xt8dPv27UhISEB0dDQSEhKwa9cug/svW7YMgYGBiIuLQ1xcHLZu3Wqt6CZr7FoB4KWXXkLPnj0RHh6OH374weD+ly9fRv/+/dGzZ0/ccccdqK2ttUZss7jjjjv0n1FwcDDi4uIMbhccHIzo6GjExcUhMTHRuiHNxNivyW3btiE8PBw9e/bEihUrrJyy5R577DH07t0bMTExmDJlCsrKygxu15Y/06Y+o5qaGtxxxx3o2bMn+vfvj8zMTOuHNIPs7GwMHz4ckZGRiIqKwn//+98G2+zZswceHh76r+vnn3/eBknNo6mvSSEEHnjgAfTs2RMxMTE4evSoDVJ2EIKa7ezZs+LcuXNi6NCh4vDhw/r2o0ePitzcXCGEEKdOnRJdunQxuP+zzz4r/vOf/1gla0s1dq1nzpwRMTExQqVSiUuXLonQ0FCh0Wga7D99+nTxySefCCGEWLhwoVi7dq3VspvTww8/LJ577jmD73Xv3l0UFhZaOZF5GfM1qdFoRGhoqLh48aKoqakRMTEx4syZM1ZKaB4//PCDUKvVQgghFi9eLBYvXmxwu7b6mRrzGa1Zs0YsXLhQCCHEJ598ImbMmGGLqC129epVceTIESGEENevXxdhYWENrnX37t1iwoQJtohndk19TX733Xdi7NixQqfTiQMHDoh+/fpZMV3Hwh6oFoiIiEB4eHiD9r59+6JLly4AgKioKFRXV6Ompsba8cyqsWvdvHkz7rzzTigUCoSEhKBnz544dOhQvW2EENi1axemTZsGAJg9eza+/vpra8Q2KyEEPvvsM8ycOdPWUWzq0KFD6NmzJ0JDQ+Hg4IA777wTmzdvtnUsk4wePRp2dnYAgAEDBiAnJ8fGiczLmM9o8+bNmD17NgBg2rRp2LlzJ0QbfKYoICAA8fHxAAA3NzdEREQgNzfXxqlsZ/PmzbjnnnsgSRIGDBiAsrIy5OXl2TpWu8QCysK++OILxMfHQ6FQGHx/9erViImJwbx581BaWmrldC2Xm5uLrl276l8HBQU1+OFVXFwMT09P/S8sQ9u0BXv37oW/vz/CwsIMvi9JEkaPHo2EhASkpaVZOZ35NPU1acxn3pa8++67GDdunMH32upnasxndPM2dnZ28PDwQHFxsVVzmltmZiaOHTuG/v37N3jvwIEDiI2Nxbhx43DmzBkbpDOPpr4m29v3Z2tmZ+sArd3IkSNx7dq1Bu0vvvgiJk+efMt9z5w5g8cffxw//vijwff//ve/Y+nSpZAkCUuXLsUjjzyCd9991yy5m6Ml19rWGXPtn3zyyS17n3755RcEBgaioKAAo0aNQu/evTFkyBCLZW6uW11ra/uabAljPtMXX3wRdnZ2mDVrlsFjtJXPlAClUonU1FSsXLkS7u7u9d6Lj4/HlStX4Orqiq1bt+Ivf/kLMjIybJS0Zfg12XqwgGrCjh07mrVfTk4OpkyZgg8++AA9evQwuI2/v7/+///2t79h4sSJzTqXuTTnWgMDA5Gdna1/nZOTg8DAwHrb+Pj4oKysDBqNBnZ2dga3sbWmrl2j0eDLL7/EkSNHGt3mxjX5+flhypQpOHToUKv8wWbs59zY16Qxn3lr0NR1vv/++/j222+xc+dOSJJkcJu28pn+mTGf0Y1tgoKCoNFoUF5eDh8fH2tHNQu1Wo3U1FTMmjULU6dObfD+zQXV+PHjcd9996GoqAi+vr7WjGkWTX1NtpXvz/aAt/AsoKysDBMmTMCKFSswaNCgRre7+b70V199hT59+lgjnlmlpKRg48aNqKmpweXLl5GRkYF+/frV20aSJAwfPhyff/45AGD9+vVtrkdrx44d6N27N4KCggy+X1lZiYqKCv3///jjj23y8zTmazIpKQkZGRm4fPkyamtrsXHjRqSkpFgzZott27YN//73v7FlyxY4Ozsb3KYtf6bGfEYpKSlYv349AODzzz/HiBEjGi0kWzMhBObPn4+IiAg8/PDDBre5du2afnzXoUOHoNPp2mSxaMzXZEpKCj744AMIIXDw4EF4eHggICDAFnHbP1uOYG/rvvzySxEYGCgcHByEn5+fGD16tBBCiBdeeEE4OzuL2NhY/X/5+flCCCHmz5+vf4rtr3/9q+jTp4+Ijo4WkyZNElevXrXZtTSlsWsVQojly5eL0NBQ0atXL7F161Z9+7hx4/RPI168eFEkJSWJHj16iGnTpgmVSmX1a2iJ2bNnizfffLNeW25urhg3bpwQou76YmJiRExMjIiMjBTLly+3RcwWa+xr8uZrFaLuSZ+wsDARGhraJq+1R48eIigoSP/9eeNptPb0mRr6jJYuXSo2b94shBCiurpaTJs2TfTo0UMkJSWJixcv2jJus+3du1cAENHR0frP87vvvhNvvvmm/nt21apVIjIyUsTExIj+/fuLffv22Th18zT2NXnztep0OnHfffeJ0NBQ0adPn3pPTZN5cSkXIiIiIhPxFh4RERGRiVhAEREREZmIBRQRERGRiVhAEREREZmIBRQRERGRiVhAEREREZmIBRSRBTzzzDPNnsXeWMOGDUN6erpFz9EWlZWVYe3atVY732uvvYbIyEjExMQgOTkZV65cqff+9evXERQUhPvvv1/f5urqarV8RGQZLKCIzEyr1eL555/HyJEjbR2lTdFqtWY5jrULqL59+yI9PR0nT57EtGnTsHjx4nrvL126tE0s/0JEpmEBRWSCzMxM9O7dG7NmzUJERASmTZuGqqoqBAcH4/HHH0d8fDw2bdqEOXPm6JeuOXz4MG677TbExsaiX79+qKiogFarxWOPPYakpCTExMRg3bp1tzzvyy+/jOjoaMTGxmLJkiX69k2bNqFfv37o1asX9u7dq894++23Iz4+HvHx8di/fz8AYM+ePRg2bBimTZumv4Yb8+hu3boVvXv3RkJCAh544AH9GniVlZWYN28e+vXrh759+2Lz5s2NZnz//fcxefJkDBs2DGFhYXjuuef073344Yfo168f4uLisHDhQn2x5OrqikceeQSxsbE4cOAAPvjgA8TExCA2NhZ33303AKCwsBCpqalISkpCUlIS9u3bBwBYtmwZ5s2bh2HDhiE0NBRvvPEGAGDJkiW4ePEi4uLi8Nhjj0GpVCI5ORnx8fGIjo6udw0vvPACwsPDMXjwYMycOROvvPIKAODixYsYO3YsEhIScPvtt+PcuXONXvfw4cP1y8EMGDAAOTk5+veOHDmC/Px8jB49usF+Tz31FGJjYzFgwADk5+c3enwiaqVsPBM6UZty+fJlAUD88ssvQggh5s6dK/7zn/+I7t27i5dfflm/3ezZs8WmTZtETU2NCAkJEYcOHRJCCFFeXi7UarVYt26deOGFF4QQQqhUKpGQkCAuXbpk8Jxbt24VAwcOFJWVlUIIIYqLi4UQQgwdOlQ8/PDDQoi6ZTuSk5OFEEJUVlaK6upqIYQQFy5cEAkJCUIIIXbv3i3c3d1Fdna20Gq1YsCAAWLv3r2iurpaBAUF6c9/5513igkTJgghhHjiiSfEhg0bhBBClJaWirCwMKFUKg3mfO+990Tnzp1FUVGRqKqqElFRUeLw4cPi7NmzYuLEiaK2tlYIIcTf//53sX79eiGEEADEp59+KoQQ4vTp0yIsLEwUFhbWu86ZM2eKvXv3CiGEuHLliujdu7cQQohnn31WDBw4UKhUKlFYWCi8vb1FbW2tuHz5soiKitLnUqvVory8XAghRGFhoejRo4fQ6XTi0KFDIjY2VlRXV4vr16+Lnj17iv/85z9CCCFGjBghLly4IIQQ4uDBg2L48OEGr/nPFi1apP9ctVqtGDp0qMjOzhbvvfeeWLRokX47AGLLli1CCCEee+wx/T5E1HbY2bh+I2pzunbtql8k+q9//au+5+OOO+5osO358+cREBCApKQkAH+sCv/jjz/i5MmT+l6q8vJyZGRkICQkpMExduzYgblz5+p7Oby9vfXv3Vh5PiEhAZmZmQDqVqa///77cfz4ccjlcly4cEG/fb9+/fQLIsfFxSEzMxOurq4IDQ3Vn3vmzJlIS0vT59yyZYu+Z0alUiErKwsREREG/21GjRqlX6R16tSp+OWXX2BnZ4cjR47o/w2qq6vh5+cHAJDL5UhNTQUA7Nq1C9OnT4evr2+969yxYwfOnj2rP8f169ehVCoBABMmTIBCoYBCoYCfn5/BnhwhBJ588kn8/PPPkMlkyM3NRX5+Pvbt24fJkyfD0dERjo6OmDRpEgBAqVRi//79mD59uv4YNTU1Bq/3Zh9++CHS09Px008/AQDWrl2L8ePHG1yA2sHBQd/Ll5CQgO3btzd5fCJqXVhAEZnozyvW33jt4uJi9DGEEFi1ahXGjBnToiwKhQJAXSGi0WgAAK+//jr8/f1x4sQJ6HQ6ODo6Ntj+z/vcKucXX3yB8PBwo/IY+rcRQmD27Nl46aWXGmzv6OgIuVx+y2PqdDocPHiw3nXcYMz1fPTRRygsLMSRI0dgb2+P4OBgqFSqW57P09MTx48fv2Wum+3YsQMvvvgifvrpJ32mAwcOYO/evVi7di2USiVqa2vh6uqKFStWwN7eXv9vZcznQEStD8dAEZkoKysLBw4cAAB8/PHHGDx4cKPbhoeHIy8vD4cPHwYAVFRUQKPRYMyYMXjzzTehVqsBABcuXEBlZaXBY4waNQrvvfceqqqqAAAlJSW3zFdeXo6AgADIZDJs2LChycHZ4eHhuHTpkr4H69NPP9W/N2bMGKxatUo/VurYsWO3PNb27dtRUlKC6upqfP311xg0aBCSk5Px+eefo6CgQJ//z0+qAcCIESOwadMmFBcX17vO0aNHY9WqVfrtmips3NzcUFFRoX9dXl4OPz8/2NvbY/fu3fpzDxo0CN988w1UKhWUSiW+/fZbAHW9hCEhIdi0aROAuiLyxIkTjZ7v2LFjWLhwIbZs2aLvWQPqCresrCxkZmbilVdewT333IMVK1bcMjsRtR0soIhMFB4ejjVr1iAiIgKlpaX4+9//3ui2Dg4O+PTTT/GPf/wDsbGxGDVqFFQqFe69915ERkYiPj4effr0wcKFCxvthRg7dixSUlKQmJiIuLg4/e20xtx3331Yv349YmNjce7cuSZ7xpycnLB27Vr9oGk3Nzd4eHgAqHuCTK1WIyYmBlFRUVi6dOktj9WvXz+kpqYiJiYGqampSExMRGRkJJYvX47Ro0cjJiYGo0aNQl5eXoN9o6Ki8NRTT2Ho0KGIjY3Fww8/DAB44403kJ6ejpiYGERGRuKtt966ZQYfHx8MGjQIffr0wWOPPYZZs2YhPT0d0dHR+OCDD9C7d28AQFJSElJSUhATE4Nx48YhOjpaf90fffQR3nnnHcTGxiIqKuqWg+dvDFSfPn064uLikJKScst8RNQ+SOLGn5ZE1KTMzExMnDgRp0+ftnUUs1IqlXB1dYUQAosWLUJYWBgeeughk47x/vvvIz09HatXr7ZQSvO7cd1VVVUYMmQI0tLSEB8fb+tYRNQGsAeKiPD2228jLi4OUVFRKC8vx8KFC20dySoWLFiAuLg4xMfHIzU1lcUTERmNPVBErcSpU6f0cx/doFAo8Ouvv9ookWE//PADHn/88XptISEh+Oqrr2yUyDpefPFF/bioG6ZPn46nnnrKRomIyJZYQBERERGZiLfwiIiIiEzEAoqIiIjIRCygiIiIiEzEAoqIiIjIRP8fuX75JaFUPwEAAAAASUVORK5CYII=' style='max-width:100%; margin: auto; display: block; '/>"
      ],
      "text/plain": [
       ":NdOverlay   [class]\n",
       "   :Scatter   [price_change_percentage_24h]   (price_change_percentage_7d,coin_id)"
      ]
     },
     "execution_count": 23,
     "metadata": {
      "application/vnd.holoviews_exec.v0+json": {}
     },
     "output_type": "execute_result"
    }
   ],
   "source": [
    "# Create a scatter plot using hvPlot by setting \n",
    "# `x=\"price_change_percentage_24h\"` and `y=\"price_change_percentage_7d\"`. \n",
    "# Color the graph points with the labels found using K-Means and \n",
    "# add the crypto name in the `hover_cols` parameter to identify \n",
    "# the cryptocurrency represented by each data point.\n",
    "df_market_data_clustered.hvplot.scatter(\n",
    "    x=\"price_change_percentage_24h\",\n",
    "    y=\"price_change_percentage_7d\",\n",
    "    by=\"class\",\n",
    "    hover_cols=\"coin_id\"\n",
    ")"
   ]
  },
  {
   "attachments": {},
   "cell_type": "markdown",
   "metadata": {},
   "source": [
    "---"
   ]
  },
  {
   "attachments": {},
   "cell_type": "markdown",
   "metadata": {},
   "source": [
    "### Optimize Clusters with Principal Component Analysis."
   ]
  },
  {
   "cell_type": "code",
   "execution_count": 24,
   "metadata": {},
   "outputs": [],
   "source": [
    "# Create a PCA model instance and set `n_components=3`.\n",
    "pca = PCA(n_components=3)"
   ]
  },
  {
   "cell_type": "code",
   "execution_count": 25,
   "metadata": {},
   "outputs": [
    {
     "data": {
      "text/plain": [
       "array([[-0.60066733,  0.84276006,  0.46159457],\n",
       "       [-0.45826071,  0.45846566,  0.95287678],\n",
       "       [-0.43306981, -0.16812638, -0.64175193],\n",
       "       [-0.47183495, -0.22266008, -0.47905316],\n",
       "       [-1.15779997,  2.04120919,  1.85971527]])"
      ]
     },
     "execution_count": 25,
     "metadata": {},
     "output_type": "execute_result"
    }
   ],
   "source": [
    "# Use the PCA model with `fit_transform` to reduce to \n",
    "# three principal components.\n",
    "crypto_pca = pca.fit_transform(df_crypto_scaled)\n",
    "\n",
    "# View the first five rows of the DataFrame. \n",
    "# The first two columns are the principal components.\n",
    "crypto_pca[0:5]\n"
   ]
  },
  {
   "cell_type": "code",
   "execution_count": 26,
   "metadata": {},
   "outputs": [
    {
     "data": {
      "text/plain": [
       "0.895031657030984"
      ]
     },
     "execution_count": 26,
     "metadata": {},
     "output_type": "execute_result"
    }
   ],
   "source": [
    "# Retrieve the explained variance to determine how much information \n",
    "# can be attributed to each principal component.\n",
    "pca.explained_variance_ratio_\n",
    "# what is the total explained variance of the three principal components?\n",
    "sum(pca.explained_variance_ratio_)"
   ]
  },
  {
   "attachments": {},
   "cell_type": "markdown",
   "metadata": {},
   "source": [
    "#### Answer the following question: \n",
    "\n",
    "**Question:** What is the total explained variance of the three principal components?\n",
    "\n",
    "**Answer:** 0.895031657030984"
   ]
  },
  {
   "cell_type": "code",
   "execution_count": 27,
   "metadata": {},
   "outputs": [
    {
     "data": {
      "text/html": [
       "<div>\n",
       "<style scoped>\n",
       "    .dataframe tbody tr th:only-of-type {\n",
       "        vertical-align: middle;\n",
       "    }\n",
       "\n",
       "    .dataframe tbody tr th {\n",
       "        vertical-align: top;\n",
       "    }\n",
       "\n",
       "    .dataframe thead th {\n",
       "        text-align: right;\n",
       "    }\n",
       "</style>\n",
       "<table border=\"1\" class=\"dataframe\">\n",
       "  <thead>\n",
       "    <tr style=\"text-align: right;\">\n",
       "      <th></th>\n",
       "      <th>PC 1</th>\n",
       "      <th>PC 2</th>\n",
       "      <th>PC 3</th>\n",
       "    </tr>\n",
       "    <tr>\n",
       "      <th>coin_id</th>\n",
       "      <th></th>\n",
       "      <th></th>\n",
       "      <th></th>\n",
       "    </tr>\n",
       "  </thead>\n",
       "  <tbody>\n",
       "    <tr>\n",
       "      <th>bitcoin</th>\n",
       "      <td>-0.600667</td>\n",
       "      <td>0.842760</td>\n",
       "      <td>0.461595</td>\n",
       "    </tr>\n",
       "    <tr>\n",
       "      <th>ethereum</th>\n",
       "      <td>-0.458261</td>\n",
       "      <td>0.458466</td>\n",
       "      <td>0.952877</td>\n",
       "    </tr>\n",
       "    <tr>\n",
       "      <th>tether</th>\n",
       "      <td>-0.433070</td>\n",
       "      <td>-0.168126</td>\n",
       "      <td>-0.641752</td>\n",
       "    </tr>\n",
       "    <tr>\n",
       "      <th>ripple</th>\n",
       "      <td>-0.471835</td>\n",
       "      <td>-0.222660</td>\n",
       "      <td>-0.479053</td>\n",
       "    </tr>\n",
       "    <tr>\n",
       "      <th>bitcoin-cash</th>\n",
       "      <td>-1.157800</td>\n",
       "      <td>2.041209</td>\n",
       "      <td>1.859715</td>\n",
       "    </tr>\n",
       "  </tbody>\n",
       "</table>\n",
       "</div>"
      ],
      "text/plain": [
       "                  PC 1      PC 2      PC 3\n",
       "coin_id                                   \n",
       "bitcoin      -0.600667  0.842760  0.461595\n",
       "ethereum     -0.458261  0.458466  0.952877\n",
       "tether       -0.433070 -0.168126 -0.641752\n",
       "ripple       -0.471835 -0.222660 -0.479053\n",
       "bitcoin-cash -1.157800  2.041209  1.859715"
      ]
     },
     "execution_count": 27,
     "metadata": {},
     "output_type": "execute_result"
    }
   ],
   "source": [
    "# Create a new DataFrame with the PCA data.\n",
    "df_crypto_pca = pd.DataFrame(\n",
    "    data=crypto_pca,\n",
    "    columns=[\"PC 1\", \"PC 2\", \"PC 3\"]\n",
    ")\n",
    "# Creating a DataFrame with the PCA data\n",
    "df_crypto_pca.head()\n",
    "\n",
    "# Copy the crypto names from the original data\n",
    "df_crypto_pca['coin_id'] = df_market_data.index\n",
    "\n",
    "# Set the coinid column as index\n",
    "df_crypto_pca.set_index('coin_id', inplace=True)\n",
    "\n",
    "# Display sample data\n",
    "df_crypto_pca.head()\n"
   ]
  },
  {
   "attachments": {},
   "cell_type": "markdown",
   "metadata": {},
   "source": [
    "---"
   ]
  },
  {
   "attachments": {},
   "cell_type": "markdown",
   "metadata": {},
   "source": [
    "### Find the Best Value for k Using the PCA Data"
   ]
  },
  {
   "cell_type": "code",
   "execution_count": 28,
   "metadata": {},
   "outputs": [],
   "source": [
    "# Create a list with the number of k-values from 1 to 11\n",
    "inertia = []\n",
    "k = list(range(1, 11))"
   ]
  },
  {
   "cell_type": "code",
   "execution_count": 29,
   "metadata": {},
   "outputs": [
    {
     "name": "stderr",
     "output_type": "stream",
     "text": [
      "c:\\Users\\Jared\\Desktop\\Coding\\PersonalizedAIEmailing\\env\\Lib\\site-packages\\sklearn\\cluster\\_kmeans.py:1416: FutureWarning: The default value of `n_init` will change from 10 to 'auto' in 1.4. Set the value of `n_init` explicitly to suppress the warning\n",
      "  super()._check_params_vs_input(X, default_n_init=10)\n",
      "c:\\Users\\Jared\\Desktop\\Coding\\PersonalizedAIEmailing\\env\\Lib\\site-packages\\sklearn\\cluster\\_kmeans.py:1416: FutureWarning: The default value of `n_init` will change from 10 to 'auto' in 1.4. Set the value of `n_init` explicitly to suppress the warning\n",
      "  super()._check_params_vs_input(X, default_n_init=10)\n",
      "c:\\Users\\Jared\\Desktop\\Coding\\PersonalizedAIEmailing\\env\\Lib\\site-packages\\sklearn\\cluster\\_kmeans.py:1416: FutureWarning: The default value of `n_init` will change from 10 to 'auto' in 1.4. Set the value of `n_init` explicitly to suppress the warning\n",
      "  super()._check_params_vs_input(X, default_n_init=10)\n",
      "c:\\Users\\Jared\\Desktop\\Coding\\PersonalizedAIEmailing\\env\\Lib\\site-packages\\sklearn\\cluster\\_kmeans.py:1416: FutureWarning: The default value of `n_init` will change from 10 to 'auto' in 1.4. Set the value of `n_init` explicitly to suppress the warning\n",
      "  super()._check_params_vs_input(X, default_n_init=10)\n",
      "c:\\Users\\Jared\\Desktop\\Coding\\PersonalizedAIEmailing\\env\\Lib\\site-packages\\sklearn\\cluster\\_kmeans.py:1416: FutureWarning: The default value of `n_init` will change from 10 to 'auto' in 1.4. Set the value of `n_init` explicitly to suppress the warning\n",
      "  super()._check_params_vs_input(X, default_n_init=10)\n"
     ]
    },
    {
     "name": "stderr",
     "output_type": "stream",
     "text": [
      "c:\\Users\\Jared\\Desktop\\Coding\\PersonalizedAIEmailing\\env\\Lib\\site-packages\\sklearn\\cluster\\_kmeans.py:1416: FutureWarning: The default value of `n_init` will change from 10 to 'auto' in 1.4. Set the value of `n_init` explicitly to suppress the warning\n",
      "  super()._check_params_vs_input(X, default_n_init=10)\n",
      "c:\\Users\\Jared\\Desktop\\Coding\\PersonalizedAIEmailing\\env\\Lib\\site-packages\\sklearn\\cluster\\_kmeans.py:1416: FutureWarning: The default value of `n_init` will change from 10 to 'auto' in 1.4. Set the value of `n_init` explicitly to suppress the warning\n",
      "  super()._check_params_vs_input(X, default_n_init=10)\n",
      "c:\\Users\\Jared\\Desktop\\Coding\\PersonalizedAIEmailing\\env\\Lib\\site-packages\\sklearn\\cluster\\_kmeans.py:1416: FutureWarning: The default value of `n_init` will change from 10 to 'auto' in 1.4. Set the value of `n_init` explicitly to suppress the warning\n",
      "  super()._check_params_vs_input(X, default_n_init=10)\n",
      "c:\\Users\\Jared\\Desktop\\Coding\\PersonalizedAIEmailing\\env\\Lib\\site-packages\\sklearn\\cluster\\_kmeans.py:1416: FutureWarning: The default value of `n_init` will change from 10 to 'auto' in 1.4. Set the value of `n_init` explicitly to suppress the warning\n",
      "  super()._check_params_vs_input(X, default_n_init=10)\n",
      "c:\\Users\\Jared\\Desktop\\Coding\\PersonalizedAIEmailing\\env\\Lib\\site-packages\\sklearn\\cluster\\_kmeans.py:1416: FutureWarning: The default value of `n_init` will change from 10 to 'auto' in 1.4. Set the value of `n_init` explicitly to suppress the warning\n",
      "  super()._check_params_vs_input(X, default_n_init=10)\n"
     ]
    }
   ],
   "source": [
    "# Create an empty list to store the inertia values\n",
    "inertia = []\n",
    "\n",
    "# Create a for loop to compute the inertia with each possible value of k\n",
    "# Inside the loop:\n",
    "# 1. Create a KMeans model using the loop counter for the n_clusters\n",
    "# 2. Fit the model to the data using `df_market_data_pca`\n",
    "# 3. Append the model.inertia_ to the inertia list\n",
    "for i in k:\n",
    "    km = KMeans(n_clusters=i, random_state=0)\n",
    "    km.fit(df_crypto_pca)\n",
    "    inertia.append(km.inertia_)"
   ]
  },
  {
   "cell_type": "code",
   "execution_count": 30,
   "metadata": {},
   "outputs": [],
   "source": [
    "# Create a dictionary with the data to plot the Elbow curve\n",
    "elbow_data = {\"k\": k, \"inertia\": inertia}\n",
    "\n",
    "# Create a DataFrame with the data to plot the Elbow curve\n",
    "df_elbow = pd.DataFrame(elbow_data)"
   ]
  },
  {
   "cell_type": "code",
   "execution_count": 31,
   "metadata": {},
   "outputs": [
    {
     "data": {
      "text/html": [
       "<img src='data:image/png;base64,iVBORw0KGgoAAAANSUhEUgAAAhMAAAEGCAYAAADfUBeRAAAAOXRFWHRTb2Z0d2FyZQBNYXRwbG90bGliIHZlcnNpb24zLjcuMiwgaHR0cHM6Ly9tYXRwbG90bGliLm9yZy8pXeV/AAAACXBIWXMAAAsTAAALEwEAmpwYAAAwvklEQVR4nO3deXhU9cH28e+ZJfsOJCQTSMAghrAEiGJdQEC0fesDCi2KVmihYnmrVnHr08XlaZ9Ca1Uo0CraVnz0kdq+SqyKdQNxAWkEXEAxIoFshJCF7Mks5/0jMBKIEJhMTpb7c11zZXJmzsx97FVz+/v9zjmGaZomIiIiImfIZnUAERER6dlUJkRERCQgKhMiIiISEJUJERERCYjKhIiIiAREZUJEREQCojIh0sc88cQTXHTRRf7fDcPgiy++sDCRiPR0KhMivVB6ejrh4eFERUX5HzfddJPVsfxKS0tZsGABycnJREdHc84553DvvfdSX19vdTQROQMqEyK91D//+U/q6ur8j5UrV1odCYDKykq+8Y1v0NjYyObNm6mtreW1116jurqaPXv2nPbneTyeIKQUkdOhMiEivPzyywwdOpT+/ftz55134vP5APD5fPz6178mLS2NxMRE5s6dy+HDhwGYN28eDz74IADFxcUYhsGqVasA2LNnDwkJCf7POdZDDz1EdHQ0Tz31FOnp6QAMGjSI5cuXM3r0aAoKCjAMo01JuOSSS3j88ceB1mmaCy+8kNtuu41+/frxy1/+kri4OD755BP/+8vLywkPD+fgwYMAvPjii2RnZxMXF8cFF1zARx991Mn/BEX6NpUJEeH5558nLy+Pbdu2kZuby1/+8heg9Q/3E088wYYNG/jyyy+pq6vzT5dMmjSJjRs3AvDWW28xdOhQNm3a5P/94osvxmY78V8xr7/+OjNnzmz3tY56//33GTp0KGVlZdxzzz3MnDmTZ555xv/6s88+y6RJk0hMTGT79u3Mnz+fRx99lIqKCm688UamT59Oc3PzGX+/iLSlMiHSS1155ZXExcX5H4899tjXvvfuu+8mISGBwYMHc+utt/r/MD/99NMsXryYoUOHEhUVxZIlS1i7di0ej4dJkybxzjvv4PP52LRpE3fddRfvvvsu0FomJk2a1O53VVRUkJycHNCxpaSkcPPNN+NwOAgPD+faa69l7dq1/tf/93//l2uvvRaA1atXc+ONNzJhwgTsdjvz5s0jNDSULVu2BJRBRL6iMiHSS61bt47q6mr/44Ybbvja9w4aNMj/PC0tjZKSEgBKSkpIS0tr85rH46GsrIyzzjqLyMhIduzYwdtvv80VV1xBSkoKu3fvPmmZ6NevH6WlpQEd27F5ASZPnkxDQwPvv/8+BQUF7Nixg6uuugqAffv28eCDD7YpVoWFhf5jFJHAqUyICIWFhf7n+/fvJyUlBWgdAdi3b1+b1xwOB0lJSUDrVMc//vEPWlpacLlcTJo0iTVr1lBVVUV2dna733XppZfy/PPPt7ueAiAyMhKAhoYG/7YDBw60eY9hGG1+t9vtzJ49m2eeeYZnnnmGK664gujoaKC1ePz85z9vU6waGhqYM2dOR/7RiEgHqEyICA888ABVVVUUFhayfPlyrr76agDmzJnDww8/zN69e6mrq+NnP/sZV199NQ6HA2gtEytXrmTixIlA60LJlStXctFFF2G329v9rsWLF1NTU8O8efP8RaW4uJjFixfz0UcfMWDAAFwuF0899RRer5e//OUvHTrL49prr+Vvf/sbTz/9tH+KA+CGG27gkUce4f3338c0Terr63nppZeora0N6J+ZiHxFZUKkl/qP//iPNteZODrs354ZM2Ywfvx4srOz+fa3v82CBQsAmD9/Ptdffz0TJ05kyJAhhIWFsWLFCv9+kyZNora21l8mLrroIhoaGvy/tychIYH33nsPp9PJhAkTiI6OZurUqcTGxpKRkQHAY489xgMPPEC/fv3YuXMnF1xwwSmPd8KECURGRlJSUsK3vvUt//acnBwee+wxbrrpJuLj48nIyOCJJ5445eeJSMcZpmmaVocQERGRnksjEyIiIhIQlQkREREJiMqEiIiIBERlQkRERALSo8vEN7/5TasjiIiI9Hk9ukwcOnTI6ggiIiJ9Xo8uEyIiImI9lQkREREJiMqEiIiIBERlQkRERAKiMiEiIiIBUZkQERGRgKhMiIiISEBUJkRERCQgKhMiIiISEJUJERERCYjKhIiIiAREZUJEREQCojIhIiIiAenRZaLZa1odQUREpM/r0WWioKaFLw+3WB1DRESkT+vRZcLrg5vfKKai0WN1FBERkT6rR5eJcIdBSb2HWzaU0Oj2WR1HRESkTwpamSgsLGTy5MmMGDGCrKwsli9fDsB9992Hy+UiOzub7OxsXn75Zf8+S5YsISMjg+HDh/Ovf/3rlN8xKNqJK8rBropm/vOdA3h9WkMhIiLS1QzTNIPyF7i0tJTS0lLGjRtHbW0t48ePZ926dTz77LNERUVxxx13tHn/rl27mDNnDlu3bqWkpIRLL72Uzz//HLvd/rXfkZOTwz/eeI95rxRS0+LjmuGx3HXuAAzDCMYhiYiISDuCNjKRnJzMuHHjAIiOjiYzM5Pi4uKvfX9ubi7XXHMNoaGhDBkyhIyMDLZu3XrK70mPDeHhS1Jw2gzW7j7M059Wd9YhiIiISAd0yZqJgoICtm/fzoQJEwBYuXIlo0ePZv78+VRVVQFQXFzMoEGD/Pukpqa2Wz5Wr15NTk4OOTk5lJeXAzAuKZz7L0gC4KEPDvH6vtpgH5KIiIgcEfQyUVdXx6xZs1i2bBkxMTEsWrSIPXv2sGPHDpKTk7n99ttP6/MWLlxIXl4eeXl5DBgwwL/9W0OiuSm7Hybwi3fL+LC8sZOPRERERNoT1DLhdruZNWsW1113HTNnzgQgKSkJu92OzWbjhhtu8E9luFwuCgsL/fsWFRXhcrlO6/vmj4xnZkYMzV6TWzeUUlira1CIiIgEW9DKhGmaLFiwgMzMTBYvXuzfXlpa6n/+/PPPM3LkSACmT5/O2rVraW5uZu/eveTn53Peeeed1ncahsF/TkjkgpQIqpu93PRGCdXN3s45IBEREWmXI1gf/O677/I///M/jBo1iuzsbAB+85vf8Mwzz7Bjxw4MwyA9PZ1HH30UgKysLGbPns2IESNwOBysWrXqpGdyfB2HzeB3E5NZ8K8idlc1c9uGEh6Z5iLU3qMvqSEiItJtBe3U0K6Qk5NDXl5eu68dbPAwd30hZQ0eLkuLYsnFA7HplFEREZFO12v/cz0xwsGKKSlEOm28uq+OFdsrrI4kIiLSK/XaMgEwLD6U308ciMOAJ3ZW8ffPq62OJCIi0uv06jIBcH5KJL84PxGApVvLebuo3uJEIiIivUuvLxMAMzJiuWFUAj4T7n67lE8rmqyOJCIi0mv0iTIBsGhMAt8eGk2jx+SWDSWU1rutjiQiItIr9JkyYRgG956fxLlJ4Rxq9HLzGyXUtugaFCIiIoHqM2UCwGk3ePCSZIbGhrDncAt3vFWK29tjz4wVERHpFvpUmQCIDrGzYkoK/cLsbD3QyH9tKaMHX2pDRETEcn2uTACkRDlZPiWFMLvBi1/W8uhHlVZHEhER6bH6ZJkAyOoXxm8nDsRmwKMfVfLCnhqrI4mIiPRIfbZMAExMjeLuc1tvY/6rzWW8X9pgcSIREZGep0+XCYDZw+OYOyIOjwl3vFXKF1XNVkcSERHpUfp8mQD4ybj+TEuLos7t4+Y3SzjY4LE6koiISI+hMgHYDIP/uiCJMQPCONDg4ScbSmhw+6yOJSIi0iOoTBwR5rDx8CUpDIp28lllM3e/XYrHp1NGRURETkVl4hjxYXZWTkkhLtTGO8UN/Pbf5boGhYiIyCmoTBxncEwID1+SQojN4B+fH2bNriqrI4mIiHRrKhPtyE4M59cXJWEAy7dV8K+CWqsjiYiIdFsqE19jWlo0t47vD8Av3y1j+8FGixOJiIh0TyoTJ3F9ZhxXD4/F7TO5bUMJBYdbrI4kIiLS7ahMnIRhGNyRM4CJrkgOt7Reg6KyUdegEBEROZbKxCk4bAZLLx5IZkIoRXVubt1YSqNH16AQERE5SmWiA8KdNv4wJYXkSAcfH2riF+8cwKtrUIiIiAAqEx3WP9zBiikpRDltvFlYz8PbDlkdSUREpFtQmTgNZ8WF8tAlyThs8PSn1TzzWbXVkURERCwXtDJRWFjI5MmTGTFiBFlZWSxfvhyAyspKpk2bxrBhw5g2bRpVVa0XhTJNk1tuuYWMjAxGjx7Ntm3bghUtIOcOjOC+byQB8MC/y9lQWGdxIhEREWsFrUw4HA4efPBBdu3axZYtW1i1ahW7du1i6dKlTJ06lfz8fKZOncrSpUsBWL9+Pfn5+eTn57N69WoWLVoUrGgB+/bQGBaNScAEfvb2AT451GR1JBEREcsErUwkJyczbtw4AKKjo8nMzKS4uJjc3FzmzZsHwLx581i3bh0Aubm5zJ07F8MwOP/886murqa0tDRY8QJ2w6gEZpwVQ5PX5CcbSiiudVsdSURExBJdsmaioKCA7du3M2HCBMrKykhOTgZg4MCBlJWVAVBcXMygQYP8+6SmplJcXHzCZ61evZqcnBxycnIoLy/vivjtMgyDn5+fyPnJEVQ2ebnpzWION3styyMiImKVoJeJuro6Zs2axbJly4iJiWnzmmEYGIZxWp+3cOFC8vLyyMvLY8CAAZ0Z9bQ5bQYPTBzIsLgQCmrc3P5WKS1eXYNCRET6lqCWCbfbzaxZs7juuuuYOXMmAElJSf7pi9LSUhITEwFwuVwUFhb69y0qKsLlcgUzXqeICrGzYkoKA8LtfFDWyH3vHcSn25aLiEgfErQyYZomCxYsIDMzk8WLF/u3T58+nTVr1gCwZs0aZsyY4d/+5JNPYpomW7ZsITY21j8d0t0lRTpZMcVFhMNgfUEtf9xRYXUkERGRLmOYZnD+M/qdd97h4osvZtSoUdhsrZ3lN7/5DRMmTGD27Nns37+ftLQ0nn32WRISEjBNk5tuuolXXnmFiIgI/vrXv5KTk3PS78jJySEvLy8Y8c/Iu8X1/GRDCV4Tfnl+IjOHxVodSUREJOiCVia6QncrEwDP5R/mV1sOYjdg+eQULnRFWh1JREQkqHQFzE42c1gs80fG4zXhrk2l7K5stjqSiIhIUKlMBMGPs/vxzfQoGjwmt2wooaxe16AQEZHeS2UiCGyGwf0XJDEuMZyDDR5u3lBCXYuuQSEiIr2TykSQhNhtPHRJMukxTvKrWrhz0wHcum25iIj0QioTQRQbamfFFBfxoXa2lDbw31sO0oPXu4qIiLRLZSLIUqOd/GFKCmF2g9w9NTz+cZXVkURERDqVykQXGNk/jN9cPBAD+OOHFbz0ZY3VkURERDqNykQXmTwoijtyWu8lct/mMvIONFicSEREpHOoTHShazPjuO6cODw+WPxWKV8ebrE6koiISMBUJrrYbeP7M2VQJLUtPm56o5hDjR6rI4mIiAREZaKL2W0Gv75oIKP6h1Fa7+GWN0todOu25SIi0nOpTFgg3GFj2SXJpEY5+bSymZ++cwCvrkEhIiI9lMqERRLCHayYkkJsiI1NRfU8kFeua1CIiEiPpDJhofTYEB66JAWnzeBvuw/z1KfVVkcSERE5bSoTFhuXFM6vLkwC4OEPDukaFCIi0uOoTHQDl6dH85Nx/TCBX75bxgt7VChERKTnUJnoJr6flcCPs1sLxX3vlfFc/mGrI4mIiHSIykQ38sNRCdw6rj8m8KstB3l2d7XVkURERE5JZaKbmZcVzx05/QFYsrWc/9WiTBER6eZUJrqh6zLj+el5rffxeCCvnCd36U6jIiLSfalMdFNXD4/jFxMSgdazPP78caXFiURERNqnMtGNzTo7lvu+kYgBrNxRwaMfVVgdSURE5AQqE93cjIxYfnVhEjYDHvmwklU7KnSlTBER6VZUJnqAbw+N4b8vHIjdgMc/ruQP21UoRESk+1CZ6CG+OSSaJRcPxGHAEzurePCDQyoUIiLSLQStTMyfP5/ExERGjhzp33bffffhcrnIzs4mOzubl19+2f/akiVLyMjIYPjw4fzrX/8KVqwebVpaNL+blIzDBk9/Ws1v/62bg4mIiPUMs4N/jV566SV27txJU1OTf9s999zzte/ftGkTUVFRzJ07l08++QRoLRNRUVHccccdbd67a9cu5syZw9atWykpKeHSSy/l888/x263nzRTTk4OeXl5HYnfq7xdVM/tb5Xi9pnMGhbDzyYkYjMMq2OJiEgf1aGRiR/96Ef87W9/Y8WKFZimyd///nf27dt30n0mTpxIQkJCh0Lk5uZyzTXXEBoaypAhQ8jIyGDr1q0d2rcvujg1kmWTkwm1G/y//Br+a/NBvD6NUIiIiDU6VCbee+89nnzySeLj47n33nvZvHkzn3/++Rl94cqVKxk9ejTz58+nqqr1YkzFxcUMGjTI/57U1FSKi4vb3X/16tXk5OSQk5NDeXn5GWXoDS5IiWT55BTC7Aa5e2q4d3OZCoWIiFiiQ2UiPDwcgIiICEpKSnA6nZSWlp72ly1atIg9e/awY8cOkpOTuf3220/7MxYuXEheXh55eXkMGDDgtPfvTSYkR7BiagrhDoOXvqzlF+8ewKNCISIiXaxDZeKKK66gurqaO++8k3HjxpGens6cOXNO+8uSkpKw2+3YbDZuuOEG/1SGy+WisLDQ/76ioiJcLtdpf35flJMUwR+nuoh02niloI7/fPsAbhUKERHpQh0qE7/85S+Ji4tj1qxZ7Nu3j88++4xf/epXp/1lx45mPP/88/4zPaZPn87atWtpbm5m79695Ofnc95555325/dV2Ynh/HFqClFOG6/vr+PuTaW4vSoUIiLSNRwne/HNN99kypQpPPfcc+2+PnPmzK/dd86cOWzcuJFDhw6RmprK/fffz8aNG9mxYweGYZCens6jjz4KQFZWFrNnz2bEiBE4HA5WrVp1yjM5pK3RA8J5ZJqLRa8Xs6GwnjveKuWBSQMJsetSIiIiElwnPTX03nvv5f777+cHP/jBiTsaBn/5y1+CGu5U+uqpoSfzWWUTi14vprrZxwUpETw4KZkwhwqFiIgET4euM7F3716GDBlyym1dTWWifZ9XNfOj14qpavZy3sBwlk1OIVyFQkREgqRDf2FmzZp1wrbvfOc7nR5GOsfZ8aE8dpmLfmF2th5o5OY3S2hw+6yOJSIivdRJ10x89tln7Ny5k8OHD7dZN1FTU9PmSpjS/ZwVF8rjl6Wy8LUiPihr5MdvFLNiSgpRIVqLIiIineukZWL37t28+OKLVFdX889//tO/PTo6msceeyzo4SQw6bEhPH5ZKje+VsyO8ib+7xslrJqaQrQKhYiIdKJTrpnwer389re/5Wc/+1lXZeowrZnomOJaNze8VkRpvYcR/UL501QXMaEqFCIi0jlOuWbCbrezbt26LogiweKKdvL4ZamkRjnZVdHMwteKqW72Wh1LRER6iQ6dzXHbbbfhdru5+uqriYyM9G8fN25cUMOdikYmTk9ZvZuFrxWzv9bNsLgQHrnURUL4SWe6RERETqlDZWLy5Mkn7mgYvPnmm0EJ1VEqE6fvYIOHH71WxN4aN0NjQ3h0mov+KhQiIhKADpWJ7kpl4sxUNHq48bVi9hxuIT3GyaPTUkmMUKEQEZEz06HrTJSVlbFgwQK+9a1vAbBr1y7+/Oc/BzWYBE+/cAerL3MxLD6Egho3P3y1iAP1bqtjiYhID9WhMvH973+fyy+/nJKSEgDOPvtsli1bFsxcEmQJYQ5WT0vlnIRQCmtbC0VJnQqFiIicvg6ViUOHDjF79mxstta3OxwO3YirF4gLtfPopS6y+oVSXOdhwatFFNWqUIiIyOnpUJmIjIykoqICwzAA2LJlC7GxsUENJl0jJtTOny51MXpAGAfqPfzw1SL21bRYHUtERHqQDpWJhx56iOnTp7Nnzx4uvPBC5s6dy4oVK4KdTbpIdIidP051MTYxjLKG1kKx97AKhYiIdEyHz+bweDzs3r0b0zQZPnw4Tqcz2NlOSWdzdK5Gt49bNpSQV9ZIvzA7j05zcVZcqNWxRESkm+twmXjvvfcoKCjA4/H4t82dOzdowTpCZaLzNXp83LahhPcPNLauqZjm4ux4FQoREfl6HSoT119/PXv27CE7O9u/8NIwDP7whz8EPeDJqEwER7PXx+KNpbxX0kBsiI0/Xeois1+Y1bFERKSb6lCZyMzMZNeuXf4FmN2FykTwtHh93LnpAJuK6okOsfGnqS6y+qtQiIjIiTq0AHPkyJEcOHAg2FmkGwmx2/j9xGSmDIqktsXHj14v5sPyRqtjiYhIN9ShaygfOnSIESNGcN555xEa+tX8+QsvvBC0YGI9p91g6cRkfv7OAV7bV8f/fb2YlVNdjE0MtzqaiIh0Ix0qE/fdd1+QY0h35bQZ/OaigTiMMtYX1PLjN4r5w+QUcgZGWB1NRES6Cd3oSzrE6zO5f3MZ//yyljC7wcOTUzg/WYVCREROsWbioosuAiA6OpqYmBj/4+jv0nfYbQb3XZDEVRkxNHlNfvJmCe8W11sdS0REugGNTMhp8ZkmS7eW8/fPD+O0Gfx+0kAmpkZZHUtERCzUobM5RI6yGQb/ed4A5pwTh9tncvtbpby5v87qWCIiYqGglYn58+eTmJjIyJEj/dsqKyuZNm0aw4YNY9q0aVRVVQFgmia33HILGRkZjB49mm3btgUrlnQCwzC4M6c/14+Iw+ODuzeV8tq+WqtjiYiIRYJWJr7//e/zyiuvtNm2dOlSpk6dSn5+PlOnTmXp0qUArF+/nvz8fPLz81m9ejWLFi0KVizpJIZhcNu4/vwgKx6PCf/59gHW71WhEBHpi4JWJiZOnEhCQkKbbbm5ucybNw+AefPmsW7dOv/2uXPnYhgG559/PtXV1ZSWlgYrmnQSwzC4eWw/Fo5OwGvCL949wD/31FgdS0REuliXrpkoKysjOTkZgIEDB1JWVgZAcXExgwYN8r8vNTWV4uLidj9j9erV5OTkkJOTQ3l5efBDy0kZhsGiMf1YNCYBnwn3vlfGui8OWx1LRES6kGULMA3DOKN7fSxcuJC8vDzy8vIYMGBAEJLJmVg4uh+3jO2HCdy/+SD/+FyFQkSkr+jSMpGUlOSfvigtLSUxMREAl8tFYWGh/31FRUW4XK6ujCad4AcjE1g8vj8A//3+QdZ+Vm1tIBER6RJdWiamT5/OmjVrAFizZg0zZszwb3/yyScxTZMtW7YQGxvrnw6RnuX6EfHcdW7riNFv/13O8m2HaHT7LE4lIiLBFLSLVs2ZM4eNGzdy6NAhkpKSuP/++7nyyiuZPXs2+/fvJy0tjWeffZaEhARM0+Smm27ilVdeISIigr/+9a/k5OSc8jt00aru6++fV/Ob91vXtCRGOPjJ2H58a0h0t7uNvYiIBE5XwJSg2XGwkd/9u5xPK5sBGNU/jLvOHcDI/mEWJxMRkc6kMiFB5TNN/rmnhhXbK6ho8gJwxdBobh7bn8SIDt20VkREujldTluCymYYzMiIZd2MNL6fFY/TZvDil7VcmVvAnz+upNmr9RQiIj2dRiakSxXWtrDsg0O8Wdh6x9GUSAe3ju/PpYOjtJ5CRKSHUpkQS2wtbeD3eeXkV7cAMD4pnDtzBjA8IdTiZCIicrpUJsQyHp/J818c5o87Kqhu9mEAV2XE8OPsfiSEaz2FiEhPoTUTYhmHzeC7Z8eROyOd686Jw27Ac1/UMCN3H0/uqsLt7bE9V0SkT9HIhHQbew+38GBeOe+WNAAwONrJ4vH9mZgaqfUUIiLdmMqEdDvvFNfzYF45BTVuAL6RHMHtOf05K07rKUREuiOVCemW3D6Tv++u5pGPKqlt8WE34Ltnx/KjMf2IDbVbHU9ERI6hNRPSLTltBtdmxpM7I53vnh2LCazdfZgZ6wpY+1k1Hl+P7cAiIr2ORiakR8ivaub3eeVsPdAIwNDYEO7M6c/5KZEWJxMREZUJ6TFM02RjYT0PfXCIorrW9RQTUyNZPL4/aTEhFqcTEem7VCakx2nx+nj602oe/7iSBo+JwwZzzonjhlEJRIdoPYWISFfTmgnpcULsNn4wMoHcK9OZcVYMXh/8z65qZqzbx3P5h/FqPYWISJfSyIT0eLsqmnjg3+XsKG8CYHh8KHec25+cpAiLk4mI9A0qE9IrmKbJq/vqWPbBIQ40eAC4dHAUt43vT0qU0+J0IiK9m6Y5pFcwDIPL06N5bkYaPxqTQJjd4PX9dVyVu49V2w/R4NatzkVEgkVlQnqVcIeNG0f34/kZaXwrPZoWn8njn1RxZW4BL35Zg6/nDsSJiHRbmuaQXm3HwUYeyCtnV0UzACP7hXLnuQMYPSDc4mQiIr2HyoT0ej7T5MUva1mx/RCHGr0A/J8h0dwyth9JkVpPISISKE1zSK9nMwymnxVD7ox0FoyMJ8Rm8PLeWq7M3cfqjypo8mg9hYhIIFQmpM+IcNq4aWx/npuextTBUTR5Tf70YSVXvbCPfxXU0oMH6URELKVpDumz8g408EBeOZ9XtQAwNjGMO3MGkNkvzOJkIiI9i8qE9Glen8m6L2pYtaOCqmYvBjD9rBhuGtuP/uEOq+OJiPQImuaQPs1uM5h1diy5V6Zx/Yg47Abk7qnhytx9PLGzkhav1lOIiJyKJSMT6enpREdHY7fbcTgc5OXlUVlZydVXX01BQQHp6ek8++yzxMfHn/RzNDIhnW1fTQsP5R1iU3E9AIOindw2vj+XpEZiGIbF6UREuifLRiY2bNjAjh07/GVg6dKlTJ06lfz8fKZOncrSpUutiiZ9WFpMCMunpLBqagpDYkMorHWzeGMpP3q9mC+qmq2OJyLSLVk2MpGXl0f//v3924YPH87GjRtJTk6mtLSUSy65hN27d5/0czQyIcHk9pn84/PDPPJhBTUtPmwGXDIokmFxoaTHhJAe6yQtOoRwp2YLRaRvs6RMDBkyhPj4eAzD4MYbb2ThwoXExcVRXV0NtN60KT4+3v/7sVavXs3q1asBKC8vZ9++fV2YXPqi6mYvj3xYwT8+P4y3nf+3DIxwkB4bQlqMkyGxIaTFhDAkxklihENTIyLSJ1hSJoqLi3G5XBw8eJBp06axYsUKpk+f3qY8xMfHU1VVddLP0ciEdKX9NS3sKG+i4HALBTUtFNS4Kaxt4euueRXuMEiPaS0Z6bEhraMZMSEMjnES7tBohoj0Hpac++ZyuQBITEzkqquuYuvWrSQlJVFaWuqf5khMTLQimsjXGhwTwuCYkDbbPD6T4jo3BYdb2FfjZm9NC/tqWth72E11s5dPK5v5tPLEtRbJkY4jUyUhpMc4/c8HhNs1miEiPU6Xl4n6+np8Ph/R0dHU19fz6quvcs899zB9+nTWrFnDT3/6U9asWcOMGTO6OprIaXPYDNJiWqc2jlfd7D1SMlpHMY6OaBTVuimt91Ba72FzaUObfSIcrZ835Lhpk8HRTsI0miEi3VSXT3N8+eWXXHXVVQB4PB6uvfZafv7zn1NRUcHs2bPZv38/aWlpPPvssyQkJJz0szTNIT2R22dSXOs+MlXSQsHhI88Pt3C4pf05E4MjoxlHp0tinf5pk/4azRARi+kKmCLdSFWT98g0Sdtpk6Jad7uLPwGinLbWdRlHpkrSYpwMiQlhUIyTULtGM0Qk+HS9YJFuJD7MTnxYONmJ4W22u70mRXXuYxZ/fjV1UtPiY2dFMzsr2q7NsBmQEulsuwD0yIhGvzCNZohI51GZEOkBnHaDIbGtaymOZZomVc3er6ZKalrYd7h1RKO4zk3Rkce7JW3XZkQ5baTHOEmLDSE1yokryklqdOvP/uF2bCoaInIaVCZEejDDMEgIc5AQ5mBcUtvRjBavj8Jad+t0ybELQWtaqG3x8UlFM59UnHimSYjNwBXlwHWkXBwtG0d/j9RFukTkOCoTIr1UiN3GWXGhnBUX2ma7aZpUNnkpqHGzr6aFkiOjF8W1borrPFQ1e9lb42Zvjbvdz40PtZMa7SQlynHCqEZShAO7TaMaIn2NyoRIH2MYBv3CHfQLdzD+uNEMgHq3j+Ij5aKozt36/LiyUdXs5eNDJ362w4DkoyMZUY42RSM1yklMqL0LjlBEuprKhIi0Eem0cXZ8KGfHh57wms80OdTobV2PUev2r8soOfJ7eaOXwlo3hbXtj2pEh9iOFI0j0yfRraMbKVFOUiKdOO0a1RDpiVQmRKTDbIZBYoSDxAgHYxNPHNVo8vgoqfccGcU4dvqk9Xlti4/PKpv5rJ2rgtoMSIz4auqkdVTD4S8e8ToDRaTbUpkQkU4T5rAxNDaEobEnXhH06JknxbUe//RJUa3bv2ajrMHDgfrWR15Z4wn7hzuM40Y1nEdGNVoLh64QKmIdlQkR6RLHnnkyakDYCa+7vSal9UfLhafNVEpxnZuaFh9fVLfwRXVLu5/fP9yOK8pJv3D7ke+xkxBmJz70yM+w1u2xoTad+irSyVQmRKRbcNqNdm+mdlRNs/eYNRoe/xRKUZ2b0jo3hxq9HGr0nvJ7bEbrGSnxYW1LxrHl4+hrCWF2Ip02Ta+InILKhIj0CDGhdmJC7WT2O3FUw+szOdjYOppR1eSl8phH6+8e//aaFh8VTV4qmk5dPKD1uhtHS8exJSMhzHHCtvhQu6ZbpE9SmRCRHs9uM0iOdJIc6Tzle93e1rUbVU1eqpo8bYpHZZPX/1rlkdcaPSYHGjwcaPB0KEuk03bC6EbCMaMg8ceMgsSF2nHouhzSC6hMiEif4rR/dUYKnHj66/Ea3b5jCsZXJePoqEdV87FlxEO920e920dRXfunxx4vLvRo+XC0UzzsxITYiXLaiDzyiHLaCHMYmnqRbkVlQkTkJMKdNsKdNlKiTj3qYZomdW7fMdMrbQtI1XHbq5u9VDf7qG72fe0VR9tjM2hTLiKO/Iw8rnR83fOIY35qZEQ6g8qEiEgnMQyD6BA70SF20mJO/X6vz+Rw81fTK23XerQWkLoWH3VHRjuOPpq8JrUtPmpbfAFnDrMbRIW0Xzy+rqyc8DzERohNoyV9mcqEiIhF7DaDhHAHCeGn969it8+k4UixqDvm5/Hb6o8rIseXkqPFpKmDZ8KcjMPWejfaCEdrufi68hHhaC0n4Q6DMIeNcEfr84hjnoc7WqdydApvz6EyISLSwzhtBrGhdmIDvNeJzzRp8phfWzjqWo7d7j2mhJht3l/n9uLx4Z+yob5zjjPMbrQpGOEOgwin7UgJObrt2DJy8oIS7jAId9oIs2sUpbOpTIiI9FE2wyDC2foHOlAt3nZGQY6WEc9XIyX1HpNGT+soStOR560Pk4YjP5s8R0ZMvCZNXi9VJ159PSAGEHZsQXEcX1DaFpGjBSXCeXy5aTuSEm63EdpHR1RUJkREJGAhdhsJdhsJJ14G5IwcHTVp9Pj8JaPxmJ9NHh8N7rbbvv55223NXvPItsCmdr5OmN1oU06OFpdjR1rCjvvZ9vWv36e7Tv+oTIiISLdz7KhJv07+bK+vddTj6AjJsQWl0V9gTiwlTf7Rk/bKzYkjKtWdPKJyVGtZOVJE7F+NnBw72uIvK/YTS81X20/cJ8xuYD+DM3xUJkREpE+x2wwibQaRThucePPbgPhMk+ajBcP7VeE4tqgc3X7sNE/TMeWkydvOPsfse/RBc+Bn87Rn+/XDTnsflQkREZFOYjMMwp2tCz2DwWcenaY5pmB4TBqPKyBN7RaUE9/TXsE5EyoTIiIiPYTNMPzTFsFgmmdWJnRHGhEREQE441NmVSZEREQkIN2uTLzyyisMHz6cjIwMli5danUcEREROYVuVSa8Xi8//vGPWb9+Pbt27eKZZ55h165dVscSERGRk+hWZWLr1q1kZGQwdOhQQkJCuOaaa8jNzbU6loiIiJxEtyoTxcXFDBo0yP97amoqxcXFbd6zevVqcnJyyMnJoby8vKsjioiIyHG6VZnoiIULF5KXl0deXh4DBgywOo6IiEif163KhMvlorCw0P97UVERLpfLwkQiIiJyKt2qTJx77rnk5+ezd+9eWlpaWLt2LdOnT7c6loiIiJxEt7oCpsPhYOXKlVx++eV4vV7mz59PVlaW1bFERETkJAzzTK+d2Q3k5OSQl5dndQwREZE+rVtNc4iIiEjPozIhIiIiAVGZEBERkYCoTIiIiEhAevQCzKioKM455xyrY3Sa8vLyXnchrt52TDqe7q+3HZOOp3vrbccD0NjYyM6dO09rn251aujpOuecc3rV2Ry98eyU3nZMOp7ur7cdk46ne+ttxwOtx3S6NM0hIiIiAVGZEBERkYD06DKxcOFCqyN0qt52PND7jknH0/31tmPS8XRvve144MyOqUcvwBQRERHr9eiRCREREbGeyoSIiIgEpEeWifnz55OYmMjIkSOtjtIpCgsLmTx5MiNGjCArK4vly5dbHSkgTU1NnHfeeYwZM4asrCzuvfdeqyN1Cq/Xy9ixY7niiiusjtIp0tPTGTVqFNnZ2Wd0Klh3U11dzXe+8x3OOeccMjMz2bx5s9WRztju3bvJzs72P2JiYli2bJnVsQL28MMPk5WVxciRI5kzZw5NTU1WRwrI8uXLGTlyJFlZWT3yf5/2/pZWVlYybdo0hg0bxrRp06iqqurYh5k90FtvvWV+8MEHZlZWltVROkVJSYn5wQcfmKZpmjU1NeawYcPMnTt3WpzqzPl8PrO2ttY0TdNsaWkxzzvvPHPz5s0Wpwrcgw8+aM6ZM8f89re/bXWUTpGWlmaWl5dbHaPTzJ0713zsscdM0zTN5uZms6qqytpAncTj8ZhJSUlmQUGB1VECUlRUZKanp5sNDQ2maZrmd7/7XfOvf/2rtaEC8PHHH5tZWVlmfX296Xa7zalTp5r5+flWxzot7f0tvfPOO80lS5aYpmmaS5YsMe+6664OfVaPHJmYOHEiCQkJVsfoNMnJyYwbNw6A6OhoMjMzKS4utjjVmTMMg6ioKADcbjdutxvDMCxOFZiioiJeeuklfvjDH1odRdpx+PBhNm3axIIFCwAICQkhLi7O2lCd5I033uCss84iLS3N6igB83g8NDY24vF4aGhoICUlxepIZ+zTTz9lwoQJRERE4HA4mDRpEs8995zVsU5Le39Lc3NzmTdvHgDz5s1j3bp1HfqsHlkmerOCggK2b9/OhAkTrI4SEK/XS3Z2NomJiUybNq3HH8+tt97K7373O2y23vN/GcMwuOyyyxg/fjyrV6+2Ok5A9u7dy4ABA/jBD37A2LFj+eEPf0h9fb3VsTrF2rVrmTNnjtUxAuZyubjjjjsYPHgwycnJxMbGctlll1kd64yNHDmSt99+m4qKChoaGnj55ZcpLCy0OlbAysrKSE5OBmDgwIGUlZV1aL/e82/GXqCuro5Zs2axbNkyYmJirI4TELvdzo4dOygqKmLr1q188sknVkc6Yy+++CKJiYmMHz/e6iid6p133mHbtm2sX7+eVatWsWnTJqsjnTGPx8O2bdtYtGgR27dvJzIykqVLl1odK2AtLS288MILfPe737U6SsCqqqrIzc1l7969lJSUUF9fz1NPPWV1rDOWmZnJ3XffzWWXXcY3v/lNsrOzsdvtVsfqVIZhdHhUWWWim3C73cyaNYvrrruOmTNnWh2n08TFxTF58mReeeUVq6OcsXfffZcXXniB9PR0rrnmGt58802+973vWR0rYC6XC4DExESuuuoqtm7danGiM5eamkpqaqp/BOw73/kO27ZtszhV4NavX8+4ceNISkqyOkrAXn/9dYYMGcKAAQNwOp3MnDmT9957z+pYAVmwYAEffPABmzZtIj4+nrPPPtvqSAFLSkqitLQUgNLSUhITEzu0n8pEN2CaJgsWLCAzM5PFixdbHSdg5eXlVFdXA613n3vttdd69N1dlyxZQlFREQUFBaxdu5YpU6b06P+iAqivr6e2ttb//NVXX+3RZ0cNHDiQQYMGsXv3bqB1ncGIESMsThW4Z555pldMcQAMHjyYLVu20NDQgGmavPHGG2RmZlodKyAHDx4EYP/+/Tz33HNce+21FicK3PTp01mzZg0Aa9asYcaMGR3bMQgLRIPummuuMQcOHGg6HA7T5XKZjz/+uNWRAvL222+bgDlq1ChzzJgx5pgxY8yXXnrJ6lhn7MMPPzSzs7PNUaNGmVlZWeb9999vdaROs2HDhl5xNseePXvM0aNHm6NHjzZHjBhh/vrXv7Y6UsC2b99ujh8/3hw1apQ5Y8YMs7Ky0upIAamrqzMTEhLM6upqq6N0mnvuucccPny4mZWVZX7ve98zm5qarI4UkIsuusjMzMw0R48ebb7++utWxzlt7f0tPXTokDllyhQzIyPDnDp1qllRUdGhz9LltEVERCQgmuYQERGRgKhMiIiISEBUJkRERCQgKhMiIiISEJUJERERCYjKhIgETUFBQY++foWIdIzKhIiIiAREZUJEusSXX37J2LFj+fe//211FBHpZA6rA4hI77d7926uueYannjiCcaMGWN1HBHpZCoTIhJU5eXlzJgxg+eee65X3C9DRE6kaQ4RCarY2FgGDx7MO++8Y3UUEQkSjUyISFCFhITw/PPPc/nllxMVFdUr7qwoIm2pTIhI0EVGRvLiiy8ybdo0oqKimD59utWRRKQT6a6hIiIiEhCtmRAREZGAqEyIiIhIQFQmREREJCAqEyIiIhIQlQkREREJiMqEiIiIBERlQkRERALy/wEq/Au7hsJ9oQAAAABJRU5ErkJggg==' style='max-width:100%; margin: auto; display: block; '/>"
      ],
      "text/plain": [
       ":Curve   [k]   (inertia)"
      ]
     },
     "execution_count": 31,
     "metadata": {
      "application/vnd.holoviews_exec.v0+json": {}
     },
     "output_type": "execute_result"
    }
   ],
   "source": [
    "# Plot a line chart with all the inertia values computed with \n",
    "# the different values of k to visually identify the optimal value for k.\n",
    "# Print the plot to screen.\n",
    "df_elbow.hvplot.line(\n",
    "    x=\"k\",\n",
    "    y=\"inertia\",\n",
    "    title=\"Elbow Curve\",\n",
    "    xticks=k\n",
    ")\n"
   ]
  },
  {
   "attachments": {},
   "cell_type": "markdown",
   "metadata": {},
   "source": [
    "#### Answer the following questions: \n",
    "\n",
    "* **Question:** What is the best value for `k` when using the PCA data?\n",
    "\n",
    "  * **Answer:** 4\n",
    "\n",
    "\n",
    "* **Question:** Does it differ from the best k value found using the original data?\n",
    "\n",
    "  * **Answer:** No"
   ]
  },
  {
   "attachments": {},
   "cell_type": "markdown",
   "metadata": {},
   "source": [
    "### Cluster Cryptocurrencies with K-means Using the PCA Data"
   ]
  },
  {
   "cell_type": "code",
   "execution_count": 32,
   "metadata": {},
   "outputs": [],
   "source": [
    "# Initialize the K-Means model using the best value for k\n",
    "model = KMeans(n_clusters=4, random_state=0)"
   ]
  },
  {
   "cell_type": "code",
   "execution_count": 33,
   "metadata": {},
   "outputs": [
    {
     "name": "stderr",
     "output_type": "stream",
     "text": [
      "c:\\Users\\Jared\\Desktop\\Coding\\PersonalizedAIEmailing\\env\\Lib\\site-packages\\sklearn\\cluster\\_kmeans.py:1416: FutureWarning: The default value of `n_init` will change from 10 to 'auto' in 1.4. Set the value of `n_init` explicitly to suppress the warning\n",
      "  super()._check_params_vs_input(X, default_n_init=10)\n"
     ]
    },
    {
     "data": {
      "text/html": [
       "<style>#sk-container-id-2 {color: black;}#sk-container-id-2 pre{padding: 0;}#sk-container-id-2 div.sk-toggleable {background-color: white;}#sk-container-id-2 label.sk-toggleable__label {cursor: pointer;display: block;width: 100%;margin-bottom: 0;padding: 0.3em;box-sizing: border-box;text-align: center;}#sk-container-id-2 label.sk-toggleable__label-arrow:before {content: \"▸\";float: left;margin-right: 0.25em;color: #696969;}#sk-container-id-2 label.sk-toggleable__label-arrow:hover:before {color: black;}#sk-container-id-2 div.sk-estimator:hover label.sk-toggleable__label-arrow:before {color: black;}#sk-container-id-2 div.sk-toggleable__content {max-height: 0;max-width: 0;overflow: hidden;text-align: left;background-color: #f0f8ff;}#sk-container-id-2 div.sk-toggleable__content pre {margin: 0.2em;color: black;border-radius: 0.25em;background-color: #f0f8ff;}#sk-container-id-2 input.sk-toggleable__control:checked~div.sk-toggleable__content {max-height: 200px;max-width: 100%;overflow: auto;}#sk-container-id-2 input.sk-toggleable__control:checked~label.sk-toggleable__label-arrow:before {content: \"▾\";}#sk-container-id-2 div.sk-estimator input.sk-toggleable__control:checked~label.sk-toggleable__label {background-color: #d4ebff;}#sk-container-id-2 div.sk-label input.sk-toggleable__control:checked~label.sk-toggleable__label {background-color: #d4ebff;}#sk-container-id-2 input.sk-hidden--visually {border: 0;clip: rect(1px 1px 1px 1px);clip: rect(1px, 1px, 1px, 1px);height: 1px;margin: -1px;overflow: hidden;padding: 0;position: absolute;width: 1px;}#sk-container-id-2 div.sk-estimator {font-family: monospace;background-color: #f0f8ff;border: 1px dotted black;border-radius: 0.25em;box-sizing: border-box;margin-bottom: 0.5em;}#sk-container-id-2 div.sk-estimator:hover {background-color: #d4ebff;}#sk-container-id-2 div.sk-parallel-item::after {content: \"\";width: 100%;border-bottom: 1px solid gray;flex-grow: 1;}#sk-container-id-2 div.sk-label:hover label.sk-toggleable__label {background-color: #d4ebff;}#sk-container-id-2 div.sk-serial::before {content: \"\";position: absolute;border-left: 1px solid gray;box-sizing: border-box;top: 0;bottom: 0;left: 50%;z-index: 0;}#sk-container-id-2 div.sk-serial {display: flex;flex-direction: column;align-items: center;background-color: white;padding-right: 0.2em;padding-left: 0.2em;position: relative;}#sk-container-id-2 div.sk-item {position: relative;z-index: 1;}#sk-container-id-2 div.sk-parallel {display: flex;align-items: stretch;justify-content: center;background-color: white;position: relative;}#sk-container-id-2 div.sk-item::before, #sk-container-id-2 div.sk-parallel-item::before {content: \"\";position: absolute;border-left: 1px solid gray;box-sizing: border-box;top: 0;bottom: 0;left: 50%;z-index: -1;}#sk-container-id-2 div.sk-parallel-item {display: flex;flex-direction: column;z-index: 1;position: relative;background-color: white;}#sk-container-id-2 div.sk-parallel-item:first-child::after {align-self: flex-end;width: 50%;}#sk-container-id-2 div.sk-parallel-item:last-child::after {align-self: flex-start;width: 50%;}#sk-container-id-2 div.sk-parallel-item:only-child::after {width: 0;}#sk-container-id-2 div.sk-dashed-wrapped {border: 1px dashed gray;margin: 0 0.4em 0.5em 0.4em;box-sizing: border-box;padding-bottom: 0.4em;background-color: white;}#sk-container-id-2 div.sk-label label {font-family: monospace;font-weight: bold;display: inline-block;line-height: 1.2em;}#sk-container-id-2 div.sk-label-container {text-align: center;}#sk-container-id-2 div.sk-container {/* jupyter's `normalize.less` sets `[hidden] { display: none; }` but bootstrap.min.css set `[hidden] { display: none !important; }` so we also need the `!important` here to be able to override the default hidden behavior on the sphinx rendered scikit-learn.org. See: https://github.com/scikit-learn/scikit-learn/issues/21755 */display: inline-block !important;position: relative;}#sk-container-id-2 div.sk-text-repr-fallback {display: none;}</style><div id=\"sk-container-id-2\" class=\"sk-top-container\"><div class=\"sk-text-repr-fallback\"><pre>KMeans(n_clusters=4, random_state=0)</pre><b>In a Jupyter environment, please rerun this cell to show the HTML representation or trust the notebook. <br />On GitHub, the HTML representation is unable to render, please try loading this page with nbviewer.org.</b></div><div class=\"sk-container\" hidden><div class=\"sk-item\"><div class=\"sk-estimator sk-toggleable\"><input class=\"sk-toggleable__control sk-hidden--visually\" id=\"sk-estimator-id-2\" type=\"checkbox\" checked><label for=\"sk-estimator-id-2\" class=\"sk-toggleable__label sk-toggleable__label-arrow\">KMeans</label><div class=\"sk-toggleable__content\"><pre>KMeans(n_clusters=4, random_state=0)</pre></div></div></div></div></div>"
      ],
      "text/plain": [
       "KMeans(n_clusters=4, random_state=0)"
      ]
     },
     "execution_count": 33,
     "metadata": {},
     "output_type": "execute_result"
    }
   ],
   "source": [
    "# Fit the K-Means model using the PCA data\n",
    "model.fit(df_crypto_pca)"
   ]
  },
  {
   "cell_type": "code",
   "execution_count": 34,
   "metadata": {},
   "outputs": [
    {
     "name": "stdout",
     "output_type": "stream",
     "text": [
      "[2 2 0 0 2 2 2 2 2 0 0 0 0 2 0 2 0 0 2 0 0 2 0 0 0 0 0 0 2 0 0 0 1 2 0 0 3\n",
      " 0 0 0 0]\n"
     ]
    }
   ],
   "source": [
    "# Predict the clusters to group the cryptocurrencies using the PCA data\n",
    "predictions = model.predict(df_crypto_pca)\n",
    "# Print the resulting array of cluster values.\n",
    "print(predictions)"
   ]
  },
  {
   "cell_type": "code",
   "execution_count": 38,
   "metadata": {},
   "outputs": [
    {
     "data": {
      "text/html": [
       "<img src='data:image/png;base64,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' style='max-width:100%; margin: auto; display: block; '/>"
      ],
      "text/plain": [
       ":NdOverlay   [class]\n",
       "   :Scatter   [price_change_percentage_24h]   (price_change_percentage_7d,coin_id)"
      ]
     },
     "execution_count": 38,
     "metadata": {
      "application/vnd.holoviews_exec.v0+json": {}
     },
     "output_type": "execute_result"
    }
   ],
   "source": [
    "# Create a copy of the DataFrame with the PCA data\n",
    "df_market_data_pca_clustered = df_market_data.copy()\n",
    "\n",
    "# Add a new column to the DataFrame with the predicted clusters\n",
    "df_market_data_pca_clustered[\"class\"] = model.labels_\n",
    "\n",
    "# Display sample data\n",
    "df_market_data_pca_clustered.head()\n"
   ]
  },
  {
   "cell_type": "code",
   "execution_count": 39,
   "metadata": {},
   "outputs": [
    {
     "data": {
      "text/html": [
       "<img src='data:image/png;base64,iVBORw0KGgoAAAANSUhEUgAAAlAAAAD3CAYAAADSZGo6AAAAOXRFWHRTb2Z0d2FyZQBNYXRwbG90bGliIHZlcnNpb24zLjcuMiwgaHR0cHM6Ly9tYXRwbG90bGliLm9yZy8pXeV/AAAACXBIWXMAAAsTAAALEwEAmpwYAABCWUlEQVR4nO3dd3hUVf4/8PedSTLpnYSQAEkghCSkkEIRpIVewkIARVZpLnxXXF0bYkFRccVdCytFiT8LYkGxgYooVZEihF4EIhBSCOkJmSSTTDm/P7KMxEzITDIl5f16Hp/HOXPL+zIpn5x77jmSEEKAiIiIiIwms3UAIiIioraGBRQRERGRiVhAEREREZmIBRQRERGRiVhAEREREZmozRVQY8eOtXUEIiIi6uDaXAFVVFRk6whERETUwbW5AoqIiIjI1lhAEREREZmIBRQRERGRiexsHYCIiIg6FrVajZycHKhUKltHaZSjoyOCgoJgb29v8H0WUERERGRVOTk5cHNzQ3BwMCRJsnWcBoQQKC4uRk5ODkJCQgxuw1t4REREZFUqlQo+Pj6tsngCAEmS4OPjc8seMhZQREREZHWttXi6oal8LKCIiIiITMQCioiIiNqEZcuW4ZVXXrF1DAAsoIiIiIhMxgKKiIiIWqUPPvgAMTExiI2Nxd13313vvbfffhtJSUmIjY1FamoqqqqqAACbNm1Cnz59EBsbiyFDhgAAzpw5g379+iEuLg4xMTHIyMhocTYWUERERNTqnDlzBsuXL8euXbtw4sQJ/Pe//633/tSpU3H48GGcOHECEREReOeddwAAzz//PH744QecOHECW7ZsAQC89dZbePDBB3H8+HGkp6cjKCioxfk4DxQRUTsitDWo+O3/oTp3FyR7F7iEToNLcIqtYxGZbNeuXZg+fTp8fX0BAN7e3vXeP336NJ5++mmUlZVBqVRizJgxAIBBgwZhzpw5mDFjBqZOnQoAGDhwIF588UXk5ORg6tSpCAsLa3E+9kAREbUjZcdWQJnxIbRVV6Epz0D5sZdQdeU7W8ciMrs5c+Zg9erVOHXqFJ599ln9nE1vvfUWli9fjuzsbCQkJKC4uBh33XUXtmzZAicnJ4wfPx67du1q8flZQBERtRO62gpU52xv0F55+UsbpCFqmREjRmDTpk0oLi4GAJSUlNR7v6KiAgEBAVCr1fjoo4/07RcvXkT//v3x/PPPo1OnTsjOzsalS5cQGhqKBx54AJMnT8bJkydbnI+38IiI2gkh1IDQNmzXtt71xogaExUVhaeeegpDhw6FXC5H3759ERwcrH//hRdeQP/+/dGpUyf0798fFRUVAIDHHnsMGRkZEEIgOTkZsbGxePnll7FhwwbY29ujc+fOePLJJ1ucTxJCiBYfpQnZ2dm45557kJ+fD0mSsGDBAjz44IMoKSnBHXfcgczMTAQHB+Ozzz6Dl5fXLY+VmJiI9PR0S0cmImqTin65H7WFR+q1uUUuhFv4HNsEIjLgt99+Q0REhK1jNOlWOa1yC8/Ozg6vvvoqzp49i4MHD2LNmjU4e/YsVqxYgeTkZGRkZCA5ORkrVqywRhwionbLK+FZKPz6A5AgyRVwCZ0G17C/2joWUbtjlVt4AQEBCAgIAAC4ubkhIiICubm52Lx5M/bs2QMAmD17NoYNG4aXX37ZGpGIiNoluVMn+AxaCZ1aCUlmD0musHUkonbJ6mOgMjMzcezYMfTv3x/5+fn6wqpz587Iz883uE9aWhrS0tIAAIWFhVbLSkTUVsnsXW0dgahds+pTeEqlEqmpqVi5ciXc3d3rvSdJUqMrHy9YsADp6elIT09Hp06drBGViIiIqFFWK6DUajVSU1Mxa9Ys/cRW/v7+yMvLAwDk5eXBz8/PWnGIiIiIms0qBZQQAvPnz0dERAQefvhhfXtKSgrWr18PAFi/fj0mT55sjThERERELWKVAmrfvn3YsGEDdu3ahbi4OMTFxWHr1q1YsmQJtm/fjrCwMOzYsQNLliyxRhwiIiLq4LZt24bw8HD07NmzWbMAWGUQ+eDBg9HYdFM7d+60RgQiIiJqo5S1WqTnV8PH0Q7RnRxbfDytVotFixZh+/btCAoKQlJSElJSUhAZGWn0MTgTOREREbVaP+co8cTea6jS1HXEJPg74Y3hXeBs3/ybaIcOHULPnj0RGhoKALjzzjuxefNmkwooroVHRERErVKtVodn9xfoiycAOJJfjQ1nS1t03NzcXHTt2lX/OigoCLm5uSYdgwUUERERtUoZZbUoq2m4vuOha9U2SFMfCygiIiJqlTo728HOwBSRga4tG4EUGBiI7Oxs/eucnBwEBgaadIwmE3z55Ze3fP/GnE5ERERE5uTjZIcZ4Z74+FyZvs3FXobZUV4tOm5SUhIyMjJw+fJlBAYGYuPGjfj4449NOkaTBdQ333wDACgoKMD+/fsxYsQIAMDu3btx2223sYAiIiIii3k00RcxnRyxN6cS3k5yTO/lga5uDi06pp2dHVavXo0xY8ZAq9Vi3rx5iIqKMu0YTW3w3nvvAQBGjx6Ns2fP6teuy8vLw5w5c0xPTURERGQkSZIwJtgNY4LdzHrc8ePHY/z48c3e3+gxUNnZ2friCahbhiUrK6vZJyYiIiJqq4wehZWcnIwxY8Zg5syZAIBPP/0UI0eOtFgwIiIiotbK6AJq9erV+Oqrr/Dzzz8DABYsWIApU6ZYLBgREZElCZ0GNUVHAZ0aik6JkOQKW0eiNsSk5wCnTJnCoomIiNo8TWUeivc9AG1lDgBApvCGz22vwd4z3MbJqK1ocgyUt7c37r33XuzcubPR9eyIiIjakuunV+mLJwDQ1ZSg7Pi/bZiI2pomC6hOnTohLi4OzzzzDIKCgvDggw/i4MGD1shGRERkEbVFRxu0qUvPQqdR2SANtUVNFlAuLi64//77sW/fPhw4cACBgYG47777EBoaiieffNIaGYmIiMxK7tJw1mmZYyeOg+pA5s2bBz8/P/Tp06dZ+zdZQN18265bt25YvHgxjh49iq1bt0Kh4BcaERG1PW697wUkef22iHshSQbWDSGbE1VKiEN7IC6cMtsx58yZg23btjV7/yYHkQ8fPtxge+/evfHss882+8RERES24th5IHyHvYOqK98AOg2cuo6Gwjfe1rHIAHH4Z+hefQJQVdU1RCVA9vQbkJycW3TcIUOGIDMzs9n7N9kD9dprrxl1oJdeeqnZIYiICBBCi+tn03Dtu3HI2zICZUdfgk5TZetY7ZaDZzg8Yx+FZ98lLJ5aKaGuhW7Vs38UTwBw5gjE5g22C/U/Rs9E3pRNmzaZ61BERB2S8sIGKM+/B11tGYS2GlVXtqDcRk+GaVVFENpam5ybSO9KBnC9rEGzOHXI+ln+xGwFFKc4ICJqmaor3zVoq87ZadUnw2qKTqBg+x3I/34Srn0/EcrfP7HauYka8O0MyBuONpL8Gj4EYG1mK6A48I6IqG3TaapRcvAxaJR165wKdQWun3oDqgLb/7VPHZPk6QNp3Iz6jU4ukKbMtk2gm7AHioiolXDuPqFBm1PQSMjsHK1y/pqCwxDqigbtqpydVjk/kSHS/EchPboC0tAJkCbfDdlrn0Dq1qPFx505cyYGDhyI8+fPIygoCO+8845J+5u0lMutTJ8+3VyHIiLqkFx73Q2hrUXV5a8htCo4dR0N9+gHrHZ+mZ2TwXbJrmVPOxG1hCRJkAaPAQaPMetxP/mkZbenje6BunDhApKTk/UTTp08eRLLly/Xv89JNYmIWkaS5HCPXIDOE7YiIGUXPPsugcyKxYtDpwTYuYXWb5Q5wDk4xWoZiNoKowuov/3tb3jppZdgb28PAIiJicHGjRuN2tfQbJ/Lli1DYGAg4uLiEBcXh61bt5oYnYiIzEmSZPAZ/F84d58EuUsgFH794TPoDdi7h9g6GlGrY/QtvKqqKvTr16/+znbG7T5nzhzcf//9uOeee+q1P/TQQ3j00UeNjUBERBYmd/SFZzzvKBA1xegeKF9fX1y8eFH/tN3nn3+OgIAAo/YdMmQIvL29m5eQiIiIqJUxuoBas2YNFi5ciHPnziEwMBArV67Em2++2aKTr169GjExMZg3bx5KS0sb3S4tLQ2JiYlITExEYWFhi85JRERE1FKSMHH+gcrKSuh0Ori5uZl0oszMTEycOBGnT58GAOTn58PX1xeSJGHp0qXIy8vDu+++2+RxEhMTkZ6ebtK5iYiIqPX47bffEBERYesYTbpVTqPHQBlaE8/DwwMJCQmIi4szOZS/v7/+///2t79h4sSJJh+DiIiIqDmys7Nxzz33ID8/H5IkYcGCBXjwwQeN3t/oAio9PR3p6emYNGkSAODbb79FTEwM3nrrLUyfPh2LFy82KXheXp5+DNVXX31V7wk9IiIyL01VHirOpqG25BTsXLvDLeJeOHi1/h4AIgDQqStRW3QUMoU3HLyjzHJMOzs7vPrqq4iPj0dFRQUSEhIwatQoREZGGre/sSfKycnB0aNH4erqCgB47rnnMGHCBPz8889ISEi4ZQE1c+ZM7NmzB0VFRQgKCsJzzz2HPXv24Pjx45AkCcHBwVi3bp2xUYiIyARCW4vivfdDW3UVAKCtzEVt0TF0Sv4Idi7GPQxEZCuqvF9Qmv4shKYKAODg2xfeA19p8RxpAQEB+o4cNzc3REREIDc31/wFVEFBARQKhf61vb098vPz4eTkVK/dEEOzfc6fP9/YUxMRUQuo8vfri6cbhLYa1Vlb4RbBn8XUegltLcqOvqgvngCgtugYKjM+MevXbmZmJo4dO4b+/fsbvY/RBdSsWbPQv39/TJ48GQDwzTff4K677kJlZaXR1RoREVnfzb98bqbTVFo5CZFp1NcvQldb1qC9pjDdbAWUUqlEamoqVq5cCXd3d6P3M7qAWrp0KcaOHYv9+/cDAN566y0kJiYCAD766CMT4xIRkbU4+g+CJHeE0KrqtTsFjrBRIiLjyJ38AUkOCG39dpcuZjm+Wq1GamoqZs2ahalTp5q0r0mLCSclJaF79+5Qqeq+CbOystCtWzeTTkhERNYlU3jAq/8KlJ/4D7SVuZA5eMItcgEcvPnwDrVuckdvuISmovLiZ/o2yc4ZrmGzWnxsIQTmz5+PiIgIPPzwwybvb3QBtWXLFjzyyCO4evUq/Pz8kJWVhd69e+PMmTMmn5SIiKzL0b8/FKM+g05VDJnCE5LM3taRiIziHv1POHhHQ3VtH2QKL7iETIWda1CLj7tv3z5s2LAB0dHR+umY/vWvf2H8+PFG7W/SLbyDBw9i5MiROHbsGHbv3o0PP/ywWaGJiMj6JEkGuVMnW8dokdrik6i89AV0aiWcAofDqdsE/RJj1D5JkgSnoJFwChpp1uMOHjwYJs4lXo/RBZS9vT18fHyg0+mg0+kwfPhw/POf/2z2iYmIiExRU3AYxfsf0o+HqcnfD/X1y/CI/oeNk1FHZHQB5enpCaVSiSFDhmDWrFnw8/ODi4uLJbMRERHpKTM+ajCYuPLS53DrPQ8ye/4+IusyejHhzZs3w9nZGa+//jrGjh2LHj164Ntvv7VkNiIiIj2tysBi8rpa6NTXrR+GOjyjC6jnn38eMpkMdnZ2mD17Nh544AG8/PLLlsxGRESkp/Af2KDNzi0Eds6cTZ2sz+gCavv27Q3avv/+e7OGISIiaoxb+Fwo/PrpX8udOsMz8VkbJqKOrMkxUG+++SbWrl2LS5cuISYmRt9eUVGBQYMGWTQcERHRDTJ7F/gM+i/U1zMhNErYe0VAkuS2jkUdVJMF1F133YVx48bhiSeewIoVK/Ttbm5u8Pb2tmg4IiKiP7N3D7Z1BGoHVCoVhgwZgpqaGmg0GkybNg3PPfec0fs3WUB5eHjAw8MDn3zyCbRaLfLz86HRaKBUKqFUKjkTOREREVlUdU0Vfs89DTdnTwR37mWWYyoUCuzatQuurq5Qq9UYPHgwxo0bhwEDBhi1v9HTGKxevRrLli2Dv78/ZLK6oVOSJOHkyZPNS05ERETUhNOXDmP9tldRo65bRq5nYBQWpjwNhYNTi44rSRJcXV0B1K2Jp1arTZqU1egCauXKlTh//jx8fHxMT0lERERkIrVGjY92rNIXTwDwe+4Z7Dq6GeMG3Nni42u1WiQkJOD333/HokWL0L9/f6P3NfopvK5du8LDw6NZAYmIiIhMlVd8BZXVDef5upBzyizHl8vlOH78OHJycnDo0CGcPn3a6H2N7oEKDQ3FsGHDMGHCBCgUCn17c1YwJiIiImqKp6svZDI5dLr6M9D7uPuZ9zyenhg+fDi2bduGPn36GLWP0T1Q3bp1w6hRo1BbW4uKigr9f0RERESW4O7iidtjxtVrUzg4ITlhSouPXVhYiLKyMgBAdXU1tm/fjt69exu9v9E9UM8+WzdZWVVVFZydnU1LSURERNQMU4fMR0hAb5y+fBjuzp4YFD0WnTxbPvt8Xl4eZs+eDa1WC51OhxkzZmDixIlG7290AXXgwAHMnz8fSqUSWVlZOHHiBNatW4e1a9c2KzgRETWfEMKkJ4YaP44W6rIMyBQeXBKFWiVJkhDfazDiew0263FjYmJw7NixZu9vdAH1z3/+Ez/88ANSUlIAALGxsfj555+bfWIiIjKNEALK8++h8uIm6NRKOHYZBo/YRyBXeDbreLUlZ1B66Gloq68BkOAYOBxeCc9CkjuYNTdRe2T0GCig7km8m8nlnEKfiMhaqi5/gYrf3oautgwQGqhyd6AsfVmzjiWEDqWHl/6veAIAAVXuLih//8RccYnaNZOmMdi/fz8kSYJarcYrr7yCiIgIo/adN28e/Pz86o1sLykpwahRoxAWFoZRo0ahtLTU9PRERB1IVdbWBm01Bb9Cqyo2+Via65egrcpr0K66tq9Z2YhMJYSwdYRbaiqf0QXUW2+9hTVr1iA3NxeBgYE4fvw41qxZY9S+c+bMwbZt2+q1rVixAsnJycjIyEBycnK9dfaIiMgQQz+ypf/9Z+KRFF4Gjyd35GTJZHmOjo4oLi5utUWUEALFxcVwdHRsdBujx0D5+vrio48+alaQIUOGIDMzs17b5s2bsWfPHgDA7NmzMWzYMLz88svNOj4RUUfg3H0SykvP1GtTdL4NckfTF3aXO/rAqds4VGd990ejZAeXni2f3ZmoKUFBQcjJyUFhYaGtozTK0dERQUFBjb5vdAE1e/Zs/Pe//4WnpycAoLS0FI888gjefffdZgXLz89HQEDdEx+dO3dGfn5+o9umpaUhLS0NAFr1PzYRkSW5hEyG0FSh8uJn0Kkr6gaRRz/Y7ON59l0Ce89eUOX9DJmDF1x7zICDT7QZExMZZm9vj5CQEFvHaBFJGNl/1rdv3waP+xlqa0xmZiYmTpyonybd09NTP4EVAHh5eRk1DioxMRHp6elGnZOIiIjIEoweA6XT6eoVOCUlJdBoNM0+sb+/P/Ly6gYw5uXlwc/PvNOyExEREVmK0bfwHnnkEQwcOBDTp08HAGzatAlPPfVUs0+ckpKC9evXY8mSJVi/fj0mT57c7GMREXUEutrrqC09CzuXINi5Nj42g4gsz6hbeDqdDgcPHoSnpyd27doFABgxYgQiIyONOsnMmTOxZ88eFBUVwd/fH8899xz+8pe/YMaMGcjKykL37t3x2Wefwdu76YGQvIVHRB1R1ZVvUX7iFQhtDQAJzt0nwKPvE5Akk6bzIyIzadEYKFtgAUVEHY1WVYL8bZMBUX/YhFfSC3AKGmmjVEQdm9F/uiQnJ+OLL75otXM2EBG1V7VFRxsUT0DdJJpEZBtGF1Dr1q3D9OnT4eDgAHd3d7i5ucHd3d2S2YiICIDcyb+R9s5WTkJENxg9iLyiosKSOYiIqBEOPtFw6JSE2sLD+jbJ3g1O3cbaMBVRx2Z0D5QQAh9++CFeeOEFAEB2djYOHTpksWBERPQHn4H/hluff0DmVDfli1BXoHD3XKjyfrFxMqKOyegC6r777sOBAwfw8ccfAwBcXV2xaNEiiwUjIqI/SHJHyOxcoKsu0LcJdQVK05dBp6m2YTKijsnoAurXX3/FmjVr9AvreXl5oba21mLBiIiovpqCgw3ahKYStSWnbJCGqGMzegyUvb09tFotJKlu1e/CwkLIZJx/hIjIWuSOvia120L11T2ouvw1hLYGTkGj4BwyRf97g6g9MbqAeuCBBzBlyhTk5+fjqaeewueff47ly5dbMhsREd3EJXQ6qrK2Qmiq9G2OAUNg7x5qw1R/qMrahrIjz+lf1xYfh6YqDx59ONyD2h+jJ9IEgHPnzmHnzp0A6mYij4iIsFiwxnAiTSLqyNQVmaj8fSO01flQ+PWDS0gqJLmDrWMBAPJ33g3t9d//1CpD50k7ILNzskkmIksxugcKAKqqqvS38aqrOWiRiMja7N2C4dl3ia1j4FJ5LTadL0NZjRbDurpiTLAbdKpCA1vqoMrdA+fu46yekciSjB7E9Pzzz2P27NkoKSlBUVER5s6dy1t4REQd0G/FKsz6Lgsbz5djW6YSS/Zew8ojRbBz7Wpwe23VVSsnJLI8o2/hhYeH48SJE/qn8KqrqxEXF4fz589bNOCf8RYeEZFtPf5zHn68oqzX5iCTsPX2a6g58liD7b1vex2O/gOsFa9dy6tU49X0Ihy6VoUAFzssiPFBcjdXW8fqkIzugerSpQtUKpX+dU1NDQIDAy0SioiIzEdTdQ0VFzag4vx6aCpb3ht0Valu0FarEyhzT4JTtwn12p2CRkPh17/F5yRAJwQW7cjFziwlKmp1uFBai8U/5+F4AYfU2ILRY6A8PDwQFRWFUaNGQZIkbN++Hf369cMDDzwAAHjjjTcsFpKIiJqnpugoSvY/DKGtAQBUnHsX3gP+DUf/5hc1/QKccbq4pl6bn7Mdgt0dIE94Gi4hU6AuOwd7jzA4+MS0KD/94ViBCpev1y9edQL4+vfriPPjIH1rM7qAmjJlCqZMmaJ/PWzYMEvkISIiM7p+eq2+eAIA6Gpx/fTqFhVQc6O8cKygGscK6u5KuDnI8Nxt/pDL6uZ7cvCOgoN3VItyU0NaneERNxrjH6YnMzK6gJo9e/Yt309NTcUXX3zR4kBERGQ+6vKMBm2a679DCNHoBJdVah3yKtXo5uYAe3nDbVwd5Hh3TFecLlKhtEaLRD8nONlzYmVLi/d3QoCLHfIqNfXaJ4a42ShRx2bSNAa3cunSJXMdioiIzMTBKxK1xcfrtdl79m60ePrgbCnWnShGlUbASyHHE/07YVR3w7+g+/g6mjsu3YKdTMKqEV3wr18LcbSgGn7OdlgQ7Y0BXVxsHa1DMlsBxan6iYhaH/c+96N4/z8h1HVPzUl2znCPftDgtscLqvH6kSL969IaLZ76JR9xnZzQydlsvy6oBXp4KvDOmCCotcJg7yBZD78jiIjaMQfvKPiP+hzVV3cDQgfHwOGQK7wMbrs7W9mgTa0T+CW3ElPCPCwdlUzA4sn2zFZAmbAiDBERWZFM4QGXkL80uZ27g9xgu6fCcDtRR2bSqL/q6upGJ858+eWXzRKIiIhsI6WHOzwc6v9aCHa3x+AgjrEh+jOjC6hvvvkGcXFxGDt2LADg+PHjSElJ0b8/evRo86cjIuoghBBQ1mpt2pvfydkO743tigmhbojwVuCOcA+8PToI9jLeLiL6M6Nv4S1btgyHDh3Sz/8UFxeHy5cvtzhAcHAw3NzcIJfLYWdnx2VaiKjD2ZtbiVcOFyKrQo2ubvZ4JMEXQ7vaZnmOEA8HLB/U2SbnJmpLjC6g7O3t4eFRfxChuZ682717N3x9fc1yLCKituRapRqP7slD7f8mScyuUOPRn/PwVUowgtzsbZyOiBpj9C28qKgofPzxx9BqtcjIyMA//vEP3HbbbZbMRkTU7u3MUuqLpxs0OmBHVoWNEhGRMYwuoFatWoUzZ85AoVBg5syZcHd3x8qVK1scQJIkjB49GgkJCUhLS2vx8YiI2pLGxhc5yDizN1FrJgkbzz+Qm5uLwMBAFBQUYNSoUVi1ahWGDBlSb5u0tDR9cVVYWIgrV67YIioRtVBuhRq/l9Wgt7cC/i68PQUAZTVaTP46E9drdfo2V3sZNk/uDm8nTtVH1FoZXUBNmjSpwZgnDw8PJCYmYuHChXB0bPmU/suWLYOrqyseffTRRrdJTExs0UBzoa6F+OVHIOcypPBoIHEIJP6lR2Rxr6QX4uPfyiAAyCVgQYw3FsT42DpWq3C+pAZvHCvCuZIahHspcH9fH0T6WGaZlJwKNT45V4arSjX6BThjWpgHJ2UkagajC6gHH3wQhYWFmDlzJgDg008/hbu7OyRJwvXr17FhwwaTT15ZWQmdTgc3NzdUVlZi1KhReOaZZ/RTJRjSkgJK1NZA9/TfgAun9G3SbaMgW/zvZh2PiIxz+FoVFmzPbdD+6cRu6OWlsEGijumqUo27vstC+U29XUODXLByeBcbpiJqm4zuH96/fz8OHz6sfz1p0iQkJSXh8OHDiIqKatbJ8/PzMWXKFACARqPBXXfddcviqaXE3m31iicAEPu3Q/x2HFJEnMXOS9TRHcqrMth++FoVCygr+vR8Wb3iCQB+yqnEhdIafg5EJjK6gFIqlcjKykK3bt0AAFlZWVAq69ZNcnBwaNbJQ0NDceLEiWbt2yxXMgw2iysZLKCILCjA1fB4py4cB2VV1yo1jbSrWUARmcjoAurVV1/F4MGD0aNHDwghcPnyZaxduxaVlZWYPXu2JTOaT1gfg81SI+1EZB7jgt3w4dlSXL6u1rdF+ihwO5cIsaqBXZzx45X6CwY7yiX09XOyUSKitsukp/Bqampw7tw5AEB4eLhZBo6bqkVjoLQa6F58EDi6X98mjZsB2cInzBWPiBpRXqPFpgvlyCitQZSPI1J7ecDFng9wWJNWJ/DM/nxsvVw3x5SznYRnBvpjTLCbjZMRtT0mFVD79+9HZmYmNJo/uoHvueceiwRrTIufwhMCOPErRNZFSL1jIfVi7xMRdSxXrtcir1KDaF/HFhexF0pr8P7pUuQo1Uj0d8LcPl5wc5CbKSlR62V0AXX33Xfj4sWLiIuLg1xe980hSRLeeOMNiwb8s5YWUERE7Um1WoezJTUIcLFDl0bGmlnKleu1uOu7LFRp/vg1EtPJEevHdrVqDiJbMHoMVHp6Os6ePWu29e+IiKhldlypwHMHCqBU6yABSOnhjmcG+kFmpZ/TX2SU1yueAOBkoQrHC6oRx3FV1M4Z3Xfbp08fXLt2zZJZiIjISBW1WjyzPx9Kdd20BALA5ovX8e0l662hV6rSGm6vMdxO1J4Y3QNVVFSEyMhI9OvXDwrFH4+7btmyxSLBiIiocUfzq1GtaTgC48DVSqT0cLdKhqFBLg0KNhd7GZL82ftE7Z/RBdSyZcssGIOIiEzh72L4x7efs3nWz1NpdNidXQmlWouhQa4GjzuyuxvmRNXgo9/KoNYJ+DrJ8exAf7hyEDl1ADZfTNhUHERORFTn/p252Hf1j1ne3Rxk+GR8NwS6tWww+VWlGvN/zNFPvGkvk7Di9s4Y0c3V4PblNVrkV2kQ4uEAexnHyVLHYPQYqIMHDyIpKQmurq5wcHCAXC6Hu7t1uomJiDqKomoNVBpd0xsCeHVYAB5K8MWgLs6Y3ssDG8Z1bXHxBADrThbXm7VcrRN4+XAhNDrDf297KOTo5aVg8UQditF9vffffz82btyI6dOnIz09HR988AEuXLhgyWxERB3G+ZIaPLP/Gi6U1sLZTsJfI73w91ifW+6jkMtwT6QX7on0MmuWU0U1DdoKqjQoqNJYfaoEotbKpBnUevbsCa1WC7lcjrlz52Lbtm2WykVE1GFodAL/3HMVF0prAQBVGoG0kyX4/vJ1m+Tp6dlwfVNPhQy+ThzbRHSD0T1Qzs7OqK2tRVxcHBYvXoyAgADodMZ1MxMRUeNOF6kMLvT7Y6YS40KaHiqh1QmcKlLByU6GcO+WLwq8INobB/OqUFFb9zNeAnB/nC8c5Fx6h+gGowuoDRs2QKfTYfXq1Xj99deRnZ2NL774wpLZiIg6BOdGllNprP1m50tq8NCeq8j7XwEW18kRK4d3gYei+b1FPb0U+DKlO767VAFlrRYjurkiwsf6a58StWZ8Co+IqBWY90M2jhWo9K/lEvD/Rgc1OaP3nd9m4Xxp/TFLM3p54In+fhbJSUR1jO6B2rdvH5YtW4YrV67UW0z40qVLFglGRNSRrBzWBWtPFGP/1Sr4O9thbh+vJoun4mpNg+IJAPbfNLUBEVmG0QXU/Pnz8frrryMhIUG/mDAREZmHu0KOJf1M6zVydZDBxV6GSnX98aiNTbJJROZj9HeZh4cHxo0bZ8ksRERkAoVchrsjPPHWyRJ9m1wC5kaZd1oDImqoyTFQR48eBQB89tln0Gq1mDp1ar218OLj4y2b8E84BoqIqL5tlyvw45UKONvJMK2XR5O3/qi+gioNzhSpEOLhgGCPhlM4EBnSZAE1fPjwxneWJOzatcvsoW6FBRQREd1KdU0VvjvwIU5dOgxXJ3eMiJ+MhPAhBrf94GwpVh0two11mf/S0x3PDPCDJHFWdbq1Jm/h7d692xo5iIiIzGL996/g7JW6uyelFYVYv+01ONg7Ijq0X73tsitqsfJIEW7uRfj69+sYEuSC4V0Nr/tHdIPRs6I9+eSTKCsr078uLS3F008/bYlMRERkZoVVGuRVqm0dw+JKrhfoi6eb7TvZcOWMw9eqYegWzOFr1RZIRu2N0QXU999/D09PT/1rLy8vbN261RKZiIiohU4VqvDp+TLsyqrAnd9ewZgvLmP8l5mY90M2CqrqpqIRQmD/1Uq8c6oEv+RWQte2pgU0SK2pNdheq2k43UNQI+v6BbryKUZqmtFfJVqtFjU1NfoB5NXV1aipafgFaapt27bhwQcfhFarxb333oslS5a0+JhERB3Zsv352HzR8Dp6xwpUePFgAVYOD8CjP+VhV3al/r2hQS54bVgAZG14/I+/dxACO4Ugt/ByvXZDY6CSOjsh0d8J6fl/9DgFudojpUfTy+cQGV1AzZo1C8nJyZg7dy4A4L333sPs2bNbdHKtVotFixZh+/btCAoKQlJSElJSUhAZGdmi4xIRdVRH8qsbLZ5u+OVqJX7OraxXPAHATzmV2JdbhduDXCwZ0eLmT3gcH21fhYu5Z6Cwd8SQ2Am4rc/oBttJkoRVI7rg69+v40RhNUI8HDC9lyfcHDjXITXN6ALq8ccfR2xsLHbs2AEAWLp0KcaMGdOikx86dAg9e/ZEaGgoAODOO+/E5s2bWUARETXTqaKmx+8428lwocTwHYTfSlRtvoDy9eiMB6e9iOqaStjJHWBvZ/hWHQA42slwZ29P3Nnb03oBqV0w6Ubv2LFjMXbsWIPvDRw4EAcOHDDp5Lm5uejatav+dVBQEH799dcG26WlpSEtLQ0AUFhYaNI5iIg6ghKVBmeLa+BhRO/JzN6ejS4O3NtbYbC9LXJStO1CkFo3s42UU6lUTW/UTAsWLMCCBQsA1M0DRUREf9h4rgyvHSmCWicgAXCxk1CpMTwgfFqYB/4e6w2BujFPP+X8cRvv9kBnDA5k0UFkDLMVUM2ZdCwwMBDZ2dn61zk5OQgMDDRXJCKiNuuqUo33z5TiQmkNIn0cMTfKC52cG/7IvqpU4z/phdD9r14SACo1As52EqpuKqJ6eTngpdsDEPq/mbYlAK8NC8C+3Cr8VqJCb28FBge6tOkB5ETWZNNnNZOSkpCRkYHLly8jMDAQGzduxMcff2zLSERENldRq8WcbdkorNYCAE4UqvBLbiU2TeoGhbz+7DOHrlXpi6ebje7uiq7uDriqVKN/gDNGdnNt8IeuTJJwe5BLmx/zRGQLZiugmlgRxvDJ7eywevVqjBkzBlqtFvPmzUNUVJS5IhERtRpancDPOZX6HqVBgc6N9vZ8f7lCXzzdkF2hxq4sJcaF1H/EPsDF8ADpEE8F7onkosJElmJSAXXlyhVkZGRg5MiRqK6uhkajgZubGwBgw4YNzQowfvx4jB8/vln7EhG1BVqdwD92XcWBvCp924iuLnhlaIDB4Q8lKm2Dtsba+3V2Ql8/Rxwr+GMcamcXO0zu4Y4SlQabLpQjs7wWsZ2cMCXMHQq5DGqdwLunSvB9ZgUcZBJSe3ngjnDPll8oUQdidAH19ttvIy0tDSUlJbh48SJycnLwf//3f9i5cycAoE+fPhYLSUTUlu3JqaxXPAHAruxK/HqtGgMCnBtsf3uQC9adLKnXJpNgcIC3JElYkxyIzy+U43hhNULdHXBHb09IAO75Phu5yrpZx7dlKrE7W4l1o4LwWnohNp4v1x9jxaFCaHXAXRGeLb9Yog7C6KVc1qxZg3379sHdva77OCwsDAUFBRYLRkTUXpxrZM6lxuZiivJxxCMJvnCyq+udcrWX4an+fuju7mBweyc7Ge6O9MKrQ7tgUV9f+DrZYcvF6/ri6YZD16px8Golvv694USbmy6UmXBFplNpdFAbGqxF1EYZ3QOlUCjg4PDHN69Go2nWk3dERB1NZCNzK0X4ND7n0l8jvfCXnu7IUarR3c0BTvZG/70LAMhRGl44OEepRq2BQkbVyLQHLVWi0mD5wQL8lFNZd7swzAP/TPCFnYy/P6htM/o7cujQofjXv/6F6upqbN++HdOnT8ekSZMsmY2IqF0YEuSC2wPr36ob3d0VSZ0b3r67mauDHL29HU0ungAYPLZMAgYEuGCogafuxgS7mXwOYzy7Px+7syuhE4BKK/DRuTK8d7rUIucisiZJGPn4nE6nwzvvvIMff/wRQgiMGTMG9957r9V7oRITE5Genm7VcxIRtZROCOy/WoULpTWI8nFEv85OFv35KYTAcwcK9Ovi2UnAA/G+uDvSC6UqLZYdyMcvuZWQSxLGh7jhif6dGkyR0FLXa7QY9tkl/PmXTIiHA75M6W7WcxFZm9EFVGVlJRwdHSGX1y0ToNVqUVNTA2fnW/8FZW4soIiIjHe5vBaZ5bXo4+vYYCLOilot7CSpWT1cxqhU6zDs04v4893BcC8FNk7sZpFzElmL0d81ycnJqK7+Y5HK6upqjBw50iKhiIjIPEI8HDC8m6vBWczdHOQWK54AwMVehjEhDW8NTg1zN7A1Udti9CBylUoFV1dX/WtXV1dUVVXdYg8iIuronu7vBy+FHD9eUcLZTsKMcE/M4JxT1A4YXUC5uLjg6NGjiI+PBwAcOXIETk5OFgtGRERtn6OdDI8kdsIjiZ1sHYXIrIwuoFauXInp06ejS5cuEELg2rVr+PTTTy2ZjYiIiKhVMrqASkpKwrlz53D+/HkAQHh4OOztDa/BRERERNSeNVlA7dq1CyNGjMCXX35Zr/3ChQsAgKlTp1omGREREVEr1WQB9dNPP2HEiBH45ptvGrwnSRILKCIiIupwjJoHSqfT4fPPP8eMGTOskemWOA8UERER2ZpRE4DIZDL8+9//tnQWIiIiojbB6BnURo4ciVdeeQXZ2dkoKSnR/0dERETU0Ri9lEtISIjBdZsuXbpk9lC3wlt4REREZGtGT2Nw9uxZrF27Fr/88gskScLtt9+O//u//7NkNiIiIqJWyegeqBkzZsDd3R2zZs0CAHz88ccoLy/HZ599ZtGAf8YeKCIiIrI1o3ugTp8+jbNnz+pfDx8+HJGRkRYJRURkbsXVGnx7qQJlNVoMDXJBnB+XoiKi5jN6EHl8fDwOHjyof/3rr78iMTHRIqGIiMzpyvVaTPsmCyuPFuH9M6WY+0MOPjhbautYRNSGGd0DdeTIEdx2223o1q0bACArKwvh4eGIjo6GJEk4efKkxUISEbXEu6dLUFajrde27kQxUsM84GJv9N+RRER6RhdQ27ZtM+uJly1bhrfffhudOtWt0P2vf/0L48ePN+s5iIgA4GJZbYO2Ko1AnlKNnl4KGyQiorbO6AKqe/fuZj/5Qw89hEcffdTsxyUiulm0ryPOFNfUa/NUyNDNnQuiE1HzsO+aiNq9+dHe6H5TsWQnAY8n+cFBzh+BRNQ8Rk9jYG7Lli3D+++/D3d3dyQmJuLVV1+Fl5eXwW3T0tKQlpYGACgsLMSVK1esGZWI2gG1VuDn3EqUqbQYHOgMfxf2PhFR81m0gBo5ciSuXbvWoP3FF1/EgAED4OvrC0mSsHTpUuTl5eHdd99t8picB4qIyLouldfih8wK2EkSxoe4IdCNxSeRzXqgbpaZmYmJEyfi9OnTTW7LAoqIyHp2ZSnx+M950PzvN4WjXMLq5EAk+HMeLerYbDYAIC8vT///X331Ffr06WOrKERE1IiVR4v0xRMAqLQCa44X2S4QUSth9FN45rZ48WIcP34ckiQhODgY69ats1UUImoGtU7gnVMl2Hq5Ag4yCam9PDCzt6etY5EZ1Wp1yK5QN2j/3cC0EEQdjc0KqA0bNtjq1ERkBq+lF2Lj+XL9638fLoROCMyKMPwwCLU9DnIZenk54EJp/YIp2tfRRomIWg8+w0tEJlPrBL7+/XqD9k0Xyg1sTW3Z40l+cLaT9K89FXL8M97XhomIWgeb9UARUdulEwJqXcPnT1Qamz+TQmYW7++E76aGYHeWEnYyCSO6uXL5GyKwgCKiZlDIZRja1QW7sirrtY8JdrVRIrIkT4UcU8I8bB2DqFXhnxFE1CxLB/hjWJALZBJgL5MwuYc77ovzsXUsIiKrYA8UETWLp0KO14d3QaVaB5kEONnx7zEi6jhYQBFRi3A8DBF1RPzJR0RERGQiFlBEREREJmIBRURERGQiFlBEREREJmIBRURERGQiFlBEREREJmIBRURERGQiFlBEREREJmIBRURERGQiFlBEREREJmIBRURERGQiFlBEREREJpKEEMLWIUzh6+uL4OBgW8cwSmFhITp16mTrGFbBa22feK3tU0e51o5ynUDLrtXX1xfbtm0zc6L2r80VUG1JYmIi0tPTbR3DKnit7ROvtX3qKNfaUa4T6FjX2lrwFh4RERGRiVhAEREREZmIBZQFLViwwNYRrIbX2j7xWtunjnKtHeU6gY51ra0Fx0ARERERmYg9UEREREQmYgFFREREZCIWUC2wadMmREVFQSaT1Xt8dPv27UhISEB0dDQSEhKwa9cug/svW7YMgYGBiIuLQ1xcHLZu3Wqt6CZr7FoB4KWXXkLPnj0RHh6OH374weD+ly9fRv/+/dGzZ0/ccccdqK2ttUZss7jjjjv0n1FwcDDi4uIMbhccHIzo6GjExcUhMTHRuiHNxNivyW3btiE8PBw9e/bEihUrrJyy5R577DH07t0bMTExmDJlCsrKygxu15Y/06Y+o5qaGtxxxx3o2bMn+vfvj8zMTOuHNIPs7GwMHz4ckZGRiIqKwn//+98G2+zZswceHh76r+vnn3/eBknNo6mvSSEEHnjgAfTs2RMxMTE4evSoDVJ2EIKa7ezZs+LcuXNi6NCh4vDhw/r2o0ePitzcXCGEEKdOnRJdunQxuP+zzz4r/vOf/1gla0s1dq1nzpwRMTExQqVSiUuXLonQ0FCh0Wga7D99+nTxySefCCGEWLhwoVi7dq3VspvTww8/LJ577jmD73Xv3l0UFhZaOZF5GfM1qdFoRGhoqLh48aKoqakRMTEx4syZM1ZKaB4//PCDUKvVQgghFi9eLBYvXmxwu7b6mRrzGa1Zs0YsXLhQCCHEJ598ImbMmGGLqC129epVceTIESGEENevXxdhYWENrnX37t1iwoQJtohndk19TX733Xdi7NixQqfTiQMHDoh+/fpZMV3Hwh6oFoiIiEB4eHiD9r59+6JLly4AgKioKFRXV6Ompsba8cyqsWvdvHkz7rzzTigUCoSEhKBnz544dOhQvW2EENi1axemTZsGAJg9eza+/vpra8Q2KyEEPvvsM8ycOdPWUWzq0KFD6NmzJ0JDQ+Hg4IA777wTmzdvtnUsk4wePRp2dnYAgAEDBiAnJ8fGiczLmM9o8+bNmD17NgBg2rRp2LlzJ0QbfKYoICAA8fHxAAA3NzdEREQgNzfXxqlsZ/PmzbjnnnsgSRIGDBiAsrIy5OXl2TpWu8QCysK++OILxMfHQ6FQGHx/9erViImJwbx581BaWmrldC2Xm5uLrl276l8HBQU1+OFVXFwMT09P/S8sQ9u0BXv37oW/vz/CwsIMvi9JEkaPHo2EhASkpaVZOZ35NPU1acxn3pa8++67GDdunMH32upnasxndPM2dnZ28PDwQHFxsVVzmltmZiaOHTuG/v37N3jvwIEDiI2Nxbhx43DmzBkbpDOPpr4m29v3Z2tmZ+sArd3IkSNx7dq1Bu0vvvgiJk+efMt9z5w5g8cffxw//vijwff//ve/Y+nSpZAkCUuXLsUjjzyCd9991yy5m6Ml19rWGXPtn3zyyS17n3755RcEBgaioKAAo0aNQu/evTFkyBCLZW6uW11ra/uabAljPtMXX3wRdnZ2mDVrlsFjtJXPlAClUonU1FSsXLkS7u7u9d6Lj4/HlStX4Orqiq1bt+Ivf/kLMjIybJS0Zfg12XqwgGrCjh07mrVfTk4OpkyZgg8++AA9evQwuI2/v7/+///2t79h4sSJzTqXuTTnWgMDA5Gdna1/nZOTg8DAwHrb+Pj4oKysDBqNBnZ2dga3sbWmrl2j0eDLL7/EkSNHGt3mxjX5+flhypQpOHToUKv8wWbs59zY16Qxn3lr0NR1vv/++/j222+xc+dOSJJkcJu28pn+mTGf0Y1tgoKCoNFoUF5eDh8fH2tHNQu1Wo3U1FTMmjULU6dObfD+zQXV+PHjcd9996GoqAi+vr7WjGkWTX1NtpXvz/aAt/AsoKysDBMmTMCKFSswaNCgRre7+b70V199hT59+lgjnlmlpKRg48aNqKmpweXLl5GRkYF+/frV20aSJAwfPhyff/45AGD9+vVtrkdrx44d6N27N4KCggy+X1lZiYqKCv3///jjj23y8zTmazIpKQkZGRm4fPkyamtrsXHjRqSkpFgzZott27YN//73v7FlyxY4Ozsb3KYtf6bGfEYpKSlYv349AODzzz/HiBEjGi0kWzMhBObPn4+IiAg8/PDDBre5du2afnzXoUOHoNPp2mSxaMzXZEpKCj744AMIIXDw4EF4eHggICDAFnHbP1uOYG/rvvzySxEYGCgcHByEn5+fGD16tBBCiBdeeEE4OzuL2NhY/X/5+flCCCHmz5+vf4rtr3/9q+jTp4+Ijo4WkyZNElevXrXZtTSlsWsVQojly5eL0NBQ0atXL7F161Z9+7hx4/RPI168eFEkJSWJHj16iGnTpgmVSmX1a2iJ2bNnizfffLNeW25urhg3bpwQou76YmJiRExMjIiMjBTLly+3RcwWa+xr8uZrFaLuSZ+wsDARGhraJq+1R48eIigoSP/9eeNptPb0mRr6jJYuXSo2b94shBCiurpaTJs2TfTo0UMkJSWJixcv2jJus+3du1cAENHR0frP87vvvhNvvvmm/nt21apVIjIyUsTExIj+/fuLffv22Th18zT2NXnztep0OnHfffeJ0NBQ0adPn3pPTZN5cSkXIiIiIhPxFh4RERGRiVhAEREREZmIBRQRERGRiVhAEREREZmIBRQRERGRiVhAEREREZmIBRSRBTzzzDPNnsXeWMOGDUN6erpFz9EWlZWVYe3atVY732uvvYbIyEjExMQgOTkZV65cqff+9evXERQUhPvvv1/f5urqarV8RGQZLKCIzEyr1eL555/HyJEjbR2lTdFqtWY5jrULqL59+yI9PR0nT57EtGnTsHjx4nrvL126tE0s/0JEpmEBRWSCzMxM9O7dG7NmzUJERASmTZuGqqoqBAcH4/HHH0d8fDw2bdqEOXPm6JeuOXz4MG677TbExsaiX79+qKiogFarxWOPPYakpCTExMRg3bp1tzzvyy+/jOjoaMTGxmLJkiX69k2bNqFfv37o1asX9u7dq894++23Iz4+HvHx8di/fz8AYM+ePRg2bBimTZumv4Yb8+hu3boVvXv3RkJCAh544AH9GniVlZWYN28e+vXrh759+2Lz5s2NZnz//fcxefJkDBs2DGFhYXjuuef073344Yfo168f4uLisHDhQn2x5OrqikceeQSxsbE4cOAAPvjgA8TExCA2NhZ33303AKCwsBCpqalISkpCUlIS9u3bBwBYtmwZ5s2bh2HDhiE0NBRvvPEGAGDJkiW4ePEi4uLi8Nhjj0GpVCI5ORnx8fGIjo6udw0vvPACwsPDMXjwYMycOROvvPIKAODixYsYO3YsEhIScPvtt+PcuXONXvfw4cP1y8EMGDAAOTk5+veOHDmC/Px8jB49usF+Tz31FGJjYzFgwADk5+c3enwiaqVsPBM6UZty+fJlAUD88ssvQggh5s6dK/7zn/+I7t27i5dfflm/3ezZs8WmTZtETU2NCAkJEYcOHRJCCFFeXi7UarVYt26deOGFF4QQQqhUKpGQkCAuXbpk8Jxbt24VAwcOFJWVlUIIIYqLi4UQQgwdOlQ8/PDDQoi6ZTuSk5OFEEJUVlaK6upqIYQQFy5cEAkJCUIIIXbv3i3c3d1Fdna20Gq1YsCAAWLv3r2iurpaBAUF6c9/5513igkTJgghhHjiiSfEhg0bhBBClJaWirCwMKFUKg3mfO+990Tnzp1FUVGRqKqqElFRUeLw4cPi7NmzYuLEiaK2tlYIIcTf//53sX79eiGEEADEp59+KoQQ4vTp0yIsLEwUFhbWu86ZM2eKvXv3CiGEuHLliujdu7cQQohnn31WDBw4UKhUKlFYWCi8vb1FbW2tuHz5soiKitLnUqvVory8XAghRGFhoejRo4fQ6XTi0KFDIjY2VlRXV4vr16+Lnj17iv/85z9CCCFGjBghLly4IIQQ4uDBg2L48OEGr/nPFi1apP9ctVqtGDp0qMjOzhbvvfeeWLRokX47AGLLli1CCCEee+wx/T5E1HbY2bh+I2pzunbtql8k+q9//au+5+OOO+5osO358+cREBCApKQkAH+sCv/jjz/i5MmT+l6q8vJyZGRkICQkpMExduzYgblz5+p7Oby9vfXv3Vh5PiEhAZmZmQDqVqa///77cfz4ccjlcly4cEG/fb9+/fQLIsfFxSEzMxOurq4IDQ3Vn3vmzJlIS0vT59yyZYu+Z0alUiErKwsREREG/21GjRqlX6R16tSp+OWXX2BnZ4cjR47o/w2qq6vh5+cHAJDL5UhNTQUA7Nq1C9OnT4evr2+969yxYwfOnj2rP8f169ehVCoBABMmTIBCoYBCoYCfn5/BnhwhBJ588kn8/PPPkMlkyM3NRX5+Pvbt24fJkyfD0dERjo6OmDRpEgBAqVRi//79mD59uv4YNTU1Bq/3Zh9++CHS09Px008/AQDWrl2L8ePHG1yA2sHBQd/Ll5CQgO3btzd5fCJqXVhAEZnozyvW33jt4uJi9DGEEFi1ahXGjBnToiwKhQJAXSGi0WgAAK+//jr8/f1x4sQJ6HQ6ODo6Ntj+z/vcKucXX3yB8PBwo/IY+rcRQmD27Nl46aWXGmzv6OgIuVx+y2PqdDocPHiw3nXcYMz1fPTRRygsLMSRI0dgb2+P4OBgqFSqW57P09MTx48fv2Wum+3YsQMvvvgifvrpJ32mAwcOYO/evVi7di2USiVqa2vh6uqKFStWwN7eXv9vZcznQEStD8dAEZkoKysLBw4cAAB8/PHHGDx4cKPbhoeHIy8vD4cPHwYAVFRUQKPRYMyYMXjzzTehVqsBABcuXEBlZaXBY4waNQrvvfceqqqqAAAlJSW3zFdeXo6AgADIZDJs2LChycHZ4eHhuHTpkr4H69NPP9W/N2bMGKxatUo/VurYsWO3PNb27dtRUlKC6upqfP311xg0aBCSk5Px+eefo6CgQJ//z0+qAcCIESOwadMmFBcX17vO0aNHY9WqVfrtmips3NzcUFFRoX9dXl4OPz8/2NvbY/fu3fpzDxo0CN988w1UKhWUSiW+/fZbAHW9hCEhIdi0aROAuiLyxIkTjZ7v2LFjWLhwIbZs2aLvWQPqCresrCxkZmbilVdewT333IMVK1bcMjsRtR0soIhMFB4ejjVr1iAiIgKlpaX4+9//3ui2Dg4O+PTTT/GPf/wDsbGxGDVqFFQqFe69915ERkYiPj4effr0wcKFCxvthRg7dixSUlKQmJiIuLg4/e20xtx3331Yv349YmNjce7cuSZ7xpycnLB27Vr9oGk3Nzd4eHgAqHuCTK1WIyYmBlFRUVi6dOktj9WvXz+kpqYiJiYGqampSExMRGRkJJYvX47Ro0cjJiYGo0aNQl5eXoN9o6Ki8NRTT2Ho0KGIjY3Fww8/DAB44403kJ6ejpiYGERGRuKtt966ZQYfHx8MGjQIffr0wWOPPYZZs2YhPT0d0dHR+OCDD9C7d28AQFJSElJSUhATE4Nx48YhOjpaf90fffQR3nnnHcTGxiIqKuqWg+dvDFSfPn064uLikJKScst8RNQ+SOLGn5ZE1KTMzExMnDgRp0+ftnUUs1IqlXB1dYUQAosWLUJYWBgeeughk47x/vvvIz09HatXr7ZQSvO7cd1VVVUYMmQI0tLSEB8fb+tYRNQGsAeKiPD2228jLi4OUVFRKC8vx8KFC20dySoWLFiAuLg4xMfHIzU1lcUTERmNPVBErcSpU6f0cx/doFAo8Ouvv9ookWE//PADHn/88XptISEh+Oqrr2yUyDpefPFF/bioG6ZPn46nnnrKRomIyJZYQBERERGZiLfwiIiIiEzEAoqIiIjIRCygiIiIiEzEAoqIiIjIRP8fuX75JaFUPwEAAAAASUVORK5CYII=' style='max-width:100%; margin: auto; display: block; '/>"
      ],
      "text/plain": [
       ":NdOverlay   [class]\n",
       "   :Scatter   [price_change_percentage_24h]   (price_change_percentage_7d,coin_id)"
      ]
     },
     "execution_count": 39,
     "metadata": {
      "application/vnd.holoviews_exec.v0+json": {}
     },
     "output_type": "execute_result"
    }
   ],
   "source": [
    "# Create a scatter plot using hvPlot by setting \n",
    "# `x=\"PC 1\"` and `y=\"PC 2\"`. \n",
    "# Color the graph points with the labels found using K-Means and \n",
    "# add the crypto name in the `hover_cols` parameter to identify \n",
    "# the cryptocurrency represented by each data point.\n",
    "\n",
    "df_market_data_pca_clustered.hvplot.scatter(\n",
    "    x=\"price_change_percentage_24h\",\n",
    "    y=\"price_change_percentage_7d\",\n",
    "    by=\"class\",\n",
    "    hover_cols=\"coin_id\"\n",
    ")\n",
    "\n"
   ]
  },
  {
   "attachments": {},
   "cell_type": "markdown",
   "metadata": {},
   "source": [
    "### Visualize and Compare the Results\n",
    "\n",
    "In this section, you will visually analyze the cluster analysis results by contrasting the outcome with and without using the optimization techniques."
   ]
  },
  {
   "cell_type": "code",
   "execution_count": 40,
   "metadata": {},
   "outputs": [
    {
     "name": "stderr",
     "output_type": "stream",
     "text": [
      "c:\\Users\\Jared\\Desktop\\Coding\\PersonalizedAIEmailing\\env\\Lib\\site-packages\\sklearn\\cluster\\_kmeans.py:1416: FutureWarning: The default value of `n_init` will change from 10 to 'auto' in 1.4. Set the value of `n_init` explicitly to suppress the warning\n",
      "  super()._check_params_vs_input(X, default_n_init=10)\n",
      "c:\\Users\\Jared\\Desktop\\Coding\\PersonalizedAIEmailing\\env\\Lib\\site-packages\\sklearn\\cluster\\_kmeans.py:1416: FutureWarning: The default value of `n_init` will change from 10 to 'auto' in 1.4. Set the value of `n_init` explicitly to suppress the warning\n",
      "  super()._check_params_vs_input(X, default_n_init=10)\n",
      "c:\\Users\\Jared\\Desktop\\Coding\\PersonalizedAIEmailing\\env\\Lib\\site-packages\\sklearn\\cluster\\_kmeans.py:1416: FutureWarning: The default value of `n_init` will change from 10 to 'auto' in 1.4. Set the value of `n_init` explicitly to suppress the warning\n",
      "  super()._check_params_vs_input(X, default_n_init=10)\n",
      "c:\\Users\\Jared\\Desktop\\Coding\\PersonalizedAIEmailing\\env\\Lib\\site-packages\\sklearn\\cluster\\_kmeans.py:1416: FutureWarning: The default value of `n_init` will change from 10 to 'auto' in 1.4. Set the value of `n_init` explicitly to suppress the warning\n",
      "  super()._check_params_vs_input(X, default_n_init=10)\n",
      "c:\\Users\\Jared\\Desktop\\Coding\\PersonalizedAIEmailing\\env\\Lib\\site-packages\\sklearn\\cluster\\_kmeans.py:1416: FutureWarning: The default value of `n_init` will change from 10 to 'auto' in 1.4. Set the value of `n_init` explicitly to suppress the warning\n",
      "  super()._check_params_vs_input(X, default_n_init=10)\n",
      "c:\\Users\\Jared\\Desktop\\Coding\\PersonalizedAIEmailing\\env\\Lib\\site-packages\\sklearn\\cluster\\_kmeans.py:1416: FutureWarning: The default value of `n_init` will change from 10 to 'auto' in 1.4. Set the value of `n_init` explicitly to suppress the warning\n",
      "  super()._check_params_vs_input(X, default_n_init=10)\n",
      "c:\\Users\\Jared\\Desktop\\Coding\\PersonalizedAIEmailing\\env\\Lib\\site-packages\\sklearn\\cluster\\_kmeans.py:1416: FutureWarning: The default value of `n_init` will change from 10 to 'auto' in 1.4. Set the value of `n_init` explicitly to suppress the warning\n",
      "  super()._check_params_vs_input(X, default_n_init=10)\n",
      "c:\\Users\\Jared\\Desktop\\Coding\\PersonalizedAIEmailing\\env\\Lib\\site-packages\\sklearn\\cluster\\_kmeans.py:1416: FutureWarning: The default value of `n_init` will change from 10 to 'auto' in 1.4. Set the value of `n_init` explicitly to suppress the warning\n",
      "  super()._check_params_vs_input(X, default_n_init=10)\n",
      "c:\\Users\\Jared\\Desktop\\Coding\\PersonalizedAIEmailing\\env\\Lib\\site-packages\\sklearn\\cluster\\_kmeans.py:1416: FutureWarning: The default value of `n_init` will change from 10 to 'auto' in 1.4. Set the value of `n_init` explicitly to suppress the warning\n",
      "  super()._check_params_vs_input(X, default_n_init=10)\n",
      "c:\\Users\\Jared\\Desktop\\Coding\\PersonalizedAIEmailing\\env\\Lib\\site-packages\\sklearn\\cluster\\_kmeans.py:1416: FutureWarning: The default value of `n_init` will change from 10 to 'auto' in 1.4. Set the value of `n_init` explicitly to suppress the warning\n",
      "  super()._check_params_vs_input(X, default_n_init=10)\n"
     ]
    },
    {
     "data": {
      "text/html": [
       "<img src='data:image/png;base64,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' style='max-width:100%; margin: auto; display: block; '/>"
      ],
      "text/plain": [
       ":Layout\n",
       "   .Curve.I  :Curve   [k]   (inertia)\n",
       "   .Curve.II :Curve   [k]   (inertia)"
      ]
     },
     "execution_count": 40,
     "metadata": {
      "application/vnd.holoviews_exec.v0+json": {}
     },
     "output_type": "execute_result"
    }
   ],
   "source": [
    "# Composite plot to contrast the Elbow curves\n",
    "# Create a list with the number of k-values from 1 to 11\n",
    "inertia = []\n",
    "k = list(range(1, 11))\n",
    "\n",
    "# Create an empty list to store the inertia values\n",
    "inertia = []\n",
    "\n",
    "# Create a for loop to compute the inertia with each possible value of k\n",
    "# Inside the loop:\n",
    "# 1. Create a KMeans model using the loop counter for the n_clusters\n",
    "# 2. Fit the model to the data using `df_market_data_scaled`\n",
    "# 3. Append the model.inertia_ to the inertia list\n",
    "for i in k:\n",
    "    km = KMeans(n_clusters=i, random_state=0)\n",
    "    km.fit(df_crypto_scaled)\n",
    "    inertia.append(km.inertia_)\n",
    "\n",
    "# Create a dictionary with the data to plot the Elbow curve\n",
    "elbow_data = {\"k\": k, \"inertia\": inertia}\n",
    "\n",
    "# Create a DataFrame with the data to plot the Elbow curve\n",
    "df_elbow = pd.DataFrame(elbow_data)\n",
    "\n",
    "# Plot a line chart with all the inertia values computed with\n",
    "# the different values of k to visually identify the optimal value for k.\n",
    "# Print the plot to screen.\n",
    "df_elbow.hvplot.line(\n",
    "    x=\"k\",\n",
    "    y=\"inertia\",\n",
    "    title=\"Elbow Curve\",\n",
    "    xticks=k\n",
    ") + df_elbow.hvplot.line(\n",
    "    x=\"k\",\n",
    "    y=\"inertia\",\n",
    "    title=\"Elbow Curve\",\n",
    "    xticks=k\n",
    ")"
   ]
  },
  {
   "attachments": {},
   "cell_type": "markdown",
   "metadata": {},
   "source": [
    "#### Answer the following question: \n",
    "\n",
    "  * **Question:** After visually analyzing the cluster analysis results, what is the impact of using fewer features to cluster the data using K-Means?\n",
    "\n",
    "  * **Answer:** Using fewer features for K-Means clustering can make the analysis simpler and faster, but it might also mean losing important information. Fewer features can help focus on the most relevant data, reducing noise and making clusters easier to understand. However, if you remove too many or the wrong features, you might miss critical differences between clusters. It's a balance between making the model simpler and keeping enough information to accurately group the data."
   ]
  }
 ],
 "metadata": {
  "kernelspec": {
   "display_name": "Python 3 (ipykernel)",
   "language": "python",
   "name": "python3"
  },
  "language_info": {
   "codemirror_mode": {
    "name": "ipython",
    "version": 3
   },
   "file_extension": ".py",
   "mimetype": "text/x-python",
   "name": "python",
   "nbconvert_exporter": "python",
   "pygments_lexer": "ipython3",
   "version": "3.11.3"
  },
  "nteract": {
   "version": "0.28.0"
  },
  "vscode": {
   "interpreter": {
    "hash": "40d3a090f54c6569ab1632332b64b2c03c39dcf918b08424e98f38b5ae0af88f"
   }
  }
 },
 "nbformat": 4,
 "nbformat_minor": 4
}
